{
 "cells": [
  {
   "cell_type": "code",
   "execution_count": 5,
   "metadata": {},
   "outputs": [],
   "source": [
    "import pandas as pd\n",
    "import numpy as np\n",
    "import requests\n",
    "import time\n",
    "from tqdm import tqdm"
   ]
  },
  {
   "cell_type": "markdown",
   "metadata": {},
   "source": [
    "## Data Loading"
   ]
  },
  {
   "cell_type": "code",
   "execution_count": 8,
   "metadata": {},
   "outputs": [
    {
     "name": "stdout",
     "output_type": "stream",
     "text": [
      "      RecipID        1       2        3      4           5               6  \\\n",
      "0  6971800010  Cachaça  Zucker  Limette    Eis         NaN             NaN   \n",
      "1  7971878818    Wodka     Gin      Rum  Likör  Ananassaft  Grapefruitsaft   \n",
      "\n",
      "              7          8              9  ...   36   37   38   39   40   41  \\\n",
      "0           NaN        NaN            NaN  ...  NaN  NaN  NaN  NaN  NaN  NaN   \n",
      "1  Zitronensaft  Grenadine  Guaranapulver  ...  NaN  NaN  NaN  NaN  NaN  NaN   \n",
      "\n",
      "    42   43   44   45  \n",
      "0  NaN  NaN  NaN  NaN  \n",
      "1  NaN  NaN  NaN  NaN  \n",
      "\n",
      "[2 rows x 46 columns]\n"
     ]
    },
    {
     "name": "stderr",
     "output_type": "stream",
     "text": [
      "C:\\Users\\Anja\\AppData\\Local\\Temp\\ipykernel_18120\\605629537.py:3: DtypeWarning: Columns (36,37,38,39,40,41,42,43,44,45) have mixed types. Specify dtype option on import or set low_memory=False.\n",
      "  ingredients_df = pd.read_csv(ingredients_csv_path, sep=\";\", encoding=\"utf-8\")\n"
     ]
    }
   ],
   "source": [
    "ingredients_csv_path = \"../data/chefkoch22k/231110_Chefkoch22k_Ingredience.csv\"\n",
    "\n",
    "ingredients_df = pd.read_csv(ingredients_csv_path, sep=\";\", encoding=\"utf-8\")\n",
    "\n",
    "print(ingredients_df.head(2))"
   ]
  },
  {
   "cell_type": "markdown",
   "metadata": {},
   "source": [
    "## Enrichment: add column with recipe title"
   ]
  },
  {
   "cell_type": "code",
   "execution_count": 6,
   "metadata": {},
   "outputs": [],
   "source": [
    "chefkoch_api_base_url = \"https://api.chefkoch.de/v2/recipes/\"\n",
    "\n",
    "# adding a recipe id to the base url like this: https://api.chefkoch.de/v2/recipes/22641005721453\n",
    "# will return the recipe with the given id:\n",
    "# {\n",
    "#     \"id\": \"22641005721453\",\n",
    "#     \"type\": 0,\n",
    "#     \"title\": \"Forelle Müllerin\",\n",
    "#     ...\n",
    "# }\n",
    "\n",
    "# we can use this to get the recipe title for each recipe id in the ingredients_df\n",
    "# and add it to the ingredients_df"
   ]
  },
  {
   "cell_type": "code",
   "execution_count": 7,
   "metadata": {},
   "outputs": [
    {
     "name": "stderr",
     "output_type": "stream",
     "text": [
      "  9%|▉         | 20/222 [05:57<1:23:14, 24.72s/it]"
     ]
    },
    {
     "name": "stdout",
     "output_type": "stream",
     "text": [
      "An error occurred: 'title'\n"
     ]
    },
    {
     "name": "stderr",
     "output_type": "stream",
     "text": [
      " 67%|██████▋   | 148/222 [53:08<13:26, 10.90s/it] "
     ]
    },
    {
     "name": "stdout",
     "output_type": "stream",
     "text": [
      "An error occurred: 'title'\n"
     ]
    },
    {
     "name": "stderr",
     "output_type": "stream",
     "text": [
      " 95%|█████████▌| 212/222 [1:05:36<02:07, 12.74s/it]"
     ]
    },
    {
     "name": "stdout",
     "output_type": "stream",
     "text": [
      "An error occurred: 'title'\n",
      "An error occurred: 'title'\n",
      "An error occurred: 'title'\n",
      "An error occurred: 'title'\n"
     ]
    },
    {
     "name": "stderr",
     "output_type": "stream",
     "text": [
      " 96%|█████████▌| 213/222 [1:05:49<01:56, 12.98s/it]"
     ]
    },
    {
     "name": "stdout",
     "output_type": "stream",
     "text": [
      "An error occurred: 'title'\n",
      "An error occurred: 'title'\n"
     ]
    },
    {
     "name": "stderr",
     "output_type": "stream",
     "text": [
      " 96%|█████████▋| 214/222 [1:06:03<01:44, 13.04s/it]"
     ]
    },
    {
     "name": "stdout",
     "output_type": "stream",
     "text": [
      "An error occurred: 'title'\n",
      "An error occurred: 'title'\n",
      "An error occurred: 'title'\n",
      "An error occurred: 'title'\n",
      "An error occurred: 'title'\n"
     ]
    },
    {
     "name": "stderr",
     "output_type": "stream",
     "text": [
      " 97%|█████████▋| 215/222 [1:06:16<01:31, 13.06s/it]"
     ]
    },
    {
     "name": "stdout",
     "output_type": "stream",
     "text": [
      "An error occurred: 'title'\n"
     ]
    },
    {
     "name": "stderr",
     "output_type": "stream",
     "text": [
      " 98%|█████████▊| 217/222 [1:06:40<01:02, 12.45s/it]"
     ]
    },
    {
     "name": "stdout",
     "output_type": "stream",
     "text": [
      "An error occurred: 'title'\n"
     ]
    },
    {
     "name": "stderr",
     "output_type": "stream",
     "text": [
      " 98%|█████████▊| 218/222 [1:06:51<00:48, 12.05s/it]"
     ]
    },
    {
     "name": "stdout",
     "output_type": "stream",
     "text": [
      "An error occurred: 'title'\n"
     ]
    },
    {
     "name": "stderr",
     "output_type": "stream",
     "text": [
      " 99%|█████████▊| 219/222 [1:07:02<00:35, 11.73s/it]"
     ]
    },
    {
     "name": "stdout",
     "output_type": "stream",
     "text": [
      "An error occurred: 'title'\n"
     ]
    },
    {
     "name": "stderr",
     "output_type": "stream",
     "text": [
      " 99%|█████████▉| 220/222 [1:07:15<00:24, 12.23s/it]"
     ]
    },
    {
     "name": "stdout",
     "output_type": "stream",
     "text": [
      "An error occurred: 'title'\n",
      "An error occurred: 'title'\n",
      "An error occurred: 'title'\n",
      "An error occurred: 'title'\n",
      "An error occurred: 'title'\n"
     ]
    },
    {
     "name": "stderr",
     "output_type": "stream",
     "text": [
      "100%|█████████▉| 221/222 [1:07:40<00:16, 16.10s/it]"
     ]
    },
    {
     "name": "stdout",
     "output_type": "stream",
     "text": [
      "An error occurred: 'title'\n",
      "An error occurred: 'title'\n",
      "An error occurred: 'title'\n",
      "An error occurred: 'title'\n"
     ]
    },
    {
     "name": "stderr",
     "output_type": "stream",
     "text": [
      "100%|██████████| 222/222 [1:07:50<00:00, 18.34s/it]"
     ]
    },
    {
     "name": "stdout",
     "output_type": "stream",
     "text": [
      "       RecipID              1            2              3        4  \\\n",
      "0   6971800010        Cachaça       Zucker        Limette      Eis   \n",
      "1   7971878818          Wodka          Gin            Rum    Likör   \n",
      "2  23973004603     Petersilie  Chilischote  Knoblauchzehe  Garnele   \n",
      "3  43974876764  Schweinefilet        Möhre       Sellerie    Lauch   \n",
      "4  48974889052      Kaninchen       Butter   Fleischbrühe  Zwiebel   \n",
      "\n",
      "            5               6                 7              8              9  \\\n",
      "0         NaN             NaN               NaN            NaN            NaN   \n",
      "1  Ananassaft  Grapefruitsaft      Zitronensaft      Grenadine  Guaranapulver   \n",
      "2    Olivenöl             NaN               NaN            NaN            NaN   \n",
      "3    Brokkoli     Mostbröckli  Käse Appenzeller  Sauerhalbrahm       Weißwein   \n",
      "4       Möhre          Tomate             Speck           Salz        Pfeffer   \n",
      "\n",
      "   ...   37   38   39   40   41   42   43   44   45  \\\n",
      "0  ...  NaN  NaN  NaN  NaN  NaN  NaN  NaN  NaN  NaN   \n",
      "1  ...  NaN  NaN  NaN  NaN  NaN  NaN  NaN  NaN  NaN   \n",
      "2  ...  NaN  NaN  NaN  NaN  NaN  NaN  NaN  NaN  NaN   \n",
      "3  ...  NaN  NaN  NaN  NaN  NaN  NaN  NaN  NaN  NaN   \n",
      "4  ...  NaN  NaN  NaN  NaN  NaN  NaN  NaN  NaN  NaN   \n",
      "\n",
      "                     RecipeTitle  \n",
      "0                     Caipirinha  \n",
      "1  Pangalaktischer Donnergurgler  \n",
      "2  Tapas-Garnelen in Knoblauchöl  \n",
      "3              Appenzeller Filet  \n",
      "4                Bauernkaninchen  \n",
      "\n",
      "[5 rows x 47 columns]\n"
     ]
    },
    {
     "name": "stderr",
     "output_type": "stream",
     "text": [
      "\n"
     ]
    }
   ],
   "source": [
    "import concurrent.futures\n",
    "from tqdm import tqdm\n",
    "\n",
    "# Function to fetch recipe title\n",
    "def fetch_recipe_title(recipe_id):\n",
    "    delay = 1\n",
    "    while True:\n",
    "        try:\n",
    "            url = chefkoch_api_base_url + str(recipe_id)\n",
    "            response = requests.get(url)\n",
    "            if response.status_code == 429:\n",
    "                print(f\"Rate limit reached. Sleeping for {delay} seconds...\")\n",
    "                time.sleep(delay)\n",
    "                delay *= 2\n",
    "                continue\n",
    "            recipe_title = response.json()[\"title\"]\n",
    "            return recipe_title\n",
    "        except Exception as e:\n",
    "            print(f\"An error occurred: {e}\")\n",
    "            return None\n",
    "\n",
    "recipe_id_column = ingredients_df[\"RecipID\"]\n",
    "\n",
    "with concurrent.futures.ThreadPoolExecutor() as executor:\n",
    "    for i in tqdm(range(0, len(recipe_id_column), 100)):\n",
    "        recipe_titles = list(executor.map(fetch_recipe_title, recipe_id_column[i:i+100]))\n",
    "        ingredients_df.loc[i:i+99, \"RecipeTitle\"] = recipe_titles\n",
    "        ingredients_df.to_csv(\"data/chefkoch22k/ingredients_with_titles.csv\", index=False)\n",
    "\n",
    "print(ingredients_df.head())"
   ]
  },
  {
   "cell_type": "markdown",
   "metadata": {},
   "source": [
    "## "
   ]
  }
 ],
 "metadata": {
  "kernelspec": {
   "display_name": "anja-ma",
   "language": "python",
   "name": "python3"
  },
  "language_info": {
   "codemirror_mode": {
    "name": "ipython",
    "version": 3
   },
   "file_extension": ".py",
   "mimetype": "text/x-python",
   "name": "python",
   "nbconvert_exporter": "python",
   "pygments_lexer": "ipython3",
   "version": "3.12.1"
  }
 },
 "nbformat": 4,
 "nbformat_minor": 2
}
