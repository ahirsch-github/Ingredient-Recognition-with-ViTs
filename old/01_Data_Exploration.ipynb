{
 "cells": [
  {
   "cell_type": "code",
   "execution_count": null,
   "metadata": {},
   "outputs": [],
   "source": [
    "import pandas as pd\n",
    "from sklearn.cluster import KMeans\n",
    "from sklearn.metrics.pairwise import cosine_similarity\n",
    "import numpy as np\n",
    "import os"
   ]
  },
  {
   "cell_type": "markdown",
   "metadata": {},
   "source": [
    "## 1. Data Loading"
   ]
  },
  {
   "cell_type": "code",
   "execution_count": null,
   "metadata": {},
   "outputs": [],
   "source": [
    "ingredients = pd.read_csv('..\\data\\chefkoch22k\\ingredients_with_titles.csv')"
   ]
  },
  {
   "cell_type": "markdown",
   "metadata": {},
   "source": [
    "## 2. EDA"
   ]
  },
  {
   "cell_type": "code",
   "execution_count": 4,
   "metadata": {},
   "outputs": [
    {
     "name": "stdout",
     "output_type": "stream",
     "text": [
      "<class 'pandas.core.frame.DataFrame'>\n",
      "RangeIndex: 22137 entries, 0 to 22136\n",
      "Data columns (total 47 columns):\n",
      " #   Column       Non-Null Count  Dtype \n",
      "---  ------       --------------  ----- \n",
      " 0   RecipID      22137 non-null  int64 \n",
      " 1   1            22137 non-null  object\n",
      " 2   2            22132 non-null  object\n",
      " 3   3            22080 non-null  object\n",
      " 4   4            21895 non-null  object\n",
      " 5   5            21465 non-null  object\n",
      " 6   6            20576 non-null  object\n",
      " 7   7            19291 non-null  object\n",
      " 8   8            17627 non-null  object\n",
      " 9   9            15575 non-null  object\n",
      " 10  10           13295 non-null  object\n",
      " 11  11           10880 non-null  object\n",
      " 12  12           8670 non-null   object\n",
      " 13  13           6658 non-null   object\n",
      " 14  14           4994 non-null   object\n",
      " 15  15           3678 non-null   object\n",
      " 16  16           2665 non-null   object\n",
      " 17  17           1900 non-null   object\n",
      " 18  18           1364 non-null   object\n",
      " 19  19           989 non-null    object\n",
      " 20  20           717 non-null    object\n",
      " 21  21           534 non-null    object\n",
      " 22  22           377 non-null    object\n",
      " 23  23           289 non-null    object\n",
      " 24  24           200 non-null    object\n",
      " 25  25           153 non-null    object\n",
      " 26  26           117 non-null    object\n",
      " 27  27           89 non-null     object\n",
      " 28  28           68 non-null     object\n",
      " 29  29           50 non-null     object\n",
      " 30  30           39 non-null     object\n",
      " 31  31           30 non-null     object\n",
      " 32  32           21 non-null     object\n",
      " 33  33           16 non-null     object\n",
      " 34  34           15 non-null     object\n",
      " 35  35           11 non-null     object\n",
      " 36  36           6 non-null      object\n",
      " 37  37           4 non-null      object\n",
      " 38  38           2 non-null      object\n",
      " 39  39           2 non-null      object\n",
      " 40  40           2 non-null      object\n",
      " 41  41           1 non-null      object\n",
      " 42  42           1 non-null      object\n",
      " 43  43           1 non-null      object\n",
      " 44  44           1 non-null      object\n",
      " 45  45           1 non-null      object\n",
      " 46  RecipeTitle  22111 non-null  object\n",
      "dtypes: int64(1), object(46)\n",
      "memory usage: 7.9+ MB\n",
      "None\n"
     ]
    },
    {
     "data": {
      "text/html": [
       "<div>\n",
       "<style scoped>\n",
       "    .dataframe tbody tr th:only-of-type {\n",
       "        vertical-align: middle;\n",
       "    }\n",
       "\n",
       "    .dataframe tbody tr th {\n",
       "        vertical-align: top;\n",
       "    }\n",
       "\n",
       "    .dataframe thead th {\n",
       "        text-align: right;\n",
       "    }\n",
       "</style>\n",
       "<table border=\"1\" class=\"dataframe\">\n",
       "  <thead>\n",
       "    <tr style=\"text-align: right;\">\n",
       "      <th></th>\n",
       "      <th>RecipID</th>\n",
       "      <th>1</th>\n",
       "      <th>2</th>\n",
       "      <th>3</th>\n",
       "      <th>4</th>\n",
       "      <th>5</th>\n",
       "      <th>6</th>\n",
       "      <th>7</th>\n",
       "      <th>8</th>\n",
       "      <th>9</th>\n",
       "      <th>...</th>\n",
       "      <th>37</th>\n",
       "      <th>38</th>\n",
       "      <th>39</th>\n",
       "      <th>40</th>\n",
       "      <th>41</th>\n",
       "      <th>42</th>\n",
       "      <th>43</th>\n",
       "      <th>44</th>\n",
       "      <th>45</th>\n",
       "      <th>RecipeTitle</th>\n",
       "    </tr>\n",
       "  </thead>\n",
       "  <tbody>\n",
       "    <tr>\n",
       "      <th>0</th>\n",
       "      <td>6971800010</td>\n",
       "      <td>Cachaça</td>\n",
       "      <td>Zucker</td>\n",
       "      <td>Limette</td>\n",
       "      <td>Eis</td>\n",
       "      <td>NaN</td>\n",
       "      <td>NaN</td>\n",
       "      <td>NaN</td>\n",
       "      <td>NaN</td>\n",
       "      <td>NaN</td>\n",
       "      <td>...</td>\n",
       "      <td>NaN</td>\n",
       "      <td>NaN</td>\n",
       "      <td>NaN</td>\n",
       "      <td>NaN</td>\n",
       "      <td>NaN</td>\n",
       "      <td>NaN</td>\n",
       "      <td>NaN</td>\n",
       "      <td>NaN</td>\n",
       "      <td>NaN</td>\n",
       "      <td>Caipirinha</td>\n",
       "    </tr>\n",
       "    <tr>\n",
       "      <th>1</th>\n",
       "      <td>7971878818</td>\n",
       "      <td>Wodka</td>\n",
       "      <td>Gin</td>\n",
       "      <td>Rum</td>\n",
       "      <td>Likör</td>\n",
       "      <td>Ananassaft</td>\n",
       "      <td>Grapefruitsaft</td>\n",
       "      <td>Zitronensaft</td>\n",
       "      <td>Grenadine</td>\n",
       "      <td>Guaranapulver</td>\n",
       "      <td>...</td>\n",
       "      <td>NaN</td>\n",
       "      <td>NaN</td>\n",
       "      <td>NaN</td>\n",
       "      <td>NaN</td>\n",
       "      <td>NaN</td>\n",
       "      <td>NaN</td>\n",
       "      <td>NaN</td>\n",
       "      <td>NaN</td>\n",
       "      <td>NaN</td>\n",
       "      <td>Pangalaktischer Donnergurgler</td>\n",
       "    </tr>\n",
       "    <tr>\n",
       "      <th>2</th>\n",
       "      <td>23973004603</td>\n",
       "      <td>Petersilie</td>\n",
       "      <td>Chilischote</td>\n",
       "      <td>Knoblauchzehe</td>\n",
       "      <td>Garnele</td>\n",
       "      <td>Olivenöl</td>\n",
       "      <td>NaN</td>\n",
       "      <td>NaN</td>\n",
       "      <td>NaN</td>\n",
       "      <td>NaN</td>\n",
       "      <td>...</td>\n",
       "      <td>NaN</td>\n",
       "      <td>NaN</td>\n",
       "      <td>NaN</td>\n",
       "      <td>NaN</td>\n",
       "      <td>NaN</td>\n",
       "      <td>NaN</td>\n",
       "      <td>NaN</td>\n",
       "      <td>NaN</td>\n",
       "      <td>NaN</td>\n",
       "      <td>Tapas-Garnelen in Knoblauchöl</td>\n",
       "    </tr>\n",
       "  </tbody>\n",
       "</table>\n",
       "<p>3 rows × 47 columns</p>\n",
       "</div>"
      ],
      "text/plain": [
       "       RecipID           1            2              3        4           5  \\\n",
       "0   6971800010     Cachaça       Zucker        Limette      Eis         NaN   \n",
       "1   7971878818       Wodka          Gin            Rum    Likör  Ananassaft   \n",
       "2  23973004603  Petersilie  Chilischote  Knoblauchzehe  Garnele    Olivenöl   \n",
       "\n",
       "                6             7          8              9  ...   37   38   39  \\\n",
       "0             NaN           NaN        NaN            NaN  ...  NaN  NaN  NaN   \n",
       "1  Grapefruitsaft  Zitronensaft  Grenadine  Guaranapulver  ...  NaN  NaN  NaN   \n",
       "2             NaN           NaN        NaN            NaN  ...  NaN  NaN  NaN   \n",
       "\n",
       "    40   41   42   43   44   45                    RecipeTitle  \n",
       "0  NaN  NaN  NaN  NaN  NaN  NaN                     Caipirinha  \n",
       "1  NaN  NaN  NaN  NaN  NaN  NaN  Pangalaktischer Donnergurgler  \n",
       "2  NaN  NaN  NaN  NaN  NaN  NaN  Tapas-Garnelen in Knoblauchöl  \n",
       "\n",
       "[3 rows x 47 columns]"
      ]
     },
     "execution_count": 4,
     "metadata": {},
     "output_type": "execute_result"
    }
   ],
   "source": [
    "# Basic statistics\n",
    "print(ingredients.info())\n",
    "ingredients.head(3)"
   ]
  },
  {
   "cell_type": "code",
   "execution_count": 5,
   "metadata": {},
   "outputs": [
    {
     "name": "stdout",
     "output_type": "stream",
     "text": [
      "There are\n",
      " 26 \n",
      "NaN values in the RecipeTitle column\n"
     ]
    }
   ],
   "source": [
    "# Check number of NaN values in 'RecipeTitle' column\n",
    "print('There are\\n', ingredients['RecipeTitle'].isnull().sum(), '\\nNaN values in the RecipeTitle column')"
   ]
  },
  {
   "cell_type": "code",
   "execution_count": 6,
   "metadata": {},
   "outputs": [
    {
     "name": "stdout",
     "output_type": "stream",
     "text": [
      "There are\n",
      " 20476 (out of 22111 total),\n",
      "unique values in the RecipeTitle column\n"
     ]
    }
   ],
   "source": [
    "# Check number of unique values in 'RecipeTitle' column\n",
    "print('There are\\n', ingredients['RecipeTitle'].nunique(), '(out of', ingredients['RecipeTitle'].count(), 'total),\\nunique values in the RecipeTitle column')"
   ]
  },
  {
   "cell_type": "code",
   "execution_count": 7,
   "metadata": {},
   "outputs": [
    {
     "name": "stdout",
     "output_type": "stream",
     "text": [
      "Values and numbers of unique values in RecipeTitle column that appear at least 5 times:\n",
      " RecipeTitle\n",
      "Pizzateig                  40\n",
      "Quiche Lorraine            19\n",
      "Szegediner Gulasch         17\n",
      "Pizza                      15\n",
      "Ratatouille                13\n",
      "                           ..\n",
      "Spätzle                     5\n",
      "Griechischer Nudelsalat     5\n",
      "Shepherds Pie               5\n",
      "Griechischer Salat          5\n",
      "Porridge                    5\n",
      "Name: count, Length: 84, dtype: int64\n"
     ]
    }
   ],
   "source": [
    "# Values and numbers of unique values in 'RecipeTitle' column that appear at least 5 times\n",
    "# The Goal here is to get more images per recipe later on\n",
    "print('Values and numbers of unique values in RecipeTitle column that appear at least 5 times:\\n', ingredients['RecipeTitle'].value_counts()[ingredients['RecipeTitle'].value_counts() > 4])"
   ]
  },
  {
   "cell_type": "markdown",
   "metadata": {},
   "source": [
    "> Using exact title matching we would get 84 recipes with at least 5 images (=examples) per recipe.\n",
    ">\n",
    "> To better handle slightly varying titles, we can use embeddings of the titles and cluster them to find similar titles."
   ]
  },
  {
   "cell_type": "code",
   "execution_count": 15,
   "metadata": {},
   "outputs": [
    {
     "name": "stdout",
     "output_type": "stream",
     "text": [
      "There are\n",
      " 20427 \n",
      "unique values in the RecipeTitle column with non case sensitive\n",
      "Values and numbers of unique values in RecipeTitle column with non case sensitive that appear at least 5 times:\n",
      " RecipeTitle\n",
      "pizzateig                    40\n",
      "quiche lorraine              19\n",
      "szegediner gulasch           17\n",
      "pizza                        15\n",
      "ratatouille                  13\n",
      "                             ..\n",
      "saure kutteln                 5\n",
      "pastitsio                     5\n",
      "schwarzwälder kirschtorte     5\n",
      "basler brunsli                5\n",
      "schweizer wurstsalat          5\n",
      "Name: count, Length: 92, dtype: int64\n"
     ]
    }
   ],
   "source": [
    "# check the number of unique values in 'RecipeTitle' column with non case sensitive\t\n",
    "print('There are\\n', ingredients['RecipeTitle'].str.lower().nunique(), '\\nunique values in the RecipeTitle column with non case sensitive')\n",
    "\n",
    "# check the number of unique values in 'RecipeTitle' column with non case sensitive and that appear at least 5 times\n",
    "ingredients_lower = ingredients['RecipeTitle'].str.lower()\n",
    "print('Values and numbers of unique values in RecipeTitle column with non case sensitive that appear at least 5 times:\\n', ingredients_lower.value_counts()[ingredients_lower.value_counts() > 4])"
   ]
  },
  {
   "cell_type": "markdown",
   "metadata": {},
   "source": [
    "### 2.1 Better Title Grouping"
   ]
  },
  {
   "cell_type": "code",
   "execution_count": 9,
   "metadata": {},
   "outputs": [],
   "source": [
    "# Save 'RecipeTitle' column to txt file, one title per line\n",
    "# for batch-embedding via jina.ai online platform\n",
    "ingredients = ingredients.dropna(subset=['RecipeTitle'])\n",
    "ingredients['RecipeTitle'].to_csv('data\\chefkoch22k\\RecipeTitles.txt', index=False, header=False)"
   ]
  },
  {
   "cell_type": "markdown",
   "metadata": {},
   "source": [
    "> txt file was batch embedded via https://jina.ai/embeddings/#apiform -> \"BATCH JOB\"\n",
    ">\n",
    "> csv with embedded titles received via mail"
   ]
  },
  {
   "cell_type": "code",
   "execution_count": 10,
   "metadata": {},
   "outputs": [
    {
     "data": {
      "text/html": [
       "<div>\n",
       "<style scoped>\n",
       "    .dataframe tbody tr th:only-of-type {\n",
       "        vertical-align: middle;\n",
       "    }\n",
       "\n",
       "    .dataframe tbody tr th {\n",
       "        vertical-align: top;\n",
       "    }\n",
       "\n",
       "    .dataframe thead th {\n",
       "        text-align: right;\n",
       "    }\n",
       "</style>\n",
       "<table border=\"1\" class=\"dataframe\">\n",
       "  <thead>\n",
       "    <tr style=\"text-align: right;\">\n",
       "      <th></th>\n",
       "      <th>0</th>\n",
       "      <th>1</th>\n",
       "      <th>2</th>\n",
       "      <th>3</th>\n",
       "      <th>4</th>\n",
       "      <th>5</th>\n",
       "      <th>6</th>\n",
       "      <th>7</th>\n",
       "      <th>8</th>\n",
       "      <th>9</th>\n",
       "      <th>...</th>\n",
       "      <th>759</th>\n",
       "      <th>760</th>\n",
       "      <th>761</th>\n",
       "      <th>762</th>\n",
       "      <th>763</th>\n",
       "      <th>764</th>\n",
       "      <th>765</th>\n",
       "      <th>766</th>\n",
       "      <th>767</th>\n",
       "      <th>768</th>\n",
       "    </tr>\n",
       "  </thead>\n",
       "  <tbody>\n",
       "    <tr>\n",
       "      <th>0</th>\n",
       "      <td>Caipirinha</td>\n",
       "      <td>0.120758</td>\n",
       "      <td>0.304606</td>\n",
       "      <td>0.056581</td>\n",
       "      <td>-0.270121</td>\n",
       "      <td>-0.245992</td>\n",
       "      <td>0.05924</td>\n",
       "      <td>0.055542</td>\n",
       "      <td>-0.071887</td>\n",
       "      <td>0.021748</td>\n",
       "      <td>...</td>\n",
       "      <td>0.408936</td>\n",
       "      <td>0.048940</td>\n",
       "      <td>-0.291239</td>\n",
       "      <td>-0.116130</td>\n",
       "      <td>-0.097061</td>\n",
       "      <td>-0.180908</td>\n",
       "      <td>0.062099</td>\n",
       "      <td>0.050821</td>\n",
       "      <td>0.054998</td>\n",
       "      <td>0.000848</td>\n",
       "    </tr>\n",
       "    <tr>\n",
       "      <th>1</th>\n",
       "      <td>Pangalaktischer Donnergurgler</td>\n",
       "      <td>-0.139787</td>\n",
       "      <td>0.226951</td>\n",
       "      <td>0.027728</td>\n",
       "      <td>-0.064323</td>\n",
       "      <td>-0.030274</td>\n",
       "      <td>-0.14573</td>\n",
       "      <td>-0.208995</td>\n",
       "      <td>0.055307</td>\n",
       "      <td>0.092607</td>\n",
       "      <td>...</td>\n",
       "      <td>0.189836</td>\n",
       "      <td>0.311412</td>\n",
       "      <td>-0.041982</td>\n",
       "      <td>0.037467</td>\n",
       "      <td>-0.015713</td>\n",
       "      <td>-0.001085</td>\n",
       "      <td>0.204901</td>\n",
       "      <td>0.084689</td>\n",
       "      <td>0.011980</td>\n",
       "      <td>0.150595</td>\n",
       "    </tr>\n",
       "  </tbody>\n",
       "</table>\n",
       "<p>2 rows × 769 columns</p>\n",
       "</div>"
      ],
      "text/plain": [
       "                             0         1         2         3         4    \\\n",
       "0                     Caipirinha  0.120758  0.304606  0.056581 -0.270121   \n",
       "1  Pangalaktischer Donnergurgler -0.139787  0.226951  0.027728 -0.064323   \n",
       "\n",
       "        5        6         7         8         9    ...       759       760  \\\n",
       "0 -0.245992  0.05924  0.055542 -0.071887  0.021748  ...  0.408936  0.048940   \n",
       "1 -0.030274 -0.14573 -0.208995  0.055307  0.092607  ...  0.189836  0.311412   \n",
       "\n",
       "        761       762       763       764       765       766       767  \\\n",
       "0 -0.291239 -0.116130 -0.097061 -0.180908  0.062099  0.050821  0.054998   \n",
       "1 -0.041982  0.037467 -0.015713 -0.001085  0.204901  0.084689  0.011980   \n",
       "\n",
       "        768  \n",
       "0  0.000848  \n",
       "1  0.150595  \n",
       "\n",
       "[2 rows x 769 columns]"
      ]
     },
     "execution_count": 10,
     "metadata": {},
     "output_type": "execute_result"
    }
   ],
   "source": [
    "# load embeddings csv\n",
    "embeddings = pd.read_csv('data\\chefkoch22k\\\\20240428_152946_RecipeTitles_with_ids_embedding.csv', header=None)\n",
    "\n",
    "embeddings.head(2)"
   ]
  },
  {
   "cell_type": "code",
   "execution_count": 11,
   "metadata": {},
   "outputs": [
    {
     "ename": "KeyboardInterrupt",
     "evalue": "",
     "output_type": "error",
     "traceback": [
      "\u001b[1;31m---------------------------------------------------------------------------\u001b[0m",
      "\u001b[1;31mKeyboardInterrupt\u001b[0m                         Traceback (most recent call last)",
      "Cell \u001b[1;32mIn[11], line 13\u001b[0m\n\u001b[0;32m     10\u001b[0m merged\u001b[38;5;241m.\u001b[39mrename(columns\u001b[38;5;241m=\u001b[39mcol_rename, inplace\u001b[38;5;241m=\u001b[39m\u001b[38;5;28;01mTrue\u001b[39;00m)\n\u001b[0;32m     12\u001b[0m \u001b[38;5;66;03m# save merged dataframe to csv\u001b[39;00m\n\u001b[1;32m---> 13\u001b[0m \u001b[43mmerged\u001b[49m\u001b[38;5;241;43m.\u001b[39;49m\u001b[43mto_csv\u001b[49m\u001b[43m(\u001b[49m\u001b[38;5;124;43m'\u001b[39;49m\u001b[38;5;124;43mdata\u001b[39;49m\u001b[38;5;124;43m\\\u001b[39;49m\u001b[38;5;124;43mchefkoch22k\u001b[39;49m\u001b[38;5;124;43m\\\u001b[39;49m\u001b[38;5;124;43mingredients_with_titles_and_embeddings.csv\u001b[39;49m\u001b[38;5;124;43m'\u001b[39;49m\u001b[43m,\u001b[49m\u001b[43m \u001b[49m\u001b[43mindex\u001b[49m\u001b[38;5;241;43m=\u001b[39;49m\u001b[38;5;28;43;01mFalse\u001b[39;49;00m\u001b[43m)\u001b[49m\n\u001b[0;32m     14\u001b[0m merged\u001b[38;5;241m.\u001b[39mhead(\u001b[38;5;241m2\u001b[39m)\n",
      "File \u001b[1;32md:\\MA\\MA\\.venv\\Lib\\site-packages\\pandas\\util\\_decorators.py:333\u001b[0m, in \u001b[0;36mdeprecate_nonkeyword_arguments.<locals>.decorate.<locals>.wrapper\u001b[1;34m(*args, **kwargs)\u001b[0m\n\u001b[0;32m    327\u001b[0m \u001b[38;5;28;01mif\u001b[39;00m \u001b[38;5;28mlen\u001b[39m(args) \u001b[38;5;241m>\u001b[39m num_allow_args:\n\u001b[0;32m    328\u001b[0m     warnings\u001b[38;5;241m.\u001b[39mwarn(\n\u001b[0;32m    329\u001b[0m         msg\u001b[38;5;241m.\u001b[39mformat(arguments\u001b[38;5;241m=\u001b[39m_format_argument_list(allow_args)),\n\u001b[0;32m    330\u001b[0m         \u001b[38;5;167;01mFutureWarning\u001b[39;00m,\n\u001b[0;32m    331\u001b[0m         stacklevel\u001b[38;5;241m=\u001b[39mfind_stack_level(),\n\u001b[0;32m    332\u001b[0m     )\n\u001b[1;32m--> 333\u001b[0m \u001b[38;5;28;01mreturn\u001b[39;00m \u001b[43mfunc\u001b[49m\u001b[43m(\u001b[49m\u001b[38;5;241;43m*\u001b[39;49m\u001b[43margs\u001b[49m\u001b[43m,\u001b[49m\u001b[43m \u001b[49m\u001b[38;5;241;43m*\u001b[39;49m\u001b[38;5;241;43m*\u001b[39;49m\u001b[43mkwargs\u001b[49m\u001b[43m)\u001b[49m\n",
      "File \u001b[1;32md:\\MA\\MA\\.venv\\Lib\\site-packages\\pandas\\core\\generic.py:3967\u001b[0m, in \u001b[0;36mNDFrame.to_csv\u001b[1;34m(self, path_or_buf, sep, na_rep, float_format, columns, header, index, index_label, mode, encoding, compression, quoting, quotechar, lineterminator, chunksize, date_format, doublequote, escapechar, decimal, errors, storage_options)\u001b[0m\n\u001b[0;32m   3956\u001b[0m df \u001b[38;5;241m=\u001b[39m \u001b[38;5;28mself\u001b[39m \u001b[38;5;28;01mif\u001b[39;00m \u001b[38;5;28misinstance\u001b[39m(\u001b[38;5;28mself\u001b[39m, ABCDataFrame) \u001b[38;5;28;01melse\u001b[39;00m \u001b[38;5;28mself\u001b[39m\u001b[38;5;241m.\u001b[39mto_frame()\n\u001b[0;32m   3958\u001b[0m formatter \u001b[38;5;241m=\u001b[39m DataFrameFormatter(\n\u001b[0;32m   3959\u001b[0m     frame\u001b[38;5;241m=\u001b[39mdf,\n\u001b[0;32m   3960\u001b[0m     header\u001b[38;5;241m=\u001b[39mheader,\n\u001b[1;32m   (...)\u001b[0m\n\u001b[0;32m   3964\u001b[0m     decimal\u001b[38;5;241m=\u001b[39mdecimal,\n\u001b[0;32m   3965\u001b[0m )\n\u001b[1;32m-> 3967\u001b[0m \u001b[38;5;28;01mreturn\u001b[39;00m \u001b[43mDataFrameRenderer\u001b[49m\u001b[43m(\u001b[49m\u001b[43mformatter\u001b[49m\u001b[43m)\u001b[49m\u001b[38;5;241;43m.\u001b[39;49m\u001b[43mto_csv\u001b[49m\u001b[43m(\u001b[49m\n\u001b[0;32m   3968\u001b[0m \u001b[43m    \u001b[49m\u001b[43mpath_or_buf\u001b[49m\u001b[43m,\u001b[49m\n\u001b[0;32m   3969\u001b[0m \u001b[43m    \u001b[49m\u001b[43mlineterminator\u001b[49m\u001b[38;5;241;43m=\u001b[39;49m\u001b[43mlineterminator\u001b[49m\u001b[43m,\u001b[49m\n\u001b[0;32m   3970\u001b[0m \u001b[43m    \u001b[49m\u001b[43msep\u001b[49m\u001b[38;5;241;43m=\u001b[39;49m\u001b[43msep\u001b[49m\u001b[43m,\u001b[49m\n\u001b[0;32m   3971\u001b[0m \u001b[43m    \u001b[49m\u001b[43mencoding\u001b[49m\u001b[38;5;241;43m=\u001b[39;49m\u001b[43mencoding\u001b[49m\u001b[43m,\u001b[49m\n\u001b[0;32m   3972\u001b[0m \u001b[43m    \u001b[49m\u001b[43merrors\u001b[49m\u001b[38;5;241;43m=\u001b[39;49m\u001b[43merrors\u001b[49m\u001b[43m,\u001b[49m\n\u001b[0;32m   3973\u001b[0m \u001b[43m    \u001b[49m\u001b[43mcompression\u001b[49m\u001b[38;5;241;43m=\u001b[39;49m\u001b[43mcompression\u001b[49m\u001b[43m,\u001b[49m\n\u001b[0;32m   3974\u001b[0m \u001b[43m    \u001b[49m\u001b[43mquoting\u001b[49m\u001b[38;5;241;43m=\u001b[39;49m\u001b[43mquoting\u001b[49m\u001b[43m,\u001b[49m\n\u001b[0;32m   3975\u001b[0m \u001b[43m    \u001b[49m\u001b[43mcolumns\u001b[49m\u001b[38;5;241;43m=\u001b[39;49m\u001b[43mcolumns\u001b[49m\u001b[43m,\u001b[49m\n\u001b[0;32m   3976\u001b[0m \u001b[43m    \u001b[49m\u001b[43mindex_label\u001b[49m\u001b[38;5;241;43m=\u001b[39;49m\u001b[43mindex_label\u001b[49m\u001b[43m,\u001b[49m\n\u001b[0;32m   3977\u001b[0m \u001b[43m    \u001b[49m\u001b[43mmode\u001b[49m\u001b[38;5;241;43m=\u001b[39;49m\u001b[43mmode\u001b[49m\u001b[43m,\u001b[49m\n\u001b[0;32m   3978\u001b[0m \u001b[43m    \u001b[49m\u001b[43mchunksize\u001b[49m\u001b[38;5;241;43m=\u001b[39;49m\u001b[43mchunksize\u001b[49m\u001b[43m,\u001b[49m\n\u001b[0;32m   3979\u001b[0m \u001b[43m    \u001b[49m\u001b[43mquotechar\u001b[49m\u001b[38;5;241;43m=\u001b[39;49m\u001b[43mquotechar\u001b[49m\u001b[43m,\u001b[49m\n\u001b[0;32m   3980\u001b[0m \u001b[43m    \u001b[49m\u001b[43mdate_format\u001b[49m\u001b[38;5;241;43m=\u001b[39;49m\u001b[43mdate_format\u001b[49m\u001b[43m,\u001b[49m\n\u001b[0;32m   3981\u001b[0m \u001b[43m    \u001b[49m\u001b[43mdoublequote\u001b[49m\u001b[38;5;241;43m=\u001b[39;49m\u001b[43mdoublequote\u001b[49m\u001b[43m,\u001b[49m\n\u001b[0;32m   3982\u001b[0m \u001b[43m    \u001b[49m\u001b[43mescapechar\u001b[49m\u001b[38;5;241;43m=\u001b[39;49m\u001b[43mescapechar\u001b[49m\u001b[43m,\u001b[49m\n\u001b[0;32m   3983\u001b[0m \u001b[43m    \u001b[49m\u001b[43mstorage_options\u001b[49m\u001b[38;5;241;43m=\u001b[39;49m\u001b[43mstorage_options\u001b[49m\u001b[43m,\u001b[49m\n\u001b[0;32m   3984\u001b[0m \u001b[43m\u001b[49m\u001b[43m)\u001b[49m\n",
      "File \u001b[1;32md:\\MA\\MA\\.venv\\Lib\\site-packages\\pandas\\io\\formats\\format.py:1014\u001b[0m, in \u001b[0;36mDataFrameRenderer.to_csv\u001b[1;34m(self, path_or_buf, encoding, sep, columns, index_label, mode, compression, quoting, quotechar, lineterminator, chunksize, date_format, doublequote, escapechar, errors, storage_options)\u001b[0m\n\u001b[0;32m    993\u001b[0m     created_buffer \u001b[38;5;241m=\u001b[39m \u001b[38;5;28;01mFalse\u001b[39;00m\n\u001b[0;32m    995\u001b[0m csv_formatter \u001b[38;5;241m=\u001b[39m CSVFormatter(\n\u001b[0;32m    996\u001b[0m     path_or_buf\u001b[38;5;241m=\u001b[39mpath_or_buf,\n\u001b[0;32m    997\u001b[0m     lineterminator\u001b[38;5;241m=\u001b[39mlineterminator,\n\u001b[1;32m   (...)\u001b[0m\n\u001b[0;32m   1012\u001b[0m     formatter\u001b[38;5;241m=\u001b[39m\u001b[38;5;28mself\u001b[39m\u001b[38;5;241m.\u001b[39mfmt,\n\u001b[0;32m   1013\u001b[0m )\n\u001b[1;32m-> 1014\u001b[0m \u001b[43mcsv_formatter\u001b[49m\u001b[38;5;241;43m.\u001b[39;49m\u001b[43msave\u001b[49m\u001b[43m(\u001b[49m\u001b[43m)\u001b[49m\n\u001b[0;32m   1016\u001b[0m \u001b[38;5;28;01mif\u001b[39;00m created_buffer:\n\u001b[0;32m   1017\u001b[0m     \u001b[38;5;28;01massert\u001b[39;00m \u001b[38;5;28misinstance\u001b[39m(path_or_buf, StringIO)\n",
      "File \u001b[1;32md:\\MA\\MA\\.venv\\Lib\\site-packages\\pandas\\io\\formats\\csvs.py:270\u001b[0m, in \u001b[0;36mCSVFormatter.save\u001b[1;34m(self)\u001b[0m\n\u001b[0;32m    251\u001b[0m \u001b[38;5;28;01mwith\u001b[39;00m get_handle(\n\u001b[0;32m    252\u001b[0m     \u001b[38;5;28mself\u001b[39m\u001b[38;5;241m.\u001b[39mfilepath_or_buffer,\n\u001b[0;32m    253\u001b[0m     \u001b[38;5;28mself\u001b[39m\u001b[38;5;241m.\u001b[39mmode,\n\u001b[1;32m   (...)\u001b[0m\n\u001b[0;32m    258\u001b[0m ) \u001b[38;5;28;01mas\u001b[39;00m handles:\n\u001b[0;32m    259\u001b[0m     \u001b[38;5;66;03m# Note: self.encoding is irrelevant here\u001b[39;00m\n\u001b[0;32m    260\u001b[0m     \u001b[38;5;28mself\u001b[39m\u001b[38;5;241m.\u001b[39mwriter \u001b[38;5;241m=\u001b[39m csvlib\u001b[38;5;241m.\u001b[39mwriter(\n\u001b[0;32m    261\u001b[0m         handles\u001b[38;5;241m.\u001b[39mhandle,\n\u001b[0;32m    262\u001b[0m         lineterminator\u001b[38;5;241m=\u001b[39m\u001b[38;5;28mself\u001b[39m\u001b[38;5;241m.\u001b[39mlineterminator,\n\u001b[1;32m   (...)\u001b[0m\n\u001b[0;32m    267\u001b[0m         quotechar\u001b[38;5;241m=\u001b[39m\u001b[38;5;28mself\u001b[39m\u001b[38;5;241m.\u001b[39mquotechar,\n\u001b[0;32m    268\u001b[0m     )\n\u001b[1;32m--> 270\u001b[0m     \u001b[38;5;28;43mself\u001b[39;49m\u001b[38;5;241;43m.\u001b[39;49m\u001b[43m_save\u001b[49m\u001b[43m(\u001b[49m\u001b[43m)\u001b[49m\n",
      "File \u001b[1;32md:\\MA\\MA\\.venv\\Lib\\site-packages\\pandas\\io\\formats\\csvs.py:275\u001b[0m, in \u001b[0;36mCSVFormatter._save\u001b[1;34m(self)\u001b[0m\n\u001b[0;32m    273\u001b[0m \u001b[38;5;28;01mif\u001b[39;00m \u001b[38;5;28mself\u001b[39m\u001b[38;5;241m.\u001b[39m_need_to_save_header:\n\u001b[0;32m    274\u001b[0m     \u001b[38;5;28mself\u001b[39m\u001b[38;5;241m.\u001b[39m_save_header()\n\u001b[1;32m--> 275\u001b[0m \u001b[38;5;28;43mself\u001b[39;49m\u001b[38;5;241;43m.\u001b[39;49m\u001b[43m_save_body\u001b[49m\u001b[43m(\u001b[49m\u001b[43m)\u001b[49m\n",
      "File \u001b[1;32md:\\MA\\MA\\.venv\\Lib\\site-packages\\pandas\\io\\formats\\csvs.py:313\u001b[0m, in \u001b[0;36mCSVFormatter._save_body\u001b[1;34m(self)\u001b[0m\n\u001b[0;32m    311\u001b[0m \u001b[38;5;28;01mif\u001b[39;00m start_i \u001b[38;5;241m>\u001b[39m\u001b[38;5;241m=\u001b[39m end_i:\n\u001b[0;32m    312\u001b[0m     \u001b[38;5;28;01mbreak\u001b[39;00m\n\u001b[1;32m--> 313\u001b[0m \u001b[38;5;28;43mself\u001b[39;49m\u001b[38;5;241;43m.\u001b[39;49m\u001b[43m_save_chunk\u001b[49m\u001b[43m(\u001b[49m\u001b[43mstart_i\u001b[49m\u001b[43m,\u001b[49m\u001b[43m \u001b[49m\u001b[43mend_i\u001b[49m\u001b[43m)\u001b[49m\n",
      "File \u001b[1;32md:\\MA\\MA\\.venv\\Lib\\site-packages\\pandas\\io\\formats\\csvs.py:320\u001b[0m, in \u001b[0;36mCSVFormatter._save_chunk\u001b[1;34m(self, start_i, end_i)\u001b[0m\n\u001b[0;32m    317\u001b[0m slicer \u001b[38;5;241m=\u001b[39m \u001b[38;5;28mslice\u001b[39m(start_i, end_i)\n\u001b[0;32m    318\u001b[0m df \u001b[38;5;241m=\u001b[39m \u001b[38;5;28mself\u001b[39m\u001b[38;5;241m.\u001b[39mobj\u001b[38;5;241m.\u001b[39miloc[slicer]\n\u001b[1;32m--> 320\u001b[0m res \u001b[38;5;241m=\u001b[39m \u001b[43mdf\u001b[49m\u001b[38;5;241;43m.\u001b[39;49m\u001b[43m_get_values_for_csv\u001b[49m\u001b[43m(\u001b[49m\u001b[38;5;241;43m*\u001b[39;49m\u001b[38;5;241;43m*\u001b[39;49m\u001b[38;5;28;43mself\u001b[39;49m\u001b[38;5;241;43m.\u001b[39;49m\u001b[43m_number_format\u001b[49m\u001b[43m)\u001b[49m\n\u001b[0;32m    321\u001b[0m data \u001b[38;5;241m=\u001b[39m \u001b[38;5;28mlist\u001b[39m(res\u001b[38;5;241m.\u001b[39m_iter_column_arrays())\n\u001b[0;32m    323\u001b[0m ix \u001b[38;5;241m=\u001b[39m \u001b[38;5;28mself\u001b[39m\u001b[38;5;241m.\u001b[39mdata_index[slicer]\u001b[38;5;241m.\u001b[39m_get_values_for_csv(\u001b[38;5;241m*\u001b[39m\u001b[38;5;241m*\u001b[39m\u001b[38;5;28mself\u001b[39m\u001b[38;5;241m.\u001b[39m_number_format)\n",
      "File \u001b[1;32md:\\MA\\MA\\.venv\\Lib\\site-packages\\pandas\\core\\frame.py:1410\u001b[0m, in \u001b[0;36mDataFrame._get_values_for_csv\u001b[1;34m(self, float_format, date_format, decimal, na_rep, quoting)\u001b[0m\n\u001b[0;32m   1400\u001b[0m \u001b[38;5;28;01mdef\u001b[39;00m \u001b[38;5;21m_get_values_for_csv\u001b[39m(\n\u001b[0;32m   1401\u001b[0m     \u001b[38;5;28mself\u001b[39m,\n\u001b[0;32m   1402\u001b[0m     \u001b[38;5;241m*\u001b[39m,\n\u001b[1;32m   (...)\u001b[0m\n\u001b[0;32m   1408\u001b[0m ) \u001b[38;5;241m-\u001b[39m\u001b[38;5;241m>\u001b[39m Self:\n\u001b[0;32m   1409\u001b[0m     \u001b[38;5;66;03m# helper used by to_csv\u001b[39;00m\n\u001b[1;32m-> 1410\u001b[0m     mgr \u001b[38;5;241m=\u001b[39m \u001b[38;5;28;43mself\u001b[39;49m\u001b[38;5;241;43m.\u001b[39;49m\u001b[43m_mgr\u001b[49m\u001b[38;5;241;43m.\u001b[39;49m\u001b[43mget_values_for_csv\u001b[49m\u001b[43m(\u001b[49m\n\u001b[0;32m   1411\u001b[0m \u001b[43m        \u001b[49m\u001b[43mfloat_format\u001b[49m\u001b[38;5;241;43m=\u001b[39;49m\u001b[43mfloat_format\u001b[49m\u001b[43m,\u001b[49m\n\u001b[0;32m   1412\u001b[0m \u001b[43m        \u001b[49m\u001b[43mdate_format\u001b[49m\u001b[38;5;241;43m=\u001b[39;49m\u001b[43mdate_format\u001b[49m\u001b[43m,\u001b[49m\n\u001b[0;32m   1413\u001b[0m \u001b[43m        \u001b[49m\u001b[43mdecimal\u001b[49m\u001b[38;5;241;43m=\u001b[39;49m\u001b[43mdecimal\u001b[49m\u001b[43m,\u001b[49m\n\u001b[0;32m   1414\u001b[0m \u001b[43m        \u001b[49m\u001b[43mna_rep\u001b[49m\u001b[38;5;241;43m=\u001b[39;49m\u001b[43mna_rep\u001b[49m\u001b[43m,\u001b[49m\n\u001b[0;32m   1415\u001b[0m \u001b[43m        \u001b[49m\u001b[43mquoting\u001b[49m\u001b[38;5;241;43m=\u001b[39;49m\u001b[43mquoting\u001b[49m\u001b[43m,\u001b[49m\n\u001b[0;32m   1416\u001b[0m \u001b[43m    \u001b[49m\u001b[43m)\u001b[49m\n\u001b[0;32m   1417\u001b[0m     \u001b[38;5;66;03m# error: Incompatible return value type (got \"DataFrame\", expected \"Self\")\u001b[39;00m\n\u001b[0;32m   1418\u001b[0m     \u001b[38;5;28;01mreturn\u001b[39;00m \u001b[38;5;28mself\u001b[39m\u001b[38;5;241m.\u001b[39m_constructor_from_mgr(mgr, axes\u001b[38;5;241m=\u001b[39mmgr\u001b[38;5;241m.\u001b[39maxes)\n",
      "File \u001b[1;32md:\\MA\\MA\\.venv\\Lib\\site-packages\\pandas\\core\\internals\\managers.py:466\u001b[0m, in \u001b[0;36mBaseBlockManager.get_values_for_csv\u001b[1;34m(self, float_format, date_format, decimal, na_rep, quoting)\u001b[0m\n\u001b[0;32m    459\u001b[0m \u001b[38;5;28;01mdef\u001b[39;00m \u001b[38;5;21mget_values_for_csv\u001b[39m(\n\u001b[0;32m    460\u001b[0m     \u001b[38;5;28mself\u001b[39m, \u001b[38;5;241m*\u001b[39m, float_format, date_format, decimal, na_rep: \u001b[38;5;28mstr\u001b[39m \u001b[38;5;241m=\u001b[39m \u001b[38;5;124m\"\u001b[39m\u001b[38;5;124mnan\u001b[39m\u001b[38;5;124m\"\u001b[39m, quoting\u001b[38;5;241m=\u001b[39m\u001b[38;5;28;01mNone\u001b[39;00m\n\u001b[0;32m    461\u001b[0m ) \u001b[38;5;241m-\u001b[39m\u001b[38;5;241m>\u001b[39m Self:\n\u001b[0;32m    462\u001b[0m \u001b[38;5;250m    \u001b[39m\u001b[38;5;124;03m\"\"\"\u001b[39;00m\n\u001b[0;32m    463\u001b[0m \u001b[38;5;124;03m    Convert values to native types (strings / python objects) that are used\u001b[39;00m\n\u001b[0;32m    464\u001b[0m \u001b[38;5;124;03m    in formatting (repr / csv).\u001b[39;00m\n\u001b[0;32m    465\u001b[0m \u001b[38;5;124;03m    \"\"\"\u001b[39;00m\n\u001b[1;32m--> 466\u001b[0m     \u001b[38;5;28;01mreturn\u001b[39;00m \u001b[38;5;28;43mself\u001b[39;49m\u001b[38;5;241;43m.\u001b[39;49m\u001b[43mapply\u001b[49m\u001b[43m(\u001b[49m\n\u001b[0;32m    467\u001b[0m \u001b[43m        \u001b[49m\u001b[38;5;124;43m\"\u001b[39;49m\u001b[38;5;124;43mget_values_for_csv\u001b[39;49m\u001b[38;5;124;43m\"\u001b[39;49m\u001b[43m,\u001b[49m\n\u001b[0;32m    468\u001b[0m \u001b[43m        \u001b[49m\u001b[43mna_rep\u001b[49m\u001b[38;5;241;43m=\u001b[39;49m\u001b[43mna_rep\u001b[49m\u001b[43m,\u001b[49m\n\u001b[0;32m    469\u001b[0m \u001b[43m        \u001b[49m\u001b[43mquoting\u001b[49m\u001b[38;5;241;43m=\u001b[39;49m\u001b[43mquoting\u001b[49m\u001b[43m,\u001b[49m\n\u001b[0;32m    470\u001b[0m \u001b[43m        \u001b[49m\u001b[43mfloat_format\u001b[49m\u001b[38;5;241;43m=\u001b[39;49m\u001b[43mfloat_format\u001b[49m\u001b[43m,\u001b[49m\n\u001b[0;32m    471\u001b[0m \u001b[43m        \u001b[49m\u001b[43mdate_format\u001b[49m\u001b[38;5;241;43m=\u001b[39;49m\u001b[43mdate_format\u001b[49m\u001b[43m,\u001b[49m\n\u001b[0;32m    472\u001b[0m \u001b[43m        \u001b[49m\u001b[43mdecimal\u001b[49m\u001b[38;5;241;43m=\u001b[39;49m\u001b[43mdecimal\u001b[49m\u001b[43m,\u001b[49m\n\u001b[0;32m    473\u001b[0m \u001b[43m    \u001b[49m\u001b[43m)\u001b[49m\n",
      "File \u001b[1;32md:\\MA\\MA\\.venv\\Lib\\site-packages\\pandas\\core\\internals\\managers.py:363\u001b[0m, in \u001b[0;36mBaseBlockManager.apply\u001b[1;34m(self, f, align_keys, **kwargs)\u001b[0m\n\u001b[0;32m    361\u001b[0m         applied \u001b[38;5;241m=\u001b[39m b\u001b[38;5;241m.\u001b[39mapply(f, \u001b[38;5;241m*\u001b[39m\u001b[38;5;241m*\u001b[39mkwargs)\n\u001b[0;32m    362\u001b[0m     \u001b[38;5;28;01melse\u001b[39;00m:\n\u001b[1;32m--> 363\u001b[0m         applied \u001b[38;5;241m=\u001b[39m \u001b[38;5;28;43mgetattr\u001b[39;49m\u001b[43m(\u001b[49m\u001b[43mb\u001b[49m\u001b[43m,\u001b[49m\u001b[43m \u001b[49m\u001b[43mf\u001b[49m\u001b[43m)\u001b[49m\u001b[43m(\u001b[49m\u001b[38;5;241;43m*\u001b[39;49m\u001b[38;5;241;43m*\u001b[39;49m\u001b[43mkwargs\u001b[49m\u001b[43m)\u001b[49m\n\u001b[0;32m    364\u001b[0m     result_blocks \u001b[38;5;241m=\u001b[39m extend_blocks(applied, result_blocks)\n\u001b[0;32m    366\u001b[0m out \u001b[38;5;241m=\u001b[39m \u001b[38;5;28mtype\u001b[39m(\u001b[38;5;28mself\u001b[39m)\u001b[38;5;241m.\u001b[39mfrom_blocks(result_blocks, \u001b[38;5;28mself\u001b[39m\u001b[38;5;241m.\u001b[39maxes)\n",
      "File \u001b[1;32md:\\MA\\MA\\.venv\\Lib\\site-packages\\pandas\\core\\internals\\blocks.py:780\u001b[0m, in \u001b[0;36mBlock.get_values_for_csv\u001b[1;34m(self, float_format, date_format, decimal, na_rep, quoting)\u001b[0m\n\u001b[0;32m    775\u001b[0m \u001b[38;5;129m@final\u001b[39m\n\u001b[0;32m    776\u001b[0m \u001b[38;5;28;01mdef\u001b[39;00m \u001b[38;5;21mget_values_for_csv\u001b[39m(\n\u001b[0;32m    777\u001b[0m     \u001b[38;5;28mself\u001b[39m, \u001b[38;5;241m*\u001b[39m, float_format, date_format, decimal, na_rep: \u001b[38;5;28mstr\u001b[39m \u001b[38;5;241m=\u001b[39m \u001b[38;5;124m\"\u001b[39m\u001b[38;5;124mnan\u001b[39m\u001b[38;5;124m\"\u001b[39m, quoting\u001b[38;5;241m=\u001b[39m\u001b[38;5;28;01mNone\u001b[39;00m\n\u001b[0;32m    778\u001b[0m ) \u001b[38;5;241m-\u001b[39m\u001b[38;5;241m>\u001b[39m Block:\n\u001b[0;32m    779\u001b[0m \u001b[38;5;250m    \u001b[39m\u001b[38;5;124;03m\"\"\"convert to our native types format\"\"\"\u001b[39;00m\n\u001b[1;32m--> 780\u001b[0m     result \u001b[38;5;241m=\u001b[39m \u001b[43mget_values_for_csv\u001b[49m\u001b[43m(\u001b[49m\n\u001b[0;32m    781\u001b[0m \u001b[43m        \u001b[49m\u001b[38;5;28;43mself\u001b[39;49m\u001b[38;5;241;43m.\u001b[39;49m\u001b[43mvalues\u001b[49m\u001b[43m,\u001b[49m\n\u001b[0;32m    782\u001b[0m \u001b[43m        \u001b[49m\u001b[43mna_rep\u001b[49m\u001b[38;5;241;43m=\u001b[39;49m\u001b[43mna_rep\u001b[49m\u001b[43m,\u001b[49m\n\u001b[0;32m    783\u001b[0m \u001b[43m        \u001b[49m\u001b[43mquoting\u001b[49m\u001b[38;5;241;43m=\u001b[39;49m\u001b[43mquoting\u001b[49m\u001b[43m,\u001b[49m\n\u001b[0;32m    784\u001b[0m \u001b[43m        \u001b[49m\u001b[43mfloat_format\u001b[49m\u001b[38;5;241;43m=\u001b[39;49m\u001b[43mfloat_format\u001b[49m\u001b[43m,\u001b[49m\n\u001b[0;32m    785\u001b[0m \u001b[43m        \u001b[49m\u001b[43mdate_format\u001b[49m\u001b[38;5;241;43m=\u001b[39;49m\u001b[43mdate_format\u001b[49m\u001b[43m,\u001b[49m\n\u001b[0;32m    786\u001b[0m \u001b[43m        \u001b[49m\u001b[43mdecimal\u001b[49m\u001b[38;5;241;43m=\u001b[39;49m\u001b[43mdecimal\u001b[49m\u001b[43m,\u001b[49m\n\u001b[0;32m    787\u001b[0m \u001b[43m    \u001b[49m\u001b[43m)\u001b[49m\n\u001b[0;32m    788\u001b[0m     \u001b[38;5;28;01mreturn\u001b[39;00m \u001b[38;5;28mself\u001b[39m\u001b[38;5;241m.\u001b[39mmake_block(result)\n",
      "File \u001b[1;32md:\\MA\\MA\\.venv\\Lib\\site-packages\\pandas\\core\\indexes\\base.py:7838\u001b[0m, in \u001b[0;36mget_values_for_csv\u001b[1;34m(values, date_format, na_rep, quoting, float_format, decimal)\u001b[0m\n\u001b[0;32m   7835\u001b[0m \u001b[38;5;28;01melse\u001b[39;00m:\n\u001b[0;32m   7836\u001b[0m     values \u001b[38;5;241m=\u001b[39m np\u001b[38;5;241m.\u001b[39marray(values, dtype\u001b[38;5;241m=\u001b[39m\u001b[38;5;124m\"\u001b[39m\u001b[38;5;124mobject\u001b[39m\u001b[38;5;124m\"\u001b[39m)\n\u001b[1;32m-> 7838\u001b[0m \u001b[43mvalues\u001b[49m\u001b[43m[\u001b[49m\u001b[43mmask\u001b[49m\u001b[43m]\u001b[49m \u001b[38;5;241m=\u001b[39m na_rep\n\u001b[0;32m   7839\u001b[0m values \u001b[38;5;241m=\u001b[39m values\u001b[38;5;241m.\u001b[39mastype(\u001b[38;5;28mobject\u001b[39m, copy\u001b[38;5;241m=\u001b[39m\u001b[38;5;28;01mFalse\u001b[39;00m)\n\u001b[0;32m   7840\u001b[0m \u001b[38;5;28;01mreturn\u001b[39;00m values\n",
      "\u001b[1;31mKeyboardInterrupt\u001b[0m: "
     ]
    }
   ],
   "source": [
    "# add embeddings to ingridients dataframe\n",
    "\n",
    "# Ensure the two DataFrames have the same number of rows\n",
    "assert len(embeddings) == len(ingredients), \"DataFrames have different number of rows!\"\n",
    "\n",
    "merged = pd.concat([ingredients, embeddings.iloc[:, 1:]], axis=1)\n",
    "\n",
    "# rename the columns of the embeddings\n",
    "col_rename = {i: f'EB_dim_{i}' for i in range(1, 769)}\n",
    "merged.rename(columns=col_rename, inplace=True)\n",
    "\n",
    "# save merged dataframe to csv\n",
    "merged.to_csv('data\\chefkoch22k\\ingredients_with_titles_and_embeddings.csv', index=False)\n",
    "merged.head(2)"
   ]
  },
  {
   "cell_type": "markdown",
   "metadata": {},
   "source": [
    "#### a) K-Means Clustering"
   ]
  },
  {
   "cell_type": "code",
   "execution_count": null,
   "metadata": {},
   "outputs": [
    {
     "data": {
      "text/html": [
       "<div>\n",
       "<style scoped>\n",
       "    .dataframe tbody tr th:only-of-type {\n",
       "        vertical-align: middle;\n",
       "    }\n",
       "\n",
       "    .dataframe tbody tr th {\n",
       "        vertical-align: top;\n",
       "    }\n",
       "\n",
       "    .dataframe thead th {\n",
       "        text-align: right;\n",
       "    }\n",
       "</style>\n",
       "<table border=\"1\" class=\"dataframe\">\n",
       "  <thead>\n",
       "    <tr style=\"text-align: right;\">\n",
       "      <th></th>\n",
       "      <th>EB_dim_1</th>\n",
       "      <th>EB_dim_2</th>\n",
       "      <th>EB_dim_3</th>\n",
       "      <th>EB_dim_4</th>\n",
       "      <th>EB_dim_5</th>\n",
       "      <th>EB_dim_6</th>\n",
       "      <th>EB_dim_7</th>\n",
       "      <th>EB_dim_8</th>\n",
       "      <th>EB_dim_9</th>\n",
       "      <th>EB_dim_10</th>\n",
       "      <th>...</th>\n",
       "      <th>EB_dim_759</th>\n",
       "      <th>EB_dim_760</th>\n",
       "      <th>EB_dim_761</th>\n",
       "      <th>EB_dim_762</th>\n",
       "      <th>EB_dim_763</th>\n",
       "      <th>EB_dim_764</th>\n",
       "      <th>EB_dim_765</th>\n",
       "      <th>EB_dim_766</th>\n",
       "      <th>EB_dim_767</th>\n",
       "      <th>EB_dim_768</th>\n",
       "    </tr>\n",
       "  </thead>\n",
       "  <tbody>\n",
       "    <tr>\n",
       "      <th>0</th>\n",
       "      <td>0.120758</td>\n",
       "      <td>0.304606</td>\n",
       "      <td>0.056581</td>\n",
       "      <td>-0.270121</td>\n",
       "      <td>-0.245992</td>\n",
       "      <td>0.05924</td>\n",
       "      <td>0.055542</td>\n",
       "      <td>-0.071887</td>\n",
       "      <td>0.021748</td>\n",
       "      <td>-0.161123</td>\n",
       "      <td>...</td>\n",
       "      <td>0.408936</td>\n",
       "      <td>0.048940</td>\n",
       "      <td>-0.291239</td>\n",
       "      <td>-0.116130</td>\n",
       "      <td>-0.097061</td>\n",
       "      <td>-0.180908</td>\n",
       "      <td>0.062099</td>\n",
       "      <td>0.050821</td>\n",
       "      <td>0.054998</td>\n",
       "      <td>0.000848</td>\n",
       "    </tr>\n",
       "    <tr>\n",
       "      <th>1</th>\n",
       "      <td>-0.139787</td>\n",
       "      <td>0.226951</td>\n",
       "      <td>0.027728</td>\n",
       "      <td>-0.064323</td>\n",
       "      <td>-0.030274</td>\n",
       "      <td>-0.14573</td>\n",
       "      <td>-0.208995</td>\n",
       "      <td>0.055307</td>\n",
       "      <td>0.092607</td>\n",
       "      <td>-0.010225</td>\n",
       "      <td>...</td>\n",
       "      <td>0.189836</td>\n",
       "      <td>0.311412</td>\n",
       "      <td>-0.041982</td>\n",
       "      <td>0.037467</td>\n",
       "      <td>-0.015713</td>\n",
       "      <td>-0.001085</td>\n",
       "      <td>0.204901</td>\n",
       "      <td>0.084689</td>\n",
       "      <td>0.011980</td>\n",
       "      <td>0.150595</td>\n",
       "    </tr>\n",
       "  </tbody>\n",
       "</table>\n",
       "<p>2 rows × 768 columns</p>\n",
       "</div>"
      ],
      "text/plain": [
       "   EB_dim_1  EB_dim_2  EB_dim_3  EB_dim_4  EB_dim_5  EB_dim_6  EB_dim_7  \\\n",
       "0  0.120758  0.304606  0.056581 -0.270121 -0.245992   0.05924  0.055542   \n",
       "1 -0.139787  0.226951  0.027728 -0.064323 -0.030274  -0.14573 -0.208995   \n",
       "\n",
       "   EB_dim_8  EB_dim_9  EB_dim_10  ...  EB_dim_759  EB_dim_760  EB_dim_761  \\\n",
       "0 -0.071887  0.021748  -0.161123  ...    0.408936    0.048940   -0.291239   \n",
       "1  0.055307  0.092607  -0.010225  ...    0.189836    0.311412   -0.041982   \n",
       "\n",
       "   EB_dim_762  EB_dim_763  EB_dim_764  EB_dim_765  EB_dim_766  EB_dim_767  \\\n",
       "0   -0.116130   -0.097061   -0.180908    0.062099    0.050821    0.054998   \n",
       "1    0.037467   -0.015713   -0.001085    0.204901    0.084689    0.011980   \n",
       "\n",
       "   EB_dim_768  \n",
       "0    0.000848  \n",
       "1    0.150595  \n",
       "\n",
       "[2 rows x 768 columns]"
      ]
     },
     "execution_count": 10,
     "metadata": {},
     "output_type": "execute_result"
    }
   ],
   "source": [
    "# select only the embeddings columns\n",
    "embeddings = merged.loc[:, 'EB_dim_1':]\n",
    "embeddings.head(2)"
   ]
  },
  {
   "cell_type": "code",
   "execution_count": null,
   "metadata": {},
   "outputs": [
    {
     "name": "stdout",
     "output_type": "stream",
     "text": [
      "Number of dropped rows: 23\n"
     ]
    }
   ],
   "source": [
    "# fit k-means clustering\n",
    "\n",
    "# Remove rows with NaN values\n",
    "embeddings = embeddings.dropna()\n",
    "\n",
    "# check number of dropped rows\n",
    "print('Number of dropped rows:', len(merged) - len(embeddings))\n",
    "\n",
    "kmeans = KMeans(n_clusters=2000, random_state=0).fit(embeddings)"
   ]
  },
  {
   "cell_type": "code",
   "execution_count": null,
   "metadata": {},
   "outputs": [],
   "source": [
    "# show all values in 1st cluster\n",
    "\n",
    "# drop rows with NaN values in embeddings\n",
    "merged = merged.dropna(subset=(embeddings.columns.tolist()))\n",
    "\n",
    "# add cluster column to merged dataframe\n",
    "merged['cluster'] = kmeans.labels_"
   ]
  },
  {
   "cell_type": "code",
   "execution_count": null,
   "metadata": {},
   "outputs": [
    {
     "name": "stdout",
     "output_type": "stream",
     "text": [
      "34                                       Eier-Ragout\n",
      "485                           Eier-Blumenkohl-Ragout\n",
      "544                           Blumenkohl-Eier-Ragout\n",
      "2652                           Ofencurry à la allure\n",
      "2735                       Die weltbeste Schokotorte\n",
      "6961                              Hefeteig für Pizza\n",
      "7159                 Portugiesische Quittenmarmelade\n",
      "7861      Hähnchen - Zucchini - Auflauf in Senfsahne\n",
      "12135                     Griechische Thunfischpaste\n",
      "13180    Kaninchenleber mit Rosmarin, natur gebraten\n",
      "18944                Linsencurry mit Mango und Kokos\n",
      "Name: RecipeTitle, dtype: object\n"
     ]
    }
   ],
   "source": [
    "# show all titles in 1st cluster\n",
    "print(merged[merged['cluster'] == 0]['RecipeTitle'])"
   ]
  },
  {
   "cell_type": "markdown",
   "metadata": {},
   "source": [
    "> KMeans clustering was used to group the titles into 2000 clusters (number chosen by manual inspection of the clusters)\n",
    ">\n",
    "> -> Manual inspection of the clusters showed that the clusters were not very meaningful, trying different distance metrics"
   ]
  },
  {
   "cell_type": "markdown",
   "metadata": {},
   "source": [
    "#### b) Cosine Similarity for Title Grouping"
   ]
  },
  {
   "cell_type": "code",
   "execution_count": null,
   "metadata": {},
   "outputs": [],
   "source": [
    "# sklearn cosine similarity for each data point to each other data point\n",
    "cosine_sim = cosine_similarity(embeddings)"
   ]
  },
  {
   "cell_type": "code",
   "execution_count": null,
   "metadata": {},
   "outputs": [
    {
     "name": "stdout",
     "output_type": "stream",
     "text": [
      "Number of clusters: 21355\n"
     ]
    }
   ],
   "source": [
    "# create clusters based on cosine similarity\n",
    "# set threshold\n",
    "threshold = 0.99999999999999999999999999999999999\n",
    "\n",
    "# create empty list to store the clusters\n",
    "clusters = []\n",
    "\n",
    "\n",
    "def get_cluster(data_point, cluster):\n",
    "    # add data_point to cluster\n",
    "    cluster.append(data_point)\n",
    "    # get all data_points that are similar to data_point\n",
    "    similar_points = np.where(cosine_sim[data_point] > threshold)[0]\n",
    "    # remove data_point from similar_points\n",
    "    similar_points = similar_points[similar_points != data_point]\n",
    "    # remove all data_points that are already in the cluster\n",
    "    similar_points = similar_points[~np.isin(similar_points, cluster)]\n",
    "    # add all similar data_points to the cluster\n",
    "    for point in similar_points:\n",
    "        cluster = get_cluster(point, cluster)\n",
    "    return cluster\n",
    "\n",
    "\n",
    "# iterate over all data_points\n",
    "for i in range(len(embeddings)):\n",
    "    # check if data_point is already in a cluster\n",
    "    if not any([i in cluster for cluster in clusters]):\n",
    "        # create new cluster\n",
    "        clusters.append(get_cluster(i, []))\n",
    "\n",
    "# sort clusters by length\n",
    "clusters = sorted(clusters, key=len, reverse=True)\n",
    "\n",
    "# print number of clusters\n",
    "print('Number of clusters:', len(clusters))"
   ]
  },
  {
   "cell_type": "code",
   "execution_count": null,
   "metadata": {},
   "outputs": [
    {
     "name": "stdout",
     "output_type": "stream",
     "text": [
      "Cluster 0 : ['Pizzateig', 'Pizzateig', 'Pizzateig', 'Pizzateig', 'Flammkuchen mit Quark', 'Tomatensoße für Pizza', 'Panna Cotta mit weißer Schokolade', 'Kichererbsen - Bulgur - Auflauf', 'Kartoffelpuffer sehr einfach', 'Pelmeni', 'Wirsingrouladen mit Lamm', 'Die Original Tiroler Schlipfkrapfen', 'Fladenbrotpizza', 'Lulas Recheadas I', 'Batatas douradas', 'Steirisches Wurzelfleisch mit Safterdäpfeln', 'Marinierte Wildschweinmedaillons', 'Westfälisches Zwiebelfleisch', 'Korsische Kartoffelpfanne', 'Feines Edelfisch - Ragout', 'Ungarische Beigel', 'Wackelpudding - Bowle', 'Weiße Espresso - Panna Cotta mit Himbeeren', 'Schlesische Kartoffelklöße', 'Mediterrane Gemüsepfanne mit Hähnchenbrustfilet', 'Hähnchenleber mit Schmorzwiebeln', 'Aprikosen - Brûlée', 'Nudeln mit Räucherlachs und Zitronenpesto', 'Lammhack - Kürbis Auflauf', 'Rinderfilet mit Polentasternen und Bohnen im Speckmantel', 'Spaghetti Bolognese', 'Putenoberkeule aus dem Ofen', 'Kräuterspätzle', 'Geschmorte Balsamico - Tomaten', 'Zucchini mit Couscous-Feta-Füllung auf Tomatenbett  \"SuperNova\"', 'Rote Linsen-Curry mit Spaghetti', 'Püppis Pizzateig aus Thunfisch', 'Fideos con cerdo', 'Gefüllte Pizza-Brezeln mit Knoblauch-Dip', 'Pizzabrot mit Frischkäse, Zucchini und Mozzarella', 'Pizzabrot mit Frischkäse, Zucchini und Mozzarella', 'Gefüllte Pizza-Brezeln mit Knoblauch-Dip', 'Pizzabrot mit Frischkäse, Zucchini und Mozzarella', 'Fideos con cerdo', 'Gefüllte Pizza-Brezeln mit Knoblauch-Dip', 'Pizzabrot mit Frischkäse, Zucchini und Mozzarella', 'Püppis Pizzateig aus Thunfisch', 'Fideos con cerdo', 'Gefüllte Pizza-Brezeln mit Knoblauch-Dip', 'Pizzabrot mit Frischkäse, Zucchini und Mozzarella', 'Rote Linsen-Curry mit Spaghetti', 'Püppis Pizzateig aus Thunfisch', 'Fideos con cerdo', 'Gefüllte Pizza-Brezeln mit Knoblauch-Dip', 'Pizzabrot mit Frischkäse, Zucchini und Mozzarella', 'Zucchini mit Couscous-Feta-Füllung auf Tomatenbett  \"SuperNova\"', 'Rote Linsen-Curry mit Spaghetti', 'Püppis Pizzateig aus Thunfisch', 'Fideos con cerdo', 'Gefüllte Pizza-Brezeln mit Knoblauch-Dip', 'Pizzabrot mit Frischkäse, Zucchini und Mozzarella', 'Geschmorte Balsamico - Tomaten', 'Zucchini mit Couscous-Feta-Füllung auf Tomatenbett  \"SuperNova\"', 'Rote Linsen-Curry mit Spaghetti', 'Püppis Pizzateig aus Thunfisch', 'Fideos con cerdo', 'Gefüllte Pizza-Brezeln mit Knoblauch-Dip', 'Pizzabrot mit Frischkäse, Zucchini und Mozzarella', 'Kräuterspätzle', 'Geschmorte Balsamico - Tomaten', 'Zucchini mit Couscous-Feta-Füllung auf Tomatenbett  \"SuperNova\"', 'Rote Linsen-Curry mit Spaghetti', 'Püppis Pizzateig aus Thunfisch', 'Fideos con cerdo', 'Gefüllte Pizza-Brezeln mit Knoblauch-Dip', 'Pizzabrot mit Frischkäse, Zucchini und Mozzarella', 'Putenoberkeule aus dem Ofen', 'Kräuterspätzle', 'Geschmorte Balsamico - Tomaten', 'Zucchini mit Couscous-Feta-Füllung auf Tomatenbett  \"SuperNova\"', 'Rote Linsen-Curry mit Spaghetti', 'Püppis Pizzateig aus Thunfisch', 'Fideos con cerdo', 'Gefüllte Pizza-Brezeln mit Knoblauch-Dip', 'Pizzabrot mit Frischkäse, Zucchini und Mozzarella', 'Spaghetti Bolognese', 'Putenoberkeule aus dem Ofen', 'Kräuterspätzle', 'Geschmorte Balsamico - Tomaten', 'Zucchini mit Couscous-Feta-Füllung auf Tomatenbett  \"SuperNova\"', 'Rote Linsen-Curry mit Spaghetti', 'Püppis Pizzateig aus Thunfisch', 'Fideos con cerdo', 'Gefüllte Pizza-Brezeln mit Knoblauch-Dip', 'Pizzabrot mit Frischkäse, Zucchini und Mozzarella', 'Rinderfilet mit Polentasternen und Bohnen im Speckmantel', 'Spaghetti Bolognese', 'Putenoberkeule aus dem Ofen', 'Kräuterspätzle', 'Geschmorte Balsamico - Tomaten', 'Zucchini mit Couscous-Feta-Füllung auf Tomatenbett  \"SuperNova\"', 'Rote Linsen-Curry mit Spaghetti', 'Püppis Pizzateig aus Thunfisch', 'Fideos con cerdo', 'Gefüllte Pizza-Brezeln mit Knoblauch-Dip', 'Pizzabrot mit Frischkäse, Zucchini und Mozzarella', 'Lammhack - Kürbis Auflauf', 'Rinderfilet mit Polentasternen und Bohnen im Speckmantel', 'Spaghetti Bolognese', 'Putenoberkeule aus dem Ofen', 'Kräuterspätzle', 'Geschmorte Balsamico - Tomaten', 'Zucchini mit Couscous-Feta-Füllung auf Tomatenbett  \"SuperNova\"', 'Rote Linsen-Curry mit Spaghetti', 'Püppis Pizzateig aus Thunfisch', 'Fideos con cerdo', 'Gefüllte Pizza-Brezeln mit Knoblauch-Dip', 'Pizzabrot mit Frischkäse, Zucchini und Mozzarella', 'Nudeln mit Räucherlachs und Zitronenpesto', 'Lammhack - Kürbis Auflauf', 'Rinderfilet mit Polentasternen und Bohnen im Speckmantel', 'Spaghetti Bolognese', 'Putenoberkeule aus dem Ofen', 'Kräuterspätzle', 'Geschmorte Balsamico - Tomaten', 'Zucchini mit Couscous-Feta-Füllung auf Tomatenbett  \"SuperNova\"', 'Rote Linsen-Curry mit Spaghetti', 'Püppis Pizzateig aus Thunfisch', 'Fideos con cerdo', 'Gefüllte Pizza-Brezeln mit Knoblauch-Dip', 'Pizzabrot mit Frischkäse, Zucchini und Mozzarella', 'Aprikosen - Brûlée', 'Nudeln mit Räucherlachs und Zitronenpesto', 'Lammhack - Kürbis Auflauf', 'Rinderfilet mit Polentasternen und Bohnen im Speckmantel', 'Spaghetti Bolognese', 'Putenoberkeule aus dem Ofen', 'Kräuterspätzle', 'Geschmorte Balsamico - Tomaten', 'Zucchini mit Couscous-Feta-Füllung auf Tomatenbett  \"SuperNova\"', 'Rote Linsen-Curry mit Spaghetti', 'Püppis Pizzateig aus Thunfisch', 'Fideos con cerdo', 'Gefüllte Pizza-Brezeln mit Knoblauch-Dip', 'Pizzabrot mit Frischkäse, Zucchini und Mozzarella', 'Hähnchenleber mit Schmorzwiebeln', 'Aprikosen - Brûlée', 'Nudeln mit Räucherlachs und Zitronenpesto', 'Lammhack - Kürbis Auflauf', 'Rinderfilet mit Polentasternen und Bohnen im Speckmantel', 'Spaghetti Bolognese', 'Putenoberkeule aus dem Ofen', 'Kräuterspätzle', 'Geschmorte Balsamico - Tomaten', 'Zucchini mit Couscous-Feta-Füllung auf Tomatenbett  \"SuperNova\"', 'Rote Linsen-Curry mit Spaghetti', 'Püppis Pizzateig aus Thunfisch', 'Fideos con cerdo', 'Gefüllte Pizza-Brezeln mit Knoblauch-Dip', 'Pizzabrot mit Frischkäse, Zucchini und Mozzarella', 'Mediterrane Gemüsepfanne mit Hähnchenbrustfilet', 'Hähnchenleber mit Schmorzwiebeln', 'Aprikosen - Brûlée', 'Nudeln mit Räucherlachs und Zitronenpesto', 'Lammhack - Kürbis Auflauf', 'Rinderfilet mit Polentasternen und Bohnen im Speckmantel', 'Spaghetti Bolognese', 'Putenoberkeule aus dem Ofen', 'Kräuterspätzle', 'Geschmorte Balsamico - Tomaten', 'Zucchini mit Couscous-Feta-Füllung auf Tomatenbett  \"SuperNova\"', 'Rote Linsen-Curry mit Spaghetti', 'Püppis Pizzateig aus Thunfisch', 'Fideos con cerdo', 'Gefüllte Pizza-Brezeln mit Knoblauch-Dip', 'Pizzabrot mit Frischkäse, Zucchini und Mozzarella', 'Schlesische Kartoffelklöße', 'Mediterrane Gemüsepfanne mit Hähnchenbrustfilet', 'Hähnchenleber mit Schmorzwiebeln', 'Aprikosen - Brûlée', 'Nudeln mit Räucherlachs und Zitronenpesto', 'Lammhack - Kürbis Auflauf', 'Rinderfilet mit Polentasternen und Bohnen im Speckmantel', 'Spaghetti Bolognese', 'Putenoberkeule aus dem Ofen', 'Kräuterspätzle', 'Geschmorte Balsamico - Tomaten', 'Zucchini mit Couscous-Feta-Füllung auf Tomatenbett  \"SuperNova\"', 'Rote Linsen-Curry mit Spaghetti', 'Püppis Pizzateig aus Thunfisch', 'Fideos con cerdo', 'Gefüllte Pizza-Brezeln mit Knoblauch-Dip', 'Pizzabrot mit Frischkäse, Zucchini und Mozzarella', 'Weiße Espresso - Panna Cotta mit Himbeeren', 'Schlesische Kartoffelklöße', 'Mediterrane Gemüsepfanne mit Hähnchenbrustfilet', 'Hähnchenleber mit Schmorzwiebeln', 'Aprikosen - Brûlée', 'Nudeln mit Räucherlachs und Zitronenpesto', 'Lammhack - Kürbis Auflauf', 'Rinderfilet mit Polentasternen und Bohnen im Speckmantel', 'Spaghetti Bolognese', 'Putenoberkeule aus dem Ofen', 'Kräuterspätzle', 'Geschmorte Balsamico - Tomaten', 'Zucchini mit Couscous-Feta-Füllung auf Tomatenbett  \"SuperNova\"', 'Rote Linsen-Curry mit Spaghetti', 'Püppis Pizzateig aus Thunfisch', 'Fideos con cerdo', 'Gefüllte Pizza-Brezeln mit Knoblauch-Dip', 'Pizzabrot mit Frischkäse, Zucchini und Mozzarella', 'Wackelpudding - Bowle', 'Weiße Espresso - Panna Cotta mit Himbeeren', 'Schlesische Kartoffelklöße', 'Mediterrane Gemüsepfanne mit Hähnchenbrustfilet', 'Hähnchenleber mit Schmorzwiebeln', 'Aprikosen - Brûlée', 'Nudeln mit Räucherlachs und Zitronenpesto', 'Lammhack - Kürbis Auflauf', 'Rinderfilet mit Polentasternen und Bohnen im Speckmantel', 'Spaghetti Bolognese', 'Putenoberkeule aus dem Ofen', 'Kräuterspätzle', 'Geschmorte Balsamico - Tomaten', 'Zucchini mit Couscous-Feta-Füllung auf Tomatenbett  \"SuperNova\"', 'Rote Linsen-Curry mit Spaghetti', 'Püppis Pizzateig aus Thunfisch', 'Fideos con cerdo', 'Gefüllte Pizza-Brezeln mit Knoblauch-Dip', 'Pizzabrot mit Frischkäse, Zucchini und Mozzarella', 'Ungarische Beigel', 'Wackelpudding - Bowle', 'Weiße Espresso - Panna Cotta mit Himbeeren', 'Schlesische Kartoffelklöße', 'Mediterrane Gemüsepfanne mit Hähnchenbrustfilet', 'Hähnchenleber mit Schmorzwiebeln', 'Aprikosen - Brûlée', 'Nudeln mit Räucherlachs und Zitronenpesto', 'Lammhack - Kürbis Auflauf', 'Rinderfilet mit Polentasternen und Bohnen im Speckmantel', 'Spaghetti Bolognese', 'Putenoberkeule aus dem Ofen', 'Kräuterspätzle', 'Geschmorte Balsamico - Tomaten', 'Zucchini mit Couscous-Feta-Füllung auf Tomatenbett  \"SuperNova\"', 'Rote Linsen-Curry mit Spaghetti', 'Püppis Pizzateig aus Thunfisch', 'Fideos con cerdo', 'Gefüllte Pizza-Brezeln mit Knoblauch-Dip', 'Pizzabrot mit Frischkäse, Zucchini und Mozzarella', 'Feines Edelfisch - Ragout', 'Ungarische Beigel', 'Wackelpudding - Bowle', 'Weiße Espresso - Panna Cotta mit Himbeeren', 'Schlesische Kartoffelklöße', 'Mediterrane Gemüsepfanne mit Hähnchenbrustfilet', 'Hähnchenleber mit Schmorzwiebeln', 'Aprikosen - Brûlée', 'Nudeln mit Räucherlachs und Zitronenpesto', 'Lammhack - Kürbis Auflauf', 'Rinderfilet mit Polentasternen und Bohnen im Speckmantel', 'Spaghetti Bolognese', 'Putenoberkeule aus dem Ofen', 'Kräuterspätzle', 'Geschmorte Balsamico - Tomaten', 'Zucchini mit Couscous-Feta-Füllung auf Tomatenbett  \"SuperNova\"', 'Rote Linsen-Curry mit Spaghetti', 'Püppis Pizzateig aus Thunfisch', 'Fideos con cerdo', 'Gefüllte Pizza-Brezeln mit Knoblauch-Dip', 'Pizzabrot mit Frischkäse, Zucchini und Mozzarella', 'Korsische Kartoffelpfanne', 'Feines Edelfisch - Ragout', 'Ungarische Beigel', 'Wackelpudding - Bowle', 'Weiße Espresso - Panna Cotta mit Himbeeren', 'Schlesische Kartoffelklöße', 'Mediterrane Gemüsepfanne mit Hähnchenbrustfilet', 'Hähnchenleber mit Schmorzwiebeln', 'Aprikosen - Brûlée', 'Nudeln mit Räucherlachs und Zitronenpesto', 'Lammhack - Kürbis Auflauf', 'Rinderfilet mit Polentasternen und Bohnen im Speckmantel', 'Spaghetti Bolognese', 'Putenoberkeule aus dem Ofen', 'Kräuterspätzle', 'Geschmorte Balsamico - Tomaten', 'Zucchini mit Couscous-Feta-Füllung auf Tomatenbett  \"SuperNova\"', 'Rote Linsen-Curry mit Spaghetti', 'Püppis Pizzateig aus Thunfisch', 'Fideos con cerdo', 'Gefüllte Pizza-Brezeln mit Knoblauch-Dip', 'Pizzabrot mit Frischkäse, Zucchini und Mozzarella', 'Westfälisches Zwiebelfleisch', 'Korsische Kartoffelpfanne', 'Feines Edelfisch - Ragout', 'Ungarische Beigel', 'Wackelpudding - Bowle', 'Weiße Espresso - Panna Cotta mit Himbeeren', 'Schlesische Kartoffelklöße', 'Mediterrane Gemüsepfanne mit Hähnchenbrustfilet', 'Hähnchenleber mit Schmorzwiebeln', 'Aprikosen - Brûlée', 'Nudeln mit Räucherlachs und Zitronenpesto', 'Lammhack - Kürbis Auflauf', 'Rinderfilet mit Polentasternen und Bohnen im Speckmantel', 'Spaghetti Bolognese', 'Putenoberkeule aus dem Ofen', 'Kräuterspätzle', 'Geschmorte Balsamico - Tomaten', 'Zucchini mit Couscous-Feta-Füllung auf Tomatenbett  \"SuperNova\"', 'Rote Linsen-Curry mit Spaghetti', 'Püppis Pizzateig aus Thunfisch', 'Fideos con cerdo', 'Gefüllte Pizza-Brezeln mit Knoblauch-Dip', 'Pizzabrot mit Frischkäse, Zucchini und Mozzarella', 'Marinierte Wildschweinmedaillons', 'Westfälisches Zwiebelfleisch', 'Korsische Kartoffelpfanne', 'Feines Edelfisch - Ragout', 'Ungarische Beigel', 'Wackelpudding - Bowle', 'Weiße Espresso - Panna Cotta mit Himbeeren', 'Schlesische Kartoffelklöße', 'Mediterrane Gemüsepfanne mit Hähnchenbrustfilet', 'Hähnchenleber mit Schmorzwiebeln', 'Aprikosen - Brûlée', 'Nudeln mit Räucherlachs und Zitronenpesto', 'Lammhack - Kürbis Auflauf', 'Rinderfilet mit Polentasternen und Bohnen im Speckmantel', 'Spaghetti Bolognese', 'Putenoberkeule aus dem Ofen', 'Kräuterspätzle', 'Geschmorte Balsamico - Tomaten', 'Zucchini mit Couscous-Feta-Füllung auf Tomatenbett  \"SuperNova\"', 'Rote Linsen-Curry mit Spaghetti', 'Püppis Pizzateig aus Thunfisch', 'Fideos con cerdo', 'Gefüllte Pizza-Brezeln mit Knoblauch-Dip', 'Pizzabrot mit Frischkäse, Zucchini und Mozzarella', 'Steirisches Wurzelfleisch mit Safterdäpfeln', 'Marinierte Wildschweinmedaillons', 'Westfälisches Zwiebelfleisch', 'Korsische Kartoffelpfanne', 'Feines Edelfisch - Ragout', 'Ungarische Beigel', 'Wackelpudding - Bowle', 'Weiße Espresso - Panna Cotta mit Himbeeren', 'Schlesische Kartoffelklöße', 'Mediterrane Gemüsepfanne mit Hähnchenbrustfilet', 'Hähnchenleber mit Schmorzwiebeln', 'Aprikosen - Brûlée', 'Nudeln mit Räucherlachs und Zitronenpesto', 'Lammhack - Kürbis Auflauf', 'Rinderfilet mit Polentasternen und Bohnen im Speckmantel', 'Spaghetti Bolognese', 'Putenoberkeule aus dem Ofen', 'Kräuterspätzle', 'Geschmorte Balsamico - Tomaten', 'Zucchini mit Couscous-Feta-Füllung auf Tomatenbett  \"SuperNova\"', 'Rote Linsen-Curry mit Spaghetti', 'Püppis Pizzateig aus Thunfisch', 'Fideos con cerdo', 'Gefüllte Pizza-Brezeln mit Knoblauch-Dip', 'Pizzabrot mit Frischkäse, Zucchini und Mozzarella', 'Batatas douradas', 'Steirisches Wurzelfleisch mit Safterdäpfeln', 'Marinierte Wildschweinmedaillons', 'Westfälisches Zwiebelfleisch', 'Korsische Kartoffelpfanne', 'Feines Edelfisch - Ragout', 'Ungarische Beigel', 'Wackelpudding - Bowle', 'Weiße Espresso - Panna Cotta mit Himbeeren', 'Schlesische Kartoffelklöße', 'Mediterrane Gemüsepfanne mit Hähnchenbrustfilet', 'Hähnchenleber mit Schmorzwiebeln', 'Aprikosen - Brûlée', 'Nudeln mit Räucherlachs und Zitronenpesto', 'Lammhack - Kürbis Auflauf', 'Rinderfilet mit Polentasternen und Bohnen im Speckmantel', 'Spaghetti Bolognese', 'Putenoberkeule aus dem Ofen', 'Kräuterspätzle', 'Geschmorte Balsamico - Tomaten', 'Zucchini mit Couscous-Feta-Füllung auf Tomatenbett  \"SuperNova\"', 'Rote Linsen-Curry mit Spaghetti', 'Püppis Pizzateig aus Thunfisch', 'Fideos con cerdo', 'Gefüllte Pizza-Brezeln mit Knoblauch-Dip', 'Pizzabrot mit Frischkäse, Zucchini und Mozzarella', 'Lulas Recheadas I', 'Batatas douradas', 'Steirisches Wurzelfleisch mit Safterdäpfeln', 'Marinierte Wildschweinmedaillons', 'Westfälisches Zwiebelfleisch', 'Korsische Kartoffelpfanne', 'Feines Edelfisch - Ragout', 'Ungarische Beigel', 'Wackelpudding - Bowle', 'Weiße Espresso - Panna Cotta mit Himbeeren', 'Schlesische Kartoffelklöße', 'Mediterrane Gemüsepfanne mit Hähnchenbrustfilet', 'Hähnchenleber mit Schmorzwiebeln', 'Aprikosen - Brûlée', 'Nudeln mit Räucherlachs und Zitronenpesto', 'Lammhack - Kürbis Auflauf', 'Rinderfilet mit Polentasternen und Bohnen im Speckmantel', 'Spaghetti Bolognese', 'Putenoberkeule aus dem Ofen', 'Kräuterspätzle', 'Geschmorte Balsamico - Tomaten', 'Zucchini mit Couscous-Feta-Füllung auf Tomatenbett  \"SuperNova\"', 'Rote Linsen-Curry mit Spaghetti', 'Püppis Pizzateig aus Thunfisch', 'Fideos con cerdo', 'Gefüllte Pizza-Brezeln mit Knoblauch-Dip', 'Pizzabrot mit Frischkäse, Zucchini und Mozzarella', 'Fladenbrotpizza', 'Lulas Recheadas I', 'Batatas douradas', 'Steirisches Wurzelfleisch mit Safterdäpfeln', 'Marinierte Wildschweinmedaillons', 'Westfälisches Zwiebelfleisch', 'Korsische Kartoffelpfanne', 'Feines Edelfisch - Ragout', 'Ungarische Beigel', 'Wackelpudding - Bowle', 'Weiße Espresso - Panna Cotta mit Himbeeren', 'Schlesische Kartoffelklöße', 'Mediterrane Gemüsepfanne mit Hähnchenbrustfilet', 'Hähnchenleber mit Schmorzwiebeln', 'Aprikosen - Brûlée', 'Nudeln mit Räucherlachs und Zitronenpesto', 'Lammhack - Kürbis Auflauf', 'Rinderfilet mit Polentasternen und Bohnen im Speckmantel', 'Spaghetti Bolognese', 'Putenoberkeule aus dem Ofen', 'Kräuterspätzle', 'Geschmorte Balsamico - Tomaten', 'Zucchini mit Couscous-Feta-Füllung auf Tomatenbett  \"SuperNova\"', 'Rote Linsen-Curry mit Spaghetti', 'Püppis Pizzateig aus Thunfisch', 'Fideos con cerdo', 'Gefüllte Pizza-Brezeln mit Knoblauch-Dip', 'Pizzabrot mit Frischkäse, Zucchini und Mozzarella', 'Die Original Tiroler Schlipfkrapfen', 'Fladenbrotpizza', 'Lulas Recheadas I', 'Batatas douradas', 'Steirisches Wurzelfleisch mit Safterdäpfeln', 'Marinierte Wildschweinmedaillons', 'Westfälisches Zwiebelfleisch', 'Korsische Kartoffelpfanne', 'Feines Edelfisch - Ragout', 'Ungarische Beigel', 'Wackelpudding - Bowle', 'Weiße Espresso - Panna Cotta mit Himbeeren', 'Schlesische Kartoffelklöße', 'Mediterrane Gemüsepfanne mit Hähnchenbrustfilet', 'Hähnchenleber mit Schmorzwiebeln', 'Aprikosen - Brûlée', 'Nudeln mit Räucherlachs und Zitronenpesto', 'Lammhack - Kürbis Auflauf', 'Rinderfilet mit Polentasternen und Bohnen im Speckmantel', 'Spaghetti Bolognese', 'Putenoberkeule aus dem Ofen', 'Kräuterspätzle', 'Geschmorte Balsamico - Tomaten', 'Zucchini mit Couscous-Feta-Füllung auf Tomatenbett  \"SuperNova\"', 'Rote Linsen-Curry mit Spaghetti', 'Püppis Pizzateig aus Thunfisch', 'Fideos con cerdo', 'Gefüllte Pizza-Brezeln mit Knoblauch-Dip', 'Pizzabrot mit Frischkäse, Zucchini und Mozzarella', 'Wirsingrouladen mit Lamm', 'Die Original Tiroler Schlipfkrapfen', 'Fladenbrotpizza', 'Lulas Recheadas I', 'Batatas douradas', 'Steirisches Wurzelfleisch mit Safterdäpfeln', 'Marinierte Wildschweinmedaillons', 'Westfälisches Zwiebelfleisch', 'Korsische Kartoffelpfanne', 'Feines Edelfisch - Ragout', 'Ungarische Beigel', 'Wackelpudding - Bowle', 'Weiße Espresso - Panna Cotta mit Himbeeren', 'Schlesische Kartoffelklöße', 'Mediterrane Gemüsepfanne mit Hähnchenbrustfilet', 'Hähnchenleber mit Schmorzwiebeln', 'Aprikosen - Brûlée', 'Nudeln mit Räucherlachs und Zitronenpesto', 'Lammhack - Kürbis Auflauf', 'Rinderfilet mit Polentasternen und Bohnen im Speckmantel', 'Spaghetti Bolognese', 'Putenoberkeule aus dem Ofen', 'Kräuterspätzle', 'Geschmorte Balsamico - Tomaten', 'Zucchini mit Couscous-Feta-Füllung auf Tomatenbett  \"SuperNova\"', 'Rote Linsen-Curry mit Spaghetti', 'Püppis Pizzateig aus Thunfisch', 'Fideos con cerdo', 'Gefüllte Pizza-Brezeln mit Knoblauch-Dip', 'Pizzabrot mit Frischkäse, Zucchini und Mozzarella', 'Pelmeni', 'Wirsingrouladen mit Lamm', 'Die Original Tiroler Schlipfkrapfen', 'Fladenbrotpizza', 'Lulas Recheadas I', 'Batatas douradas', 'Steirisches Wurzelfleisch mit Safterdäpfeln', 'Marinierte Wildschweinmedaillons', 'Westfälisches Zwiebelfleisch', 'Korsische Kartoffelpfanne', 'Feines Edelfisch - Ragout', 'Ungarische Beigel', 'Wackelpudding - Bowle', 'Weiße Espresso - Panna Cotta mit Himbeeren', 'Schlesische Kartoffelklöße', 'Mediterrane Gemüsepfanne mit Hähnchenbrustfilet', 'Hähnchenleber mit Schmorzwiebeln', 'Aprikosen - Brûlée', 'Nudeln mit Räucherlachs und Zitronenpesto', 'Lammhack - Kürbis Auflauf', 'Rinderfilet mit Polentasternen und Bohnen im Speckmantel', 'Spaghetti Bolognese', 'Putenoberkeule aus dem Ofen', 'Kräuterspätzle', 'Geschmorte Balsamico - Tomaten', 'Zucchini mit Couscous-Feta-Füllung auf Tomatenbett  \"SuperNova\"', 'Rote Linsen-Curry mit Spaghetti', 'Püppis Pizzateig aus Thunfisch', 'Fideos con cerdo', 'Gefüllte Pizza-Brezeln mit Knoblauch-Dip', 'Pizzabrot mit Frischkäse, Zucchini und Mozzarella', 'Kartoffelpuffer sehr einfach', 'Pelmeni', 'Wirsingrouladen mit Lamm', 'Die Original Tiroler Schlipfkrapfen', 'Fladenbrotpizza', 'Lulas Recheadas I', 'Batatas douradas', 'Steirisches Wurzelfleisch mit Safterdäpfeln', 'Marinierte Wildschweinmedaillons', 'Westfälisches Zwiebelfleisch', 'Korsische Kartoffelpfanne', 'Feines Edelfisch - Ragout', 'Ungarische Beigel', 'Wackelpudding - Bowle', 'Weiße Espresso - Panna Cotta mit Himbeeren', 'Schlesische Kartoffelklöße', 'Mediterrane Gemüsepfanne mit Hähnchenbrustfilet', 'Hähnchenleber mit Schmorzwiebeln', 'Aprikosen - Brûlée', 'Nudeln mit Räucherlachs und Zitronenpesto', 'Lammhack - Kürbis Auflauf', 'Rinderfilet mit Polentasternen und Bohnen im Speckmantel', 'Spaghetti Bolognese', 'Putenoberkeule aus dem Ofen', 'Kräuterspätzle', 'Geschmorte Balsamico - Tomaten', 'Zucchini mit Couscous-Feta-Füllung auf Tomatenbett  \"SuperNova\"', 'Rote Linsen-Curry mit Spaghetti', 'Püppis Pizzateig aus Thunfisch', 'Fideos con cerdo', 'Gefüllte Pizza-Brezeln mit Knoblauch-Dip', 'Pizzabrot mit Frischkäse, Zucchini und Mozzarella', 'Kichererbsen - Bulgur - Auflauf', 'Kartoffelpuffer sehr einfach', 'Pelmeni', 'Wirsingrouladen mit Lamm', 'Die Original Tiroler Schlipfkrapfen', 'Fladenbrotpizza', 'Lulas Recheadas I', 'Batatas douradas', 'Steirisches Wurzelfleisch mit Safterdäpfeln', 'Marinierte Wildschweinmedaillons', 'Westfälisches Zwiebelfleisch', 'Korsische Kartoffelpfanne', 'Feines Edelfisch - Ragout', 'Ungarische Beigel', 'Wackelpudding - Bowle', 'Weiße Espresso - Panna Cotta mit Himbeeren', 'Schlesische Kartoffelklöße', 'Mediterrane Gemüsepfanne mit Hähnchenbrustfilet', 'Hähnchenleber mit Schmorzwiebeln', 'Aprikosen - Brûlée', 'Nudeln mit Räucherlachs und Zitronenpesto', 'Lammhack - Kürbis Auflauf', 'Rinderfilet mit Polentasternen und Bohnen im Speckmantel', 'Spaghetti Bolognese', 'Putenoberkeule aus dem Ofen', 'Kräuterspätzle', 'Geschmorte Balsamico - Tomaten', 'Zucchini mit Couscous-Feta-Füllung auf Tomatenbett  \"SuperNova\"', 'Rote Linsen-Curry mit Spaghetti', 'Püppis Pizzateig aus Thunfisch', 'Fideos con cerdo', 'Gefüllte Pizza-Brezeln mit Knoblauch-Dip', 'Pizzabrot mit Frischkäse, Zucchini und Mozzarella', 'Panna Cotta mit weißer Schokolade', 'Kichererbsen - Bulgur - Auflauf', 'Kartoffelpuffer sehr einfach', 'Pelmeni', 'Wirsingrouladen mit Lamm', 'Die Original Tiroler Schlipfkrapfen', 'Fladenbrotpizza', 'Lulas Recheadas I', 'Batatas douradas', 'Steirisches Wurzelfleisch mit Safterdäpfeln', 'Marinierte Wildschweinmedaillons', 'Westfälisches Zwiebelfleisch', 'Korsische Kartoffelpfanne', 'Feines Edelfisch - Ragout', 'Ungarische Beigel', 'Wackelpudding - Bowle', 'Weiße Espresso - Panna Cotta mit Himbeeren', 'Schlesische Kartoffelklöße', 'Mediterrane Gemüsepfanne mit Hähnchenbrustfilet', 'Hähnchenleber mit Schmorzwiebeln', 'Aprikosen - Brûlée', 'Nudeln mit Räucherlachs und Zitronenpesto', 'Lammhack - Kürbis Auflauf', 'Rinderfilet mit Polentasternen und Bohnen im Speckmantel', 'Spaghetti Bolognese', 'Putenoberkeule aus dem Ofen', 'Kräuterspätzle', 'Geschmorte Balsamico - Tomaten', 'Zucchini mit Couscous-Feta-Füllung auf Tomatenbett  \"SuperNova\"', 'Rote Linsen-Curry mit Spaghetti', 'Püppis Pizzateig aus Thunfisch', 'Fideos con cerdo', 'Gefüllte Pizza-Brezeln mit Knoblauch-Dip', 'Pizzabrot mit Frischkäse, Zucchini und Mozzarella', 'Tomatensoße für Pizza', 'Panna Cotta mit weißer Schokolade', 'Kichererbsen - Bulgur - Auflauf', 'Kartoffelpuffer sehr einfach', 'Pelmeni', 'Wirsingrouladen mit Lamm', 'Die Original Tiroler Schlipfkrapfen', 'Fladenbrotpizza', 'Lulas Recheadas I', 'Batatas douradas', 'Steirisches Wurzelfleisch mit Safterdäpfeln', 'Marinierte Wildschweinmedaillons', 'Westfälisches Zwiebelfleisch', 'Korsische Kartoffelpfanne', 'Feines Edelfisch - Ragout', 'Ungarische Beigel', 'Wackelpudding - Bowle', 'Weiße Espresso - Panna Cotta mit Himbeeren', 'Schlesische Kartoffelklöße', 'Mediterrane Gemüsepfanne mit Hähnchenbrustfilet', 'Hähnchenleber mit Schmorzwiebeln', 'Aprikosen - Brûlée', 'Nudeln mit Räucherlachs und Zitronenpesto', 'Lammhack - Kürbis Auflauf', 'Rinderfilet mit Polentasternen und Bohnen im Speckmantel', 'Spaghetti Bolognese', 'Putenoberkeule aus dem Ofen', 'Kräuterspätzle', 'Geschmorte Balsamico - Tomaten', 'Zucchini mit Couscous-Feta-Füllung auf Tomatenbett  \"SuperNova\"', 'Rote Linsen-Curry mit Spaghetti', 'Püppis Pizzateig aus Thunfisch', 'Fideos con cerdo', 'Gefüllte Pizza-Brezeln mit Knoblauch-Dip', 'Pizzabrot mit Frischkäse, Zucchini und Mozzarella', 'Flammkuchen mit Quark', 'Tomatensoße für Pizza', 'Panna Cotta mit weißer Schokolade', 'Kichererbsen - Bulgur - Auflauf', 'Kartoffelpuffer sehr einfach', 'Pelmeni', 'Wirsingrouladen mit Lamm', 'Die Original Tiroler Schlipfkrapfen', 'Fladenbrotpizza', 'Lulas Recheadas I', 'Batatas douradas', 'Steirisches Wurzelfleisch mit Safterdäpfeln', 'Marinierte Wildschweinmedaillons', 'Westfälisches Zwiebelfleisch', 'Korsische Kartoffelpfanne', 'Feines Edelfisch - Ragout', 'Ungarische Beigel', 'Wackelpudding - Bowle', 'Weiße Espresso - Panna Cotta mit Himbeeren', 'Schlesische Kartoffelklöße', 'Mediterrane Gemüsepfanne mit Hähnchenbrustfilet', 'Hähnchenleber mit Schmorzwiebeln', 'Aprikosen - Brûlée', 'Nudeln mit Räucherlachs und Zitronenpesto', 'Lammhack - Kürbis Auflauf', 'Rinderfilet mit Polentasternen und Bohnen im Speckmantel', 'Spaghetti Bolognese', 'Putenoberkeule aus dem Ofen', 'Kräuterspätzle', 'Geschmorte Balsamico - Tomaten', 'Zucchini mit Couscous-Feta-Füllung auf Tomatenbett  \"SuperNova\"', 'Rote Linsen-Curry mit Spaghetti', 'Püppis Pizzateig aus Thunfisch', 'Fideos con cerdo', 'Gefüllte Pizza-Brezeln mit Knoblauch-Dip', 'Pizzabrot mit Frischkäse, Zucchini und Mozzarella', 'Pizzateig', 'Flammkuchen mit Quark', 'Tomatensoße für Pizza', 'Panna Cotta mit weißer Schokolade', 'Kichererbsen - Bulgur - Auflauf', 'Kartoffelpuffer sehr einfach', 'Pelmeni', 'Wirsingrouladen mit Lamm', 'Die Original Tiroler Schlipfkrapfen', 'Fladenbrotpizza', 'Lulas Recheadas I', 'Batatas douradas', 'Steirisches Wurzelfleisch mit Safterdäpfeln', 'Marinierte Wildschweinmedaillons', 'Westfälisches Zwiebelfleisch', 'Korsische Kartoffelpfanne', 'Feines Edelfisch - Ragout', 'Ungarische Beigel', 'Wackelpudding - Bowle', 'Weiße Espresso - Panna Cotta mit Himbeeren', 'Schlesische Kartoffelklöße', 'Mediterrane Gemüsepfanne mit Hähnchenbrustfilet', 'Hähnchenleber mit Schmorzwiebeln', 'Aprikosen - Brûlée', 'Nudeln mit Räucherlachs und Zitronenpesto', 'Lammhack - Kürbis Auflauf', 'Rinderfilet mit Polentasternen und Bohnen im Speckmantel', 'Spaghetti Bolognese', 'Putenoberkeule aus dem Ofen', 'Kräuterspätzle', 'Geschmorte Balsamico - Tomaten', 'Zucchini mit Couscous-Feta-Füllung auf Tomatenbett  \"SuperNova\"', 'Rote Linsen-Curry mit Spaghetti', 'Püppis Pizzateig aus Thunfisch', 'Fideos con cerdo', 'Gefüllte Pizza-Brezeln mit Knoblauch-Dip', 'Pizzabrot mit Frischkäse, Zucchini und Mozzarella', 'Pizzateig', 'Pizzateig', 'Flammkuchen mit Quark', 'Tomatensoße für Pizza', 'Panna Cotta mit weißer Schokolade', 'Kichererbsen - Bulgur - Auflauf', 'Kartoffelpuffer sehr einfach', 'Pelmeni', 'Wirsingrouladen mit Lamm', 'Die Original Tiroler Schlipfkrapfen', 'Fladenbrotpizza', 'Lulas Recheadas I', 'Batatas douradas', 'Steirisches Wurzelfleisch mit Safterdäpfeln', 'Marinierte Wildschweinmedaillons', 'Westfälisches Zwiebelfleisch', 'Korsische Kartoffelpfanne', 'Feines Edelfisch - Ragout', 'Ungarische Beigel', 'Wackelpudding - Bowle', 'Weiße Espresso - Panna Cotta mit Himbeeren', 'Schlesische Kartoffelklöße', 'Mediterrane Gemüsepfanne mit Hähnchenbrustfilet', 'Hähnchenleber mit Schmorzwiebeln', 'Aprikosen - Brûlée', 'Nudeln mit Räucherlachs und Zitronenpesto', 'Lammhack - Kürbis Auflauf', 'Rinderfilet mit Polentasternen und Bohnen im Speckmantel', 'Spaghetti Bolognese', 'Putenoberkeule aus dem Ofen', 'Kräuterspätzle', 'Geschmorte Balsamico - Tomaten', 'Zucchini mit Couscous-Feta-Füllung auf Tomatenbett  \"SuperNova\"', 'Rote Linsen-Curry mit Spaghetti', 'Püppis Pizzateig aus Thunfisch', 'Fideos con cerdo', 'Gefüllte Pizza-Brezeln mit Knoblauch-Dip', 'Pizzabrot mit Frischkäse, Zucchini und Mozzarella']\n",
      "Cluster 1 : ['Quiche Lorraine', 'Quiche Lorraine', 'Quiche Lorraine', 'Quiche Lorraine', 'Quiche Lorraine', 'Moussaka mit Schafskäse - Bechamelsauce', 'Boeuf en daube', 'Süße Dampfnudeln', 'Baeckeofe aus dem Elsaß', 'Pfannengyros mit Gurken - Dip', 'Putenröllchen mit Ricottafüllung', 'Zucchini - Champignon - Lasagne', 'Österreichische Grießnocken', 'Lammrücken unter der Feta - Pinienkernkruste auf Farfallegemüse aus der Pfanne', 'Blätterteigrolle gefüllt mit Gemüse und Hackfleisch', 'Ebly - Risotto', 'Heiße weiße Schokolade', 'Sachertorte', 'Sauerkraut-Quiche', 'Sauerkraut-Quiche', 'Sachertorte', 'Sauerkraut-Quiche', 'Heiße weiße Schokolade', 'Sachertorte', 'Sauerkraut-Quiche', 'Ebly - Risotto', 'Heiße weiße Schokolade', 'Sachertorte', 'Sauerkraut-Quiche', 'Blätterteigrolle gefüllt mit Gemüse und Hackfleisch', 'Ebly - Risotto', 'Heiße weiße Schokolade', 'Sachertorte', 'Sauerkraut-Quiche', 'Lammrücken unter der Feta - Pinienkernkruste auf Farfallegemüse aus der Pfanne', 'Blätterteigrolle gefüllt mit Gemüse und Hackfleisch', 'Ebly - Risotto', 'Heiße weiße Schokolade', 'Sachertorte', 'Sauerkraut-Quiche', 'Österreichische Grießnocken', 'Lammrücken unter der Feta - Pinienkernkruste auf Farfallegemüse aus der Pfanne', 'Blätterteigrolle gefüllt mit Gemüse und Hackfleisch', 'Ebly - Risotto', 'Heiße weiße Schokolade', 'Sachertorte', 'Sauerkraut-Quiche', 'Zucchini - Champignon - Lasagne', 'Österreichische Grießnocken', 'Lammrücken unter der Feta - Pinienkernkruste auf Farfallegemüse aus der Pfanne', 'Blätterteigrolle gefüllt mit Gemüse und Hackfleisch', 'Ebly - Risotto', 'Heiße weiße Schokolade', 'Sachertorte', 'Sauerkraut-Quiche', 'Putenröllchen mit Ricottafüllung', 'Zucchini - Champignon - Lasagne', 'Österreichische Grießnocken', 'Lammrücken unter der Feta - Pinienkernkruste auf Farfallegemüse aus der Pfanne', 'Blätterteigrolle gefüllt mit Gemüse und Hackfleisch', 'Ebly - Risotto', 'Heiße weiße Schokolade', 'Sachertorte', 'Sauerkraut-Quiche', 'Pfannengyros mit Gurken - Dip', 'Putenröllchen mit Ricottafüllung', 'Zucchini - Champignon - Lasagne', 'Österreichische Grießnocken', 'Lammrücken unter der Feta - Pinienkernkruste auf Farfallegemüse aus der Pfanne', 'Blätterteigrolle gefüllt mit Gemüse und Hackfleisch', 'Ebly - Risotto', 'Heiße weiße Schokolade', 'Sachertorte', 'Sauerkraut-Quiche', 'Baeckeofe aus dem Elsaß', 'Pfannengyros mit Gurken - Dip', 'Putenröllchen mit Ricottafüllung', 'Zucchini - Champignon - Lasagne', 'Österreichische Grießnocken', 'Lammrücken unter der Feta - Pinienkernkruste auf Farfallegemüse aus der Pfanne', 'Blätterteigrolle gefüllt mit Gemüse und Hackfleisch', 'Ebly - Risotto', 'Heiße weiße Schokolade', 'Sachertorte', 'Sauerkraut-Quiche', 'Süße Dampfnudeln', 'Baeckeofe aus dem Elsaß', 'Pfannengyros mit Gurken - Dip', 'Putenröllchen mit Ricottafüllung', 'Zucchini - Champignon - Lasagne', 'Österreichische Grießnocken', 'Lammrücken unter der Feta - Pinienkernkruste auf Farfallegemüse aus der Pfanne', 'Blätterteigrolle gefüllt mit Gemüse und Hackfleisch', 'Ebly - Risotto', 'Heiße weiße Schokolade', 'Sachertorte', 'Sauerkraut-Quiche', 'Boeuf en daube', 'Süße Dampfnudeln', 'Baeckeofe aus dem Elsaß', 'Pfannengyros mit Gurken - Dip', 'Putenröllchen mit Ricottafüllung', 'Zucchini - Champignon - Lasagne', 'Österreichische Grießnocken', 'Lammrücken unter der Feta - Pinienkernkruste auf Farfallegemüse aus der Pfanne', 'Blätterteigrolle gefüllt mit Gemüse und Hackfleisch', 'Ebly - Risotto', 'Heiße weiße Schokolade', 'Sachertorte', 'Sauerkraut-Quiche', 'Moussaka mit Schafskäse - Bechamelsauce', 'Boeuf en daube', 'Süße Dampfnudeln', 'Baeckeofe aus dem Elsaß', 'Pfannengyros mit Gurken - Dip', 'Putenröllchen mit Ricottafüllung', 'Zucchini - Champignon - Lasagne', 'Österreichische Grießnocken', 'Lammrücken unter der Feta - Pinienkernkruste auf Farfallegemüse aus der Pfanne', 'Blätterteigrolle gefüllt mit Gemüse und Hackfleisch', 'Ebly - Risotto', 'Heiße weiße Schokolade', 'Sachertorte', 'Sauerkraut-Quiche', 'Quiche Lorraine', 'Moussaka mit Schafskäse - Bechamelsauce', 'Boeuf en daube', 'Süße Dampfnudeln', 'Baeckeofe aus dem Elsaß', 'Pfannengyros mit Gurken - Dip', 'Putenröllchen mit Ricottafüllung', 'Zucchini - Champignon - Lasagne', 'Österreichische Grießnocken', 'Lammrücken unter der Feta - Pinienkernkruste auf Farfallegemüse aus der Pfanne', 'Blätterteigrolle gefüllt mit Gemüse und Hackfleisch', 'Ebly - Risotto', 'Heiße weiße Schokolade', 'Sachertorte', 'Sauerkraut-Quiche', 'Quiche Lorraine', 'Quiche Lorraine', 'Moussaka mit Schafskäse - Bechamelsauce', 'Boeuf en daube', 'Süße Dampfnudeln', 'Baeckeofe aus dem Elsaß', 'Pfannengyros mit Gurken - Dip', 'Putenröllchen mit Ricottafüllung', 'Zucchini - Champignon - Lasagne', 'Österreichische Grießnocken', 'Lammrücken unter der Feta - Pinienkernkruste auf Farfallegemüse aus der Pfanne', 'Blätterteigrolle gefüllt mit Gemüse und Hackfleisch', 'Ebly - Risotto', 'Heiße weiße Schokolade', 'Sachertorte', 'Sauerkraut-Quiche', 'Quiche Lorraine', 'Quiche Lorraine', 'Quiche Lorraine', 'Moussaka mit Schafskäse - Bechamelsauce', 'Boeuf en daube', 'Süße Dampfnudeln', 'Baeckeofe aus dem Elsaß', 'Pfannengyros mit Gurken - Dip', 'Putenröllchen mit Ricottafüllung', 'Zucchini - Champignon - Lasagne', 'Österreichische Grießnocken', 'Lammrücken unter der Feta - Pinienkernkruste auf Farfallegemüse aus der Pfanne', 'Blätterteigrolle gefüllt mit Gemüse und Hackfleisch', 'Ebly - Risotto', 'Heiße weiße Schokolade', 'Sachertorte', 'Sauerkraut-Quiche']\n",
      "Cluster 2 : ['Tzatziki', 'Tzatziki', 'Tzatziki', 'Tzatziki', 'Tzatziki', 'Tzatziki', 'Zyprischer Gemüseauflauf', 'Griechischer Bohneneintopf', 'Griechischer Fischauflauf', 'Spaghetti mit Spinat-Frischkäsesoße und gebratenen Tomaten', 'Tomaten-Basilikum-Risotto mit Mozzarella', 'Pizzateig mit Sauerteig', 'Pizzateig mit Sauerteig', 'Tomaten-Basilikum-Risotto mit Mozzarella', 'Pizzateig mit Sauerteig', 'Spaghetti mit Spinat-Frischkäsesoße und gebratenen Tomaten', 'Tomaten-Basilikum-Risotto mit Mozzarella', 'Pizzateig mit Sauerteig', 'Griechischer Fischauflauf', 'Spaghetti mit Spinat-Frischkäsesoße und gebratenen Tomaten', 'Tomaten-Basilikum-Risotto mit Mozzarella', 'Pizzateig mit Sauerteig', 'Griechischer Bohneneintopf', 'Griechischer Fischauflauf', 'Spaghetti mit Spinat-Frischkäsesoße und gebratenen Tomaten', 'Tomaten-Basilikum-Risotto mit Mozzarella', 'Pizzateig mit Sauerteig', 'Zyprischer Gemüseauflauf', 'Griechischer Bohneneintopf', 'Griechischer Fischauflauf', 'Spaghetti mit Spinat-Frischkäsesoße und gebratenen Tomaten', 'Tomaten-Basilikum-Risotto mit Mozzarella', 'Pizzateig mit Sauerteig', 'Tzatziki', 'Zyprischer Gemüseauflauf', 'Griechischer Bohneneintopf', 'Griechischer Fischauflauf', 'Spaghetti mit Spinat-Frischkäsesoße und gebratenen Tomaten', 'Tomaten-Basilikum-Risotto mit Mozzarella', 'Pizzateig mit Sauerteig', 'Tzatziki', 'Tzatziki', 'Zyprischer Gemüseauflauf', 'Griechischer Bohneneintopf', 'Griechischer Fischauflauf', 'Spaghetti mit Spinat-Frischkäsesoße und gebratenen Tomaten', 'Tomaten-Basilikum-Risotto mit Mozzarella', 'Pizzateig mit Sauerteig', 'Tzatziki', 'Tzatziki', 'Tzatziki', 'Zyprischer Gemüseauflauf', 'Griechischer Bohneneintopf', 'Griechischer Fischauflauf', 'Spaghetti mit Spinat-Frischkäsesoße und gebratenen Tomaten', 'Tomaten-Basilikum-Risotto mit Mozzarella', 'Pizzateig mit Sauerteig', 'Tzatziki', 'Tzatziki', 'Tzatziki', 'Tzatziki', 'Zyprischer Gemüseauflauf', 'Griechischer Bohneneintopf', 'Griechischer Fischauflauf', 'Spaghetti mit Spinat-Frischkäsesoße und gebratenen Tomaten', 'Tomaten-Basilikum-Risotto mit Mozzarella', 'Pizzateig mit Sauerteig']\n",
      "Cluster 3 : ['Tiramisu', 'Tiramisu', 'Tiramisu', 'Tiramisu', 'Bulgur-Pilaw mit Joghurt', 'Hack-Pizza-Schnecken', 'Fritten', 'Mediterranes Rotbarschfilet mit Paprika', 'Kaninchen mit Zwiebeln', 'Kaninchen mit Zwiebeln', 'Mediterranes Rotbarschfilet mit Paprika', 'Kaninchen mit Zwiebeln', 'Fritten', 'Mediterranes Rotbarschfilet mit Paprika', 'Kaninchen mit Zwiebeln', 'Hack-Pizza-Schnecken', 'Fritten', 'Mediterranes Rotbarschfilet mit Paprika', 'Kaninchen mit Zwiebeln', 'Bulgur-Pilaw mit Joghurt', 'Hack-Pizza-Schnecken', 'Fritten', 'Mediterranes Rotbarschfilet mit Paprika', 'Kaninchen mit Zwiebeln', 'Tiramisu', 'Bulgur-Pilaw mit Joghurt', 'Hack-Pizza-Schnecken', 'Fritten', 'Mediterranes Rotbarschfilet mit Paprika', 'Kaninchen mit Zwiebeln', 'Tiramisu', 'Tiramisu', 'Bulgur-Pilaw mit Joghurt', 'Hack-Pizza-Schnecken', 'Fritten', 'Mediterranes Rotbarschfilet mit Paprika', 'Kaninchen mit Zwiebeln']\n",
      "Cluster 4 : ['Coq au vin', 'Coq au vin', 'Coq au vin', 'Coq au vin', 'Holländische Makronen', 'Hefezopf wie beim Bäcker', 'Rheinischer Döppekooche', 'Berliner Bollenfleisch mit Quetschkartoffeln', 'Gänsebraten aus den Familienschätzen', 'Gänsebraten aus den Familienschätzen', 'Berliner Bollenfleisch mit Quetschkartoffeln', 'Gänsebraten aus den Familienschätzen', 'Rheinischer Döppekooche', 'Berliner Bollenfleisch mit Quetschkartoffeln', 'Gänsebraten aus den Familienschätzen', 'Hefezopf wie beim Bäcker', 'Rheinischer Döppekooche', 'Berliner Bollenfleisch mit Quetschkartoffeln', 'Gänsebraten aus den Familienschätzen', 'Holländische Makronen', 'Hefezopf wie beim Bäcker', 'Rheinischer Döppekooche', 'Berliner Bollenfleisch mit Quetschkartoffeln', 'Gänsebraten aus den Familienschätzen', 'Coq au vin', 'Holländische Makronen', 'Hefezopf wie beim Bäcker', 'Rheinischer Döppekooche', 'Berliner Bollenfleisch mit Quetschkartoffeln', 'Gänsebraten aus den Familienschätzen', 'Coq au vin', 'Coq au vin', 'Holländische Makronen', 'Hefezopf wie beim Bäcker', 'Rheinischer Döppekooche', 'Berliner Bollenfleisch mit Quetschkartoffeln', 'Gänsebraten aus den Familienschätzen']\n"
     ]
    }
   ],
   "source": [
    "# print values of first 5 clusters\n",
    "for i in range(5):\n",
    "    print('Cluster', i, ':', [merged.iloc[j]['RecipeTitle'] for j in clusters[i]])"
   ]
  },
  {
   "cell_type": "markdown",
   "metadata": {},
   "source": [
    "> Manual inspection: Cosine similarity seems to work better than KMeans clustering\n",
    ">\n",
    "> But this approach to clustering is not the best, trying sorting by cosine similarity"
   ]
  },
  {
   "cell_type": "code",
   "execution_count": null,
   "metadata": {},
   "outputs": [
    {
     "name": "stdout",
     "output_type": "stream",
     "text": [
      "Cluster 0 : ['Pizzabrot mit Frischkäse, Zucchini und Mozzarella', 'Pizzabrot mit Frischkäse, Zucchini und Mozzarella', 'Pizzabrot mit Frischkäse, Zucchini und Mozzarella', 'Pizzabrot mit Frischkäse, Zucchini und Mozzarella', 'Pizzabrot mit Frischkäse, Zucchini und Mozzarella', 'Pizzabrot mit Frischkäse, Zucchini und Mozzarella', 'Pizzabrot mit Frischkäse, Zucchini und Mozzarella', 'Pizzabrot mit Frischkäse, Zucchini und Mozzarella', 'Pizzabrot mit Frischkäse, Zucchini und Mozzarella', 'Pizzabrot mit Frischkäse, Zucchini und Mozzarella', 'Pizzabrot mit Frischkäse, Zucchini und Mozzarella', 'Pizzabrot mit Frischkäse, Zucchini und Mozzarella', 'Pizzabrot mit Frischkäse, Zucchini und Mozzarella', 'Pizzabrot mit Frischkäse, Zucchini und Mozzarella', 'Pizzabrot mit Frischkäse, Zucchini und Mozzarella', 'Pizzabrot mit Frischkäse, Zucchini und Mozzarella', 'Pizzabrot mit Frischkäse, Zucchini und Mozzarella', 'Pizzabrot mit Frischkäse, Zucchini und Mozzarella', 'Pizzabrot mit Frischkäse, Zucchini und Mozzarella', 'Pizzabrot mit Frischkäse, Zucchini und Mozzarella', 'Pizzabrot mit Frischkäse, Zucchini und Mozzarella', 'Pizzabrot mit Frischkäse, Zucchini und Mozzarella', 'Pizzabrot mit Frischkäse, Zucchini und Mozzarella', 'Pizzabrot mit Frischkäse, Zucchini und Mozzarella', 'Pizzabrot mit Frischkäse, Zucchini und Mozzarella', 'Pizzabrot mit Frischkäse, Zucchini und Mozzarella', 'Pizzabrot mit Frischkäse, Zucchini und Mozzarella', 'Pizzabrot mit Frischkäse, Zucchini und Mozzarella', 'Pizzabrot mit Frischkäse, Zucchini und Mozzarella', 'Pizzabrot mit Frischkäse, Zucchini und Mozzarella', 'Pizzabrot mit Frischkäse, Zucchini und Mozzarella', 'Pizzabrot mit Frischkäse, Zucchini und Mozzarella', 'Pizzabrot mit Frischkäse, Zucchini und Mozzarella', 'Pizzabrot mit Frischkäse, Zucchini und Mozzarella', 'Pizzabrot mit Frischkäse, Zucchini und Mozzarella', 'Pizzabrot mit Frischkäse, Zucchini und Mozzarella', 'Pizzabrot mit Frischkäse, Zucchini und Mozzarella', 'Pizzabrot mit Frischkäse, Zucchini und Mozzarella', 'Pizzabrot mit Frischkäse, Zucchini und Mozzarella', 'Gefüllte Pizza-Brezeln mit Knoblauch-Dip', 'Gefüllte Pizza-Brezeln mit Knoblauch-Dip', 'Gefüllte Pizza-Brezeln mit Knoblauch-Dip', 'Gefüllte Pizza-Brezeln mit Knoblauch-Dip', 'Gefüllte Pizza-Brezeln mit Knoblauch-Dip', 'Gefüllte Pizza-Brezeln mit Knoblauch-Dip', 'Gefüllte Pizza-Brezeln mit Knoblauch-Dip', 'Gefüllte Pizza-Brezeln mit Knoblauch-Dip', 'Gefüllte Pizza-Brezeln mit Knoblauch-Dip', 'Gefüllte Pizza-Brezeln mit Knoblauch-Dip', 'Gefüllte Pizza-Brezeln mit Knoblauch-Dip', 'Gefüllte Pizza-Brezeln mit Knoblauch-Dip', 'Gefüllte Pizza-Brezeln mit Knoblauch-Dip', 'Gefüllte Pizza-Brezeln mit Knoblauch-Dip', 'Gefüllte Pizza-Brezeln mit Knoblauch-Dip', 'Gefüllte Pizza-Brezeln mit Knoblauch-Dip', 'Gefüllte Pizza-Brezeln mit Knoblauch-Dip', 'Gefüllte Pizza-Brezeln mit Knoblauch-Dip', 'Gefüllte Pizza-Brezeln mit Knoblauch-Dip', 'Gefüllte Pizza-Brezeln mit Knoblauch-Dip', 'Gefüllte Pizza-Brezeln mit Knoblauch-Dip', 'Gefüllte Pizza-Brezeln mit Knoblauch-Dip', 'Gefüllte Pizza-Brezeln mit Knoblauch-Dip', 'Gefüllte Pizza-Brezeln mit Knoblauch-Dip', 'Gefüllte Pizza-Brezeln mit Knoblauch-Dip', 'Gefüllte Pizza-Brezeln mit Knoblauch-Dip', 'Gefüllte Pizza-Brezeln mit Knoblauch-Dip', 'Gefüllte Pizza-Brezeln mit Knoblauch-Dip', 'Gefüllte Pizza-Brezeln mit Knoblauch-Dip', 'Gefüllte Pizza-Brezeln mit Knoblauch-Dip', 'Gefüllte Pizza-Brezeln mit Knoblauch-Dip', 'Gefüllte Pizza-Brezeln mit Knoblauch-Dip', 'Gefüllte Pizza-Brezeln mit Knoblauch-Dip', 'Gefüllte Pizza-Brezeln mit Knoblauch-Dip', 'Gefüllte Pizza-Brezeln mit Knoblauch-Dip', 'Gefüllte Pizza-Brezeln mit Knoblauch-Dip', 'Gefüllte Pizza-Brezeln mit Knoblauch-Dip', 'Gefüllte Pizza-Brezeln mit Knoblauch-Dip', 'Fideos con cerdo', 'Fideos con cerdo', 'Fideos con cerdo', 'Fideos con cerdo', 'Fideos con cerdo', 'Fideos con cerdo', 'Fideos con cerdo', 'Fideos con cerdo', 'Fideos con cerdo', 'Fideos con cerdo', 'Fideos con cerdo', 'Fideos con cerdo', 'Fideos con cerdo', 'Fideos con cerdo', 'Fideos con cerdo', 'Fideos con cerdo', 'Fideos con cerdo', 'Fideos con cerdo', 'Fideos con cerdo', 'Fideos con cerdo', 'Fideos con cerdo', 'Fideos con cerdo', 'Fideos con cerdo', 'Fideos con cerdo', 'Fideos con cerdo', 'Fideos con cerdo', 'Fideos con cerdo', 'Fideos con cerdo', 'Fideos con cerdo', 'Fideos con cerdo', 'Fideos con cerdo', 'Fideos con cerdo', 'Fideos con cerdo', 'Fideos con cerdo', 'Fideos con cerdo', 'Fideos con cerdo', 'Fideos con cerdo', 'Püppis Pizzateig aus Thunfisch', 'Püppis Pizzateig aus Thunfisch', 'Püppis Pizzateig aus Thunfisch', 'Püppis Pizzateig aus Thunfisch', 'Püppis Pizzateig aus Thunfisch', 'Püppis Pizzateig aus Thunfisch', 'Püppis Pizzateig aus Thunfisch', 'Püppis Pizzateig aus Thunfisch', 'Püppis Pizzateig aus Thunfisch', 'Püppis Pizzateig aus Thunfisch', 'Püppis Pizzateig aus Thunfisch', 'Püppis Pizzateig aus Thunfisch', 'Püppis Pizzateig aus Thunfisch', 'Püppis Pizzateig aus Thunfisch', 'Püppis Pizzateig aus Thunfisch', 'Püppis Pizzateig aus Thunfisch', 'Püppis Pizzateig aus Thunfisch', 'Püppis Pizzateig aus Thunfisch', 'Püppis Pizzateig aus Thunfisch', 'Püppis Pizzateig aus Thunfisch', 'Püppis Pizzateig aus Thunfisch', 'Püppis Pizzateig aus Thunfisch', 'Püppis Pizzateig aus Thunfisch', 'Püppis Pizzateig aus Thunfisch', 'Püppis Pizzateig aus Thunfisch', 'Püppis Pizzateig aus Thunfisch', 'Püppis Pizzateig aus Thunfisch', 'Püppis Pizzateig aus Thunfisch', 'Püppis Pizzateig aus Thunfisch', 'Püppis Pizzateig aus Thunfisch', 'Püppis Pizzateig aus Thunfisch', 'Püppis Pizzateig aus Thunfisch', 'Püppis Pizzateig aus Thunfisch', 'Püppis Pizzateig aus Thunfisch', 'Püppis Pizzateig aus Thunfisch', 'Püppis Pizzateig aus Thunfisch', 'Rote Linsen-Curry mit Spaghetti', 'Rote Linsen-Curry mit Spaghetti', 'Rote Linsen-Curry mit Spaghetti', 'Rote Linsen-Curry mit Spaghetti', 'Rote Linsen-Curry mit Spaghetti', 'Rote Linsen-Curry mit Spaghetti', 'Rote Linsen-Curry mit Spaghetti', 'Rote Linsen-Curry mit Spaghetti', 'Rote Linsen-Curry mit Spaghetti', 'Rote Linsen-Curry mit Spaghetti', 'Rote Linsen-Curry mit Spaghetti', 'Rote Linsen-Curry mit Spaghetti', 'Rote Linsen-Curry mit Spaghetti', 'Rote Linsen-Curry mit Spaghetti', 'Rote Linsen-Curry mit Spaghetti', 'Rote Linsen-Curry mit Spaghetti', 'Rote Linsen-Curry mit Spaghetti', 'Rote Linsen-Curry mit Spaghetti', 'Rote Linsen-Curry mit Spaghetti', 'Rote Linsen-Curry mit Spaghetti', 'Rote Linsen-Curry mit Spaghetti', 'Rote Linsen-Curry mit Spaghetti', 'Rote Linsen-Curry mit Spaghetti', 'Rote Linsen-Curry mit Spaghetti', 'Rote Linsen-Curry mit Spaghetti', 'Rote Linsen-Curry mit Spaghetti', 'Rote Linsen-Curry mit Spaghetti', 'Rote Linsen-Curry mit Spaghetti', 'Rote Linsen-Curry mit Spaghetti', 'Rote Linsen-Curry mit Spaghetti', 'Rote Linsen-Curry mit Spaghetti', 'Rote Linsen-Curry mit Spaghetti', 'Rote Linsen-Curry mit Spaghetti', 'Rote Linsen-Curry mit Spaghetti', 'Rote Linsen-Curry mit Spaghetti', 'Zucchini mit Couscous-Feta-Füllung auf Tomatenbett  \"SuperNova\"', 'Zucchini mit Couscous-Feta-Füllung auf Tomatenbett  \"SuperNova\"', 'Zucchini mit Couscous-Feta-Füllung auf Tomatenbett  \"SuperNova\"', 'Zucchini mit Couscous-Feta-Füllung auf Tomatenbett  \"SuperNova\"', 'Zucchini mit Couscous-Feta-Füllung auf Tomatenbett  \"SuperNova\"', 'Zucchini mit Couscous-Feta-Füllung auf Tomatenbett  \"SuperNova\"', 'Zucchini mit Couscous-Feta-Füllung auf Tomatenbett  \"SuperNova\"', 'Zucchini mit Couscous-Feta-Füllung auf Tomatenbett  \"SuperNova\"', 'Zucchini mit Couscous-Feta-Füllung auf Tomatenbett  \"SuperNova\"', 'Zucchini mit Couscous-Feta-Füllung auf Tomatenbett  \"SuperNova\"', 'Zucchini mit Couscous-Feta-Füllung auf Tomatenbett  \"SuperNova\"', 'Zucchini mit Couscous-Feta-Füllung auf Tomatenbett  \"SuperNova\"', 'Zucchini mit Couscous-Feta-Füllung auf Tomatenbett  \"SuperNova\"', 'Zucchini mit Couscous-Feta-Füllung auf Tomatenbett  \"SuperNova\"', 'Zucchini mit Couscous-Feta-Füllung auf Tomatenbett  \"SuperNova\"', 'Zucchini mit Couscous-Feta-Füllung auf Tomatenbett  \"SuperNova\"', 'Zucchini mit Couscous-Feta-Füllung auf Tomatenbett  \"SuperNova\"', 'Zucchini mit Couscous-Feta-Füllung auf Tomatenbett  \"SuperNova\"', 'Zucchini mit Couscous-Feta-Füllung auf Tomatenbett  \"SuperNova\"', 'Zucchini mit Couscous-Feta-Füllung auf Tomatenbett  \"SuperNova\"', 'Zucchini mit Couscous-Feta-Füllung auf Tomatenbett  \"SuperNova\"', 'Zucchini mit Couscous-Feta-Füllung auf Tomatenbett  \"SuperNova\"', 'Zucchini mit Couscous-Feta-Füllung auf Tomatenbett  \"SuperNova\"', 'Zucchini mit Couscous-Feta-Füllung auf Tomatenbett  \"SuperNova\"', 'Zucchini mit Couscous-Feta-Füllung auf Tomatenbett  \"SuperNova\"', 'Zucchini mit Couscous-Feta-Füllung auf Tomatenbett  \"SuperNova\"', 'Zucchini mit Couscous-Feta-Füllung auf Tomatenbett  \"SuperNova\"', 'Zucchini mit Couscous-Feta-Füllung auf Tomatenbett  \"SuperNova\"', 'Zucchini mit Couscous-Feta-Füllung auf Tomatenbett  \"SuperNova\"', 'Zucchini mit Couscous-Feta-Füllung auf Tomatenbett  \"SuperNova\"', 'Zucchini mit Couscous-Feta-Füllung auf Tomatenbett  \"SuperNova\"', 'Zucchini mit Couscous-Feta-Füllung auf Tomatenbett  \"SuperNova\"', 'Zucchini mit Couscous-Feta-Füllung auf Tomatenbett  \"SuperNova\"', 'Zucchini mit Couscous-Feta-Füllung auf Tomatenbett  \"SuperNova\"', 'Geschmorte Balsamico - Tomaten', 'Geschmorte Balsamico - Tomaten', 'Geschmorte Balsamico - Tomaten', 'Geschmorte Balsamico - Tomaten', 'Geschmorte Balsamico - Tomaten', 'Geschmorte Balsamico - Tomaten', 'Geschmorte Balsamico - Tomaten', 'Geschmorte Balsamico - Tomaten', 'Geschmorte Balsamico - Tomaten', 'Geschmorte Balsamico - Tomaten', 'Geschmorte Balsamico - Tomaten', 'Geschmorte Balsamico - Tomaten', 'Geschmorte Balsamico - Tomaten', 'Geschmorte Balsamico - Tomaten', 'Geschmorte Balsamico - Tomaten', 'Geschmorte Balsamico - Tomaten', 'Geschmorte Balsamico - Tomaten', 'Geschmorte Balsamico - Tomaten', 'Geschmorte Balsamico - Tomaten', 'Geschmorte Balsamico - Tomaten', 'Geschmorte Balsamico - Tomaten', 'Geschmorte Balsamico - Tomaten', 'Geschmorte Balsamico - Tomaten', 'Geschmorte Balsamico - Tomaten', 'Geschmorte Balsamico - Tomaten', 'Geschmorte Balsamico - Tomaten', 'Geschmorte Balsamico - Tomaten', 'Geschmorte Balsamico - Tomaten', 'Geschmorte Balsamico - Tomaten', 'Geschmorte Balsamico - Tomaten', 'Geschmorte Balsamico - Tomaten', 'Geschmorte Balsamico - Tomaten', 'Geschmorte Balsamico - Tomaten', 'Kräuterspätzle', 'Kräuterspätzle', 'Kräuterspätzle', 'Kräuterspätzle', 'Kräuterspätzle', 'Kräuterspätzle', 'Kräuterspätzle', 'Kräuterspätzle', 'Kräuterspätzle', 'Kräuterspätzle', 'Kräuterspätzle', 'Kräuterspätzle', 'Kräuterspätzle', 'Kräuterspätzle', 'Kräuterspätzle', 'Kräuterspätzle', 'Kräuterspätzle', 'Kräuterspätzle', 'Kräuterspätzle', 'Kräuterspätzle', 'Kräuterspätzle', 'Kräuterspätzle', 'Kräuterspätzle', 'Kräuterspätzle', 'Kräuterspätzle', 'Kräuterspätzle', 'Kräuterspätzle', 'Kräuterspätzle', 'Kräuterspätzle', 'Kräuterspätzle', 'Kräuterspätzle', 'Kräuterspätzle', 'Putenoberkeule aus dem Ofen', 'Putenoberkeule aus dem Ofen', 'Putenoberkeule aus dem Ofen', 'Putenoberkeule aus dem Ofen', 'Putenoberkeule aus dem Ofen', 'Putenoberkeule aus dem Ofen', 'Putenoberkeule aus dem Ofen', 'Putenoberkeule aus dem Ofen', 'Putenoberkeule aus dem Ofen', 'Putenoberkeule aus dem Ofen', 'Putenoberkeule aus dem Ofen', 'Putenoberkeule aus dem Ofen', 'Putenoberkeule aus dem Ofen', 'Putenoberkeule aus dem Ofen', 'Putenoberkeule aus dem Ofen', 'Putenoberkeule aus dem Ofen', 'Putenoberkeule aus dem Ofen', 'Putenoberkeule aus dem Ofen', 'Putenoberkeule aus dem Ofen', 'Putenoberkeule aus dem Ofen', 'Putenoberkeule aus dem Ofen', 'Putenoberkeule aus dem Ofen', 'Putenoberkeule aus dem Ofen', 'Putenoberkeule aus dem Ofen', 'Putenoberkeule aus dem Ofen', 'Putenoberkeule aus dem Ofen', 'Putenoberkeule aus dem Ofen', 'Putenoberkeule aus dem Ofen', 'Putenoberkeule aus dem Ofen', 'Putenoberkeule aus dem Ofen', 'Putenoberkeule aus dem Ofen', 'Spaghetti Bolognese', 'Spaghetti Bolognese', 'Spaghetti Bolognese', 'Spaghetti Bolognese', 'Spaghetti Bolognese', 'Spaghetti Bolognese', 'Spaghetti Bolognese', 'Spaghetti Bolognese', 'Spaghetti Bolognese', 'Spaghetti Bolognese', 'Spaghetti Bolognese', 'Spaghetti Bolognese', 'Spaghetti Bolognese', 'Spaghetti Bolognese', 'Spaghetti Bolognese', 'Spaghetti Bolognese', 'Spaghetti Bolognese', 'Spaghetti Bolognese', 'Spaghetti Bolognese', 'Spaghetti Bolognese', 'Spaghetti Bolognese', 'Spaghetti Bolognese', 'Spaghetti Bolognese', 'Spaghetti Bolognese', 'Spaghetti Bolognese', 'Spaghetti Bolognese', 'Spaghetti Bolognese', 'Spaghetti Bolognese', 'Spaghetti Bolognese', 'Spaghetti Bolognese', 'Rinderfilet mit Polentasternen und Bohnen im Speckmantel', 'Rinderfilet mit Polentasternen und Bohnen im Speckmantel', 'Rinderfilet mit Polentasternen und Bohnen im Speckmantel', 'Rinderfilet mit Polentasternen und Bohnen im Speckmantel', 'Rinderfilet mit Polentasternen und Bohnen im Speckmantel', 'Rinderfilet mit Polentasternen und Bohnen im Speckmantel', 'Rinderfilet mit Polentasternen und Bohnen im Speckmantel', 'Rinderfilet mit Polentasternen und Bohnen im Speckmantel', 'Rinderfilet mit Polentasternen und Bohnen im Speckmantel', 'Rinderfilet mit Polentasternen und Bohnen im Speckmantel', 'Rinderfilet mit Polentasternen und Bohnen im Speckmantel', 'Rinderfilet mit Polentasternen und Bohnen im Speckmantel', 'Rinderfilet mit Polentasternen und Bohnen im Speckmantel', 'Rinderfilet mit Polentasternen und Bohnen im Speckmantel', 'Rinderfilet mit Polentasternen und Bohnen im Speckmantel', 'Rinderfilet mit Polentasternen und Bohnen im Speckmantel', 'Rinderfilet mit Polentasternen und Bohnen im Speckmantel', 'Rinderfilet mit Polentasternen und Bohnen im Speckmantel', 'Rinderfilet mit Polentasternen und Bohnen im Speckmantel', 'Rinderfilet mit Polentasternen und Bohnen im Speckmantel', 'Rinderfilet mit Polentasternen und Bohnen im Speckmantel', 'Rinderfilet mit Polentasternen und Bohnen im Speckmantel', 'Rinderfilet mit Polentasternen und Bohnen im Speckmantel', 'Rinderfilet mit Polentasternen und Bohnen im Speckmantel', 'Rinderfilet mit Polentasternen und Bohnen im Speckmantel', 'Rinderfilet mit Polentasternen und Bohnen im Speckmantel', 'Rinderfilet mit Polentasternen und Bohnen im Speckmantel', 'Rinderfilet mit Polentasternen und Bohnen im Speckmantel', 'Rinderfilet mit Polentasternen und Bohnen im Speckmantel', 'Lammhack - Kürbis Auflauf', 'Lammhack - Kürbis Auflauf', 'Lammhack - Kürbis Auflauf', 'Lammhack - Kürbis Auflauf', 'Lammhack - Kürbis Auflauf', 'Lammhack - Kürbis Auflauf', 'Lammhack - Kürbis Auflauf', 'Lammhack - Kürbis Auflauf', 'Lammhack - Kürbis Auflauf', 'Lammhack - Kürbis Auflauf', 'Lammhack - Kürbis Auflauf', 'Lammhack - Kürbis Auflauf', 'Lammhack - Kürbis Auflauf', 'Lammhack - Kürbis Auflauf', 'Lammhack - Kürbis Auflauf', 'Lammhack - Kürbis Auflauf', 'Lammhack - Kürbis Auflauf', 'Lammhack - Kürbis Auflauf', 'Lammhack - Kürbis Auflauf', 'Lammhack - Kürbis Auflauf', 'Lammhack - Kürbis Auflauf', 'Lammhack - Kürbis Auflauf', 'Lammhack - Kürbis Auflauf', 'Lammhack - Kürbis Auflauf', 'Lammhack - Kürbis Auflauf', 'Lammhack - Kürbis Auflauf', 'Lammhack - Kürbis Auflauf', 'Lammhack - Kürbis Auflauf', 'Nudeln mit Räucherlachs und Zitronenpesto', 'Nudeln mit Räucherlachs und Zitronenpesto', 'Nudeln mit Räucherlachs und Zitronenpesto', 'Nudeln mit Räucherlachs und Zitronenpesto', 'Nudeln mit Räucherlachs und Zitronenpesto', 'Nudeln mit Räucherlachs und Zitronenpesto', 'Nudeln mit Räucherlachs und Zitronenpesto', 'Nudeln mit Räucherlachs und Zitronenpesto', 'Nudeln mit Räucherlachs und Zitronenpesto', 'Nudeln mit Räucherlachs und Zitronenpesto', 'Nudeln mit Räucherlachs und Zitronenpesto', 'Nudeln mit Räucherlachs und Zitronenpesto', 'Nudeln mit Räucherlachs und Zitronenpesto', 'Nudeln mit Räucherlachs und Zitronenpesto', 'Nudeln mit Räucherlachs und Zitronenpesto', 'Nudeln mit Räucherlachs und Zitronenpesto', 'Nudeln mit Räucherlachs und Zitronenpesto', 'Nudeln mit Räucherlachs und Zitronenpesto', 'Nudeln mit Räucherlachs und Zitronenpesto', 'Nudeln mit Räucherlachs und Zitronenpesto', 'Nudeln mit Räucherlachs und Zitronenpesto', 'Nudeln mit Räucherlachs und Zitronenpesto', 'Nudeln mit Räucherlachs und Zitronenpesto', 'Nudeln mit Räucherlachs und Zitronenpesto', 'Nudeln mit Räucherlachs und Zitronenpesto', 'Nudeln mit Räucherlachs und Zitronenpesto', 'Nudeln mit Räucherlachs und Zitronenpesto', 'Aprikosen - Brûlée', 'Aprikosen - Brûlée', 'Aprikosen - Brûlée', 'Aprikosen - Brûlée', 'Aprikosen - Brûlée', 'Aprikosen - Brûlée', 'Aprikosen - Brûlée', 'Aprikosen - Brûlée', 'Aprikosen - Brûlée', 'Aprikosen - Brûlée', 'Aprikosen - Brûlée', 'Aprikosen - Brûlée', 'Aprikosen - Brûlée', 'Aprikosen - Brûlée', 'Aprikosen - Brûlée', 'Aprikosen - Brûlée', 'Aprikosen - Brûlée', 'Aprikosen - Brûlée', 'Aprikosen - Brûlée', 'Aprikosen - Brûlée', 'Aprikosen - Brûlée', 'Aprikosen - Brûlée', 'Aprikosen - Brûlée', 'Aprikosen - Brûlée', 'Aprikosen - Brûlée', 'Aprikosen - Brûlée', 'Hähnchenleber mit Schmorzwiebeln', 'Hähnchenleber mit Schmorzwiebeln', 'Hähnchenleber mit Schmorzwiebeln', 'Hähnchenleber mit Schmorzwiebeln', 'Hähnchenleber mit Schmorzwiebeln', 'Hähnchenleber mit Schmorzwiebeln', 'Hähnchenleber mit Schmorzwiebeln', 'Hähnchenleber mit Schmorzwiebeln', 'Hähnchenleber mit Schmorzwiebeln', 'Hähnchenleber mit Schmorzwiebeln', 'Hähnchenleber mit Schmorzwiebeln', 'Hähnchenleber mit Schmorzwiebeln', 'Hähnchenleber mit Schmorzwiebeln', 'Hähnchenleber mit Schmorzwiebeln', 'Hähnchenleber mit Schmorzwiebeln', 'Hähnchenleber mit Schmorzwiebeln', 'Hähnchenleber mit Schmorzwiebeln', 'Hähnchenleber mit Schmorzwiebeln', 'Hähnchenleber mit Schmorzwiebeln', 'Hähnchenleber mit Schmorzwiebeln', 'Hähnchenleber mit Schmorzwiebeln', 'Hähnchenleber mit Schmorzwiebeln', 'Hähnchenleber mit Schmorzwiebeln', 'Hähnchenleber mit Schmorzwiebeln', 'Hähnchenleber mit Schmorzwiebeln', 'Mediterrane Gemüsepfanne mit Hähnchenbrustfilet', 'Mediterrane Gemüsepfanne mit Hähnchenbrustfilet', 'Mediterrane Gemüsepfanne mit Hähnchenbrustfilet', 'Mediterrane Gemüsepfanne mit Hähnchenbrustfilet', 'Mediterrane Gemüsepfanne mit Hähnchenbrustfilet', 'Mediterrane Gemüsepfanne mit Hähnchenbrustfilet', 'Mediterrane Gemüsepfanne mit Hähnchenbrustfilet', 'Mediterrane Gemüsepfanne mit Hähnchenbrustfilet', 'Mediterrane Gemüsepfanne mit Hähnchenbrustfilet', 'Mediterrane Gemüsepfanne mit Hähnchenbrustfilet', 'Mediterrane Gemüsepfanne mit Hähnchenbrustfilet', 'Mediterrane Gemüsepfanne mit Hähnchenbrustfilet', 'Mediterrane Gemüsepfanne mit Hähnchenbrustfilet', 'Mediterrane Gemüsepfanne mit Hähnchenbrustfilet', 'Mediterrane Gemüsepfanne mit Hähnchenbrustfilet', 'Mediterrane Gemüsepfanne mit Hähnchenbrustfilet', 'Mediterrane Gemüsepfanne mit Hähnchenbrustfilet', 'Mediterrane Gemüsepfanne mit Hähnchenbrustfilet', 'Mediterrane Gemüsepfanne mit Hähnchenbrustfilet', 'Mediterrane Gemüsepfanne mit Hähnchenbrustfilet', 'Mediterrane Gemüsepfanne mit Hähnchenbrustfilet', 'Mediterrane Gemüsepfanne mit Hähnchenbrustfilet', 'Mediterrane Gemüsepfanne mit Hähnchenbrustfilet', 'Mediterrane Gemüsepfanne mit Hähnchenbrustfilet', 'Schlesische Kartoffelklöße', 'Schlesische Kartoffelklöße', 'Schlesische Kartoffelklöße', 'Schlesische Kartoffelklöße', 'Schlesische Kartoffelklöße', 'Schlesische Kartoffelklöße', 'Schlesische Kartoffelklöße', 'Schlesische Kartoffelklöße', 'Schlesische Kartoffelklöße', 'Schlesische Kartoffelklöße', 'Schlesische Kartoffelklöße', 'Schlesische Kartoffelklöße', 'Schlesische Kartoffelklöße', 'Schlesische Kartoffelklöße', 'Schlesische Kartoffelklöße', 'Schlesische Kartoffelklöße', 'Schlesische Kartoffelklöße', 'Schlesische Kartoffelklöße', 'Schlesische Kartoffelklöße', 'Schlesische Kartoffelklöße', 'Schlesische Kartoffelklöße', 'Schlesische Kartoffelklöße', 'Schlesische Kartoffelklöße', 'Weiße Espresso - Panna Cotta mit Himbeeren', 'Weiße Espresso - Panna Cotta mit Himbeeren', 'Weiße Espresso - Panna Cotta mit Himbeeren', 'Weiße Espresso - Panna Cotta mit Himbeeren', 'Weiße Espresso - Panna Cotta mit Himbeeren', 'Weiße Espresso - Panna Cotta mit Himbeeren', 'Weiße Espresso - Panna Cotta mit Himbeeren', 'Weiße Espresso - Panna Cotta mit Himbeeren', 'Weiße Espresso - Panna Cotta mit Himbeeren', 'Weiße Espresso - Panna Cotta mit Himbeeren', 'Weiße Espresso - Panna Cotta mit Himbeeren', 'Weiße Espresso - Panna Cotta mit Himbeeren', 'Weiße Espresso - Panna Cotta mit Himbeeren', 'Weiße Espresso - Panna Cotta mit Himbeeren', 'Weiße Espresso - Panna Cotta mit Himbeeren', 'Weiße Espresso - Panna Cotta mit Himbeeren', 'Weiße Espresso - Panna Cotta mit Himbeeren', 'Weiße Espresso - Panna Cotta mit Himbeeren', 'Weiße Espresso - Panna Cotta mit Himbeeren', 'Weiße Espresso - Panna Cotta mit Himbeeren', 'Weiße Espresso - Panna Cotta mit Himbeeren', 'Weiße Espresso - Panna Cotta mit Himbeeren', 'Wackelpudding - Bowle', 'Wackelpudding - Bowle', 'Wackelpudding - Bowle', 'Wackelpudding - Bowle', 'Wackelpudding - Bowle', 'Wackelpudding - Bowle', 'Wackelpudding - Bowle', 'Wackelpudding - Bowle', 'Wackelpudding - Bowle', 'Wackelpudding - Bowle', 'Wackelpudding - Bowle', 'Wackelpudding - Bowle', 'Wackelpudding - Bowle', 'Wackelpudding - Bowle', 'Wackelpudding - Bowle', 'Wackelpudding - Bowle', 'Wackelpudding - Bowle', 'Wackelpudding - Bowle', 'Wackelpudding - Bowle', 'Wackelpudding - Bowle', 'Wackelpudding - Bowle', 'Ungarische Beigel', 'Ungarische Beigel', 'Ungarische Beigel', 'Ungarische Beigel', 'Ungarische Beigel', 'Ungarische Beigel', 'Ungarische Beigel', 'Ungarische Beigel', 'Ungarische Beigel', 'Ungarische Beigel', 'Ungarische Beigel', 'Ungarische Beigel', 'Ungarische Beigel', 'Ungarische Beigel', 'Ungarische Beigel', 'Ungarische Beigel', 'Ungarische Beigel', 'Ungarische Beigel', 'Ungarische Beigel', 'Ungarische Beigel', 'Feines Edelfisch - Ragout', 'Feines Edelfisch - Ragout', 'Feines Edelfisch - Ragout', 'Feines Edelfisch - Ragout', 'Feines Edelfisch - Ragout', 'Feines Edelfisch - Ragout', 'Feines Edelfisch - Ragout', 'Feines Edelfisch - Ragout', 'Feines Edelfisch - Ragout', 'Feines Edelfisch - Ragout', 'Feines Edelfisch - Ragout', 'Feines Edelfisch - Ragout', 'Feines Edelfisch - Ragout', 'Feines Edelfisch - Ragout', 'Feines Edelfisch - Ragout', 'Feines Edelfisch - Ragout', 'Feines Edelfisch - Ragout', 'Feines Edelfisch - Ragout', 'Feines Edelfisch - Ragout', 'Korsische Kartoffelpfanne', 'Korsische Kartoffelpfanne', 'Korsische Kartoffelpfanne', 'Korsische Kartoffelpfanne', 'Korsische Kartoffelpfanne', 'Korsische Kartoffelpfanne', 'Korsische Kartoffelpfanne', 'Korsische Kartoffelpfanne', 'Korsische Kartoffelpfanne', 'Korsische Kartoffelpfanne', 'Korsische Kartoffelpfanne', 'Korsische Kartoffelpfanne', 'Korsische Kartoffelpfanne', 'Korsische Kartoffelpfanne', 'Korsische Kartoffelpfanne', 'Korsische Kartoffelpfanne', 'Korsische Kartoffelpfanne', 'Korsische Kartoffelpfanne', 'Westfälisches Zwiebelfleisch', 'Westfälisches Zwiebelfleisch', 'Westfälisches Zwiebelfleisch', 'Westfälisches Zwiebelfleisch', 'Westfälisches Zwiebelfleisch', 'Westfälisches Zwiebelfleisch', 'Westfälisches Zwiebelfleisch', 'Westfälisches Zwiebelfleisch', 'Westfälisches Zwiebelfleisch', 'Westfälisches Zwiebelfleisch', 'Westfälisches Zwiebelfleisch', 'Westfälisches Zwiebelfleisch', 'Westfälisches Zwiebelfleisch', 'Westfälisches Zwiebelfleisch', 'Westfälisches Zwiebelfleisch', 'Westfälisches Zwiebelfleisch', 'Westfälisches Zwiebelfleisch', 'Marinierte Wildschweinmedaillons', 'Marinierte Wildschweinmedaillons', 'Marinierte Wildschweinmedaillons', 'Marinierte Wildschweinmedaillons', 'Marinierte Wildschweinmedaillons', 'Marinierte Wildschweinmedaillons', 'Marinierte Wildschweinmedaillons', 'Marinierte Wildschweinmedaillons', 'Marinierte Wildschweinmedaillons', 'Marinierte Wildschweinmedaillons', 'Marinierte Wildschweinmedaillons', 'Marinierte Wildschweinmedaillons', 'Marinierte Wildschweinmedaillons', 'Marinierte Wildschweinmedaillons', 'Marinierte Wildschweinmedaillons', 'Marinierte Wildschweinmedaillons', 'Steirisches Wurzelfleisch mit Safterdäpfeln', 'Steirisches Wurzelfleisch mit Safterdäpfeln', 'Steirisches Wurzelfleisch mit Safterdäpfeln', 'Steirisches Wurzelfleisch mit Safterdäpfeln', 'Steirisches Wurzelfleisch mit Safterdäpfeln', 'Steirisches Wurzelfleisch mit Safterdäpfeln', 'Steirisches Wurzelfleisch mit Safterdäpfeln', 'Steirisches Wurzelfleisch mit Safterdäpfeln', 'Steirisches Wurzelfleisch mit Safterdäpfeln', 'Steirisches Wurzelfleisch mit Safterdäpfeln', 'Steirisches Wurzelfleisch mit Safterdäpfeln', 'Steirisches Wurzelfleisch mit Safterdäpfeln', 'Steirisches Wurzelfleisch mit Safterdäpfeln', 'Steirisches Wurzelfleisch mit Safterdäpfeln', 'Steirisches Wurzelfleisch mit Safterdäpfeln', 'Batatas douradas', 'Batatas douradas', 'Batatas douradas', 'Batatas douradas', 'Batatas douradas', 'Batatas douradas', 'Batatas douradas', 'Batatas douradas', 'Batatas douradas', 'Batatas douradas', 'Batatas douradas', 'Batatas douradas', 'Batatas douradas', 'Batatas douradas', 'Lulas Recheadas I', 'Lulas Recheadas I', 'Lulas Recheadas I', 'Lulas Recheadas I', 'Lulas Recheadas I', 'Lulas Recheadas I', 'Lulas Recheadas I', 'Lulas Recheadas I', 'Lulas Recheadas I', 'Lulas Recheadas I', 'Lulas Recheadas I', 'Lulas Recheadas I', 'Lulas Recheadas I', 'Fladenbrotpizza', 'Fladenbrotpizza', 'Fladenbrotpizza', 'Fladenbrotpizza', 'Fladenbrotpizza', 'Fladenbrotpizza', 'Fladenbrotpizza', 'Fladenbrotpizza', 'Fladenbrotpizza', 'Fladenbrotpizza', 'Fladenbrotpizza', 'Fladenbrotpizza', 'Die Original Tiroler Schlipfkrapfen', 'Die Original Tiroler Schlipfkrapfen', 'Die Original Tiroler Schlipfkrapfen', 'Die Original Tiroler Schlipfkrapfen', 'Die Original Tiroler Schlipfkrapfen', 'Die Original Tiroler Schlipfkrapfen', 'Die Original Tiroler Schlipfkrapfen', 'Die Original Tiroler Schlipfkrapfen', 'Die Original Tiroler Schlipfkrapfen', 'Die Original Tiroler Schlipfkrapfen', 'Die Original Tiroler Schlipfkrapfen', 'Wirsingrouladen mit Lamm', 'Wirsingrouladen mit Lamm', 'Wirsingrouladen mit Lamm', 'Wirsingrouladen mit Lamm', 'Wirsingrouladen mit Lamm', 'Wirsingrouladen mit Lamm', 'Wirsingrouladen mit Lamm', 'Wirsingrouladen mit Lamm', 'Wirsingrouladen mit Lamm', 'Wirsingrouladen mit Lamm', 'Pelmeni', 'Pelmeni', 'Pelmeni', 'Pelmeni', 'Pelmeni', 'Pelmeni', 'Pelmeni', 'Pelmeni', 'Pelmeni', 'Kartoffelpuffer sehr einfach', 'Kartoffelpuffer sehr einfach', 'Kartoffelpuffer sehr einfach', 'Kartoffelpuffer sehr einfach', 'Kartoffelpuffer sehr einfach', 'Kartoffelpuffer sehr einfach', 'Kartoffelpuffer sehr einfach', 'Kartoffelpuffer sehr einfach', 'Kichererbsen - Bulgur - Auflauf', 'Kichererbsen - Bulgur - Auflauf', 'Kichererbsen - Bulgur - Auflauf', 'Kichererbsen - Bulgur - Auflauf', 'Kichererbsen - Bulgur - Auflauf', 'Kichererbsen - Bulgur - Auflauf', 'Kichererbsen - Bulgur - Auflauf', 'Panna Cotta mit weißer Schokolade', 'Panna Cotta mit weißer Schokolade', 'Panna Cotta mit weißer Schokolade', 'Panna Cotta mit weißer Schokolade', 'Panna Cotta mit weißer Schokolade', 'Panna Cotta mit weißer Schokolade', 'Tomatensoße für Pizza', 'Tomatensoße für Pizza', 'Tomatensoße für Pizza', 'Tomatensoße für Pizza', 'Tomatensoße für Pizza', 'Flammkuchen mit Quark', 'Flammkuchen mit Quark', 'Flammkuchen mit Quark', 'Flammkuchen mit Quark', 'Pizzateig', 'Pizzateig', 'Pizzateig', 'Pizzateig', 'Pizzateig', 'Pizzateig', 'Pizzateig']\n",
      "Cluster 1 : ['Sauerkraut-Quiche', 'Sauerkraut-Quiche', 'Sauerkraut-Quiche', 'Sauerkraut-Quiche', 'Sauerkraut-Quiche', 'Sauerkraut-Quiche', 'Sauerkraut-Quiche', 'Sauerkraut-Quiche', 'Sauerkraut-Quiche', 'Sauerkraut-Quiche', 'Sauerkraut-Quiche', 'Sauerkraut-Quiche', 'Sauerkraut-Quiche', 'Sauerkraut-Quiche', 'Sauerkraut-Quiche', 'Sauerkraut-Quiche', 'Sauerkraut-Quiche', 'Sauerkraut-Quiche', 'Sachertorte', 'Sachertorte', 'Sachertorte', 'Sachertorte', 'Sachertorte', 'Sachertorte', 'Sachertorte', 'Sachertorte', 'Sachertorte', 'Sachertorte', 'Sachertorte', 'Sachertorte', 'Sachertorte', 'Sachertorte', 'Sachertorte', 'Sachertorte', 'Sachertorte', 'Heiße weiße Schokolade', 'Heiße weiße Schokolade', 'Heiße weiße Schokolade', 'Heiße weiße Schokolade', 'Heiße weiße Schokolade', 'Heiße weiße Schokolade', 'Heiße weiße Schokolade', 'Heiße weiße Schokolade', 'Heiße weiße Schokolade', 'Heiße weiße Schokolade', 'Heiße weiße Schokolade', 'Heiße weiße Schokolade', 'Heiße weiße Schokolade', 'Heiße weiße Schokolade', 'Heiße weiße Schokolade', 'Heiße weiße Schokolade', 'Ebly - Risotto', 'Ebly - Risotto', 'Ebly - Risotto', 'Ebly - Risotto', 'Ebly - Risotto', 'Ebly - Risotto', 'Ebly - Risotto', 'Ebly - Risotto', 'Ebly - Risotto', 'Ebly - Risotto', 'Ebly - Risotto', 'Ebly - Risotto', 'Ebly - Risotto', 'Ebly - Risotto', 'Ebly - Risotto', 'Blätterteigrolle gefüllt mit Gemüse und Hackfleisch', 'Blätterteigrolle gefüllt mit Gemüse und Hackfleisch', 'Blätterteigrolle gefüllt mit Gemüse und Hackfleisch', 'Blätterteigrolle gefüllt mit Gemüse und Hackfleisch', 'Blätterteigrolle gefüllt mit Gemüse und Hackfleisch', 'Blätterteigrolle gefüllt mit Gemüse und Hackfleisch', 'Blätterteigrolle gefüllt mit Gemüse und Hackfleisch', 'Blätterteigrolle gefüllt mit Gemüse und Hackfleisch', 'Blätterteigrolle gefüllt mit Gemüse und Hackfleisch', 'Blätterteigrolle gefüllt mit Gemüse und Hackfleisch', 'Blätterteigrolle gefüllt mit Gemüse und Hackfleisch', 'Blätterteigrolle gefüllt mit Gemüse und Hackfleisch', 'Blätterteigrolle gefüllt mit Gemüse und Hackfleisch', 'Blätterteigrolle gefüllt mit Gemüse und Hackfleisch', 'Lammrücken unter der Feta - Pinienkernkruste auf Farfallegemüse aus der Pfanne', 'Lammrücken unter der Feta - Pinienkernkruste auf Farfallegemüse aus der Pfanne', 'Lammrücken unter der Feta - Pinienkernkruste auf Farfallegemüse aus der Pfanne', 'Lammrücken unter der Feta - Pinienkernkruste auf Farfallegemüse aus der Pfanne', 'Lammrücken unter der Feta - Pinienkernkruste auf Farfallegemüse aus der Pfanne', 'Lammrücken unter der Feta - Pinienkernkruste auf Farfallegemüse aus der Pfanne', 'Lammrücken unter der Feta - Pinienkernkruste auf Farfallegemüse aus der Pfanne', 'Lammrücken unter der Feta - Pinienkernkruste auf Farfallegemüse aus der Pfanne', 'Lammrücken unter der Feta - Pinienkernkruste auf Farfallegemüse aus der Pfanne', 'Lammrücken unter der Feta - Pinienkernkruste auf Farfallegemüse aus der Pfanne', 'Lammrücken unter der Feta - Pinienkernkruste auf Farfallegemüse aus der Pfanne', 'Lammrücken unter der Feta - Pinienkernkruste auf Farfallegemüse aus der Pfanne', 'Lammrücken unter der Feta - Pinienkernkruste auf Farfallegemüse aus der Pfanne', 'Österreichische Grießnocken', 'Österreichische Grießnocken', 'Österreichische Grießnocken', 'Österreichische Grießnocken', 'Österreichische Grießnocken', 'Österreichische Grießnocken', 'Österreichische Grießnocken', 'Österreichische Grießnocken', 'Österreichische Grießnocken', 'Österreichische Grießnocken', 'Österreichische Grießnocken', 'Österreichische Grießnocken', 'Zucchini - Champignon - Lasagne', 'Zucchini - Champignon - Lasagne', 'Zucchini - Champignon - Lasagne', 'Zucchini - Champignon - Lasagne', 'Zucchini - Champignon - Lasagne', 'Zucchini - Champignon - Lasagne', 'Zucchini - Champignon - Lasagne', 'Zucchini - Champignon - Lasagne', 'Zucchini - Champignon - Lasagne', 'Zucchini - Champignon - Lasagne', 'Zucchini - Champignon - Lasagne', 'Putenröllchen mit Ricottafüllung', 'Putenröllchen mit Ricottafüllung', 'Putenröllchen mit Ricottafüllung', 'Putenröllchen mit Ricottafüllung', 'Putenröllchen mit Ricottafüllung', 'Putenröllchen mit Ricottafüllung', 'Putenröllchen mit Ricottafüllung', 'Putenröllchen mit Ricottafüllung', 'Putenröllchen mit Ricottafüllung', 'Putenröllchen mit Ricottafüllung', 'Pfannengyros mit Gurken - Dip', 'Pfannengyros mit Gurken - Dip', 'Pfannengyros mit Gurken - Dip', 'Pfannengyros mit Gurken - Dip', 'Pfannengyros mit Gurken - Dip', 'Pfannengyros mit Gurken - Dip', 'Pfannengyros mit Gurken - Dip', 'Pfannengyros mit Gurken - Dip', 'Pfannengyros mit Gurken - Dip', 'Baeckeofe aus dem Elsaß', 'Baeckeofe aus dem Elsaß', 'Baeckeofe aus dem Elsaß', 'Baeckeofe aus dem Elsaß', 'Baeckeofe aus dem Elsaß', 'Baeckeofe aus dem Elsaß', 'Baeckeofe aus dem Elsaß', 'Baeckeofe aus dem Elsaß', 'Süße Dampfnudeln', 'Süße Dampfnudeln', 'Süße Dampfnudeln', 'Süße Dampfnudeln', 'Süße Dampfnudeln', 'Süße Dampfnudeln', 'Süße Dampfnudeln', 'Boeuf en daube', 'Boeuf en daube', 'Boeuf en daube', 'Boeuf en daube', 'Boeuf en daube', 'Boeuf en daube', 'Moussaka mit Schafskäse - Bechamelsauce', 'Moussaka mit Schafskäse - Bechamelsauce', 'Moussaka mit Schafskäse - Bechamelsauce', 'Moussaka mit Schafskäse - Bechamelsauce', 'Moussaka mit Schafskäse - Bechamelsauce', 'Quiche Lorraine', 'Quiche Lorraine', 'Quiche Lorraine', 'Quiche Lorraine', 'Quiche Lorraine', 'Quiche Lorraine', 'Quiche Lorraine', 'Quiche Lorraine', 'Quiche Lorraine', 'Quiche Lorraine', 'Quiche Lorraine']\n",
      "Cluster 2 : ['Pizzateig mit Sauerteig', 'Pizzateig mit Sauerteig', 'Pizzateig mit Sauerteig', 'Pizzateig mit Sauerteig', 'Pizzateig mit Sauerteig', 'Pizzateig mit Sauerteig', 'Pizzateig mit Sauerteig', 'Pizzateig mit Sauerteig', 'Pizzateig mit Sauerteig', 'Pizzateig mit Sauerteig', 'Pizzateig mit Sauerteig', 'Tomaten-Basilikum-Risotto mit Mozzarella', 'Tomaten-Basilikum-Risotto mit Mozzarella', 'Tomaten-Basilikum-Risotto mit Mozzarella', 'Tomaten-Basilikum-Risotto mit Mozzarella', 'Tomaten-Basilikum-Risotto mit Mozzarella', 'Tomaten-Basilikum-Risotto mit Mozzarella', 'Tomaten-Basilikum-Risotto mit Mozzarella', 'Tomaten-Basilikum-Risotto mit Mozzarella', 'Tomaten-Basilikum-Risotto mit Mozzarella', 'Tomaten-Basilikum-Risotto mit Mozzarella', 'Spaghetti mit Spinat-Frischkäsesoße und gebratenen Tomaten', 'Spaghetti mit Spinat-Frischkäsesoße und gebratenen Tomaten', 'Spaghetti mit Spinat-Frischkäsesoße und gebratenen Tomaten', 'Spaghetti mit Spinat-Frischkäsesoße und gebratenen Tomaten', 'Spaghetti mit Spinat-Frischkäsesoße und gebratenen Tomaten', 'Spaghetti mit Spinat-Frischkäsesoße und gebratenen Tomaten', 'Spaghetti mit Spinat-Frischkäsesoße und gebratenen Tomaten', 'Spaghetti mit Spinat-Frischkäsesoße und gebratenen Tomaten', 'Spaghetti mit Spinat-Frischkäsesoße und gebratenen Tomaten', 'Griechischer Fischauflauf', 'Griechischer Fischauflauf', 'Griechischer Fischauflauf', 'Griechischer Fischauflauf', 'Griechischer Fischauflauf', 'Griechischer Fischauflauf', 'Griechischer Fischauflauf', 'Griechischer Fischauflauf', 'Griechischer Bohneneintopf', 'Griechischer Bohneneintopf', 'Griechischer Bohneneintopf', 'Griechischer Bohneneintopf', 'Griechischer Bohneneintopf', 'Griechischer Bohneneintopf', 'Griechischer Bohneneintopf', 'Zyprischer Gemüseauflauf', 'Zyprischer Gemüseauflauf', 'Zyprischer Gemüseauflauf', 'Zyprischer Gemüseauflauf', 'Zyprischer Gemüseauflauf', 'Zyprischer Gemüseauflauf', 'Tzatziki', 'Tzatziki', 'Tzatziki', 'Tzatziki', 'Tzatziki', 'Tzatziki', 'Tzatziki', 'Tzatziki', 'Tzatziki', 'Tzatziki', 'Tzatziki', 'Tzatziki', 'Tzatziki', 'Tzatziki', 'Tzatziki', 'Tzatziki']\n",
      "Cluster 3 : ['Kaninchen mit Zwiebeln', 'Kaninchen mit Zwiebeln', 'Kaninchen mit Zwiebeln', 'Kaninchen mit Zwiebeln', 'Kaninchen mit Zwiebeln', 'Kaninchen mit Zwiebeln', 'Kaninchen mit Zwiebeln', 'Kaninchen mit Zwiebeln', 'Mediterranes Rotbarschfilet mit Paprika', 'Mediterranes Rotbarschfilet mit Paprika', 'Mediterranes Rotbarschfilet mit Paprika', 'Mediterranes Rotbarschfilet mit Paprika', 'Mediterranes Rotbarschfilet mit Paprika', 'Mediterranes Rotbarschfilet mit Paprika', 'Mediterranes Rotbarschfilet mit Paprika', 'Fritten', 'Fritten', 'Fritten', 'Fritten', 'Fritten', 'Fritten', 'Hack-Pizza-Schnecken', 'Hack-Pizza-Schnecken', 'Hack-Pizza-Schnecken', 'Hack-Pizza-Schnecken', 'Hack-Pizza-Schnecken', 'Bulgur-Pilaw mit Joghurt', 'Bulgur-Pilaw mit Joghurt', 'Bulgur-Pilaw mit Joghurt', 'Bulgur-Pilaw mit Joghurt', 'Tiramisu', 'Tiramisu', 'Tiramisu', 'Tiramisu', 'Tiramisu', 'Tiramisu', 'Tiramisu']\n",
      "Cluster 4 : ['Gänsebraten aus den Familienschätzen', 'Gänsebraten aus den Familienschätzen', 'Gänsebraten aus den Familienschätzen', 'Gänsebraten aus den Familienschätzen', 'Gänsebraten aus den Familienschätzen', 'Gänsebraten aus den Familienschätzen', 'Gänsebraten aus den Familienschätzen', 'Gänsebraten aus den Familienschätzen', 'Berliner Bollenfleisch mit Quetschkartoffeln', 'Berliner Bollenfleisch mit Quetschkartoffeln', 'Berliner Bollenfleisch mit Quetschkartoffeln', 'Berliner Bollenfleisch mit Quetschkartoffeln', 'Berliner Bollenfleisch mit Quetschkartoffeln', 'Berliner Bollenfleisch mit Quetschkartoffeln', 'Berliner Bollenfleisch mit Quetschkartoffeln', 'Rheinischer Döppekooche', 'Rheinischer Döppekooche', 'Rheinischer Döppekooche', 'Rheinischer Döppekooche', 'Rheinischer Döppekooche', 'Rheinischer Döppekooche', 'Hefezopf wie beim Bäcker', 'Hefezopf wie beim Bäcker', 'Hefezopf wie beim Bäcker', 'Hefezopf wie beim Bäcker', 'Hefezopf wie beim Bäcker', 'Holländische Makronen', 'Holländische Makronen', 'Holländische Makronen', 'Holländische Makronen', 'Coq au vin', 'Coq au vin', 'Coq au vin', 'Coq au vin', 'Coq au vin', 'Coq au vin', 'Coq au vin']\n"
     ]
    }
   ],
   "source": [
    "# sorting within the clusters by cosine similarity of its elements to the first element\n",
    "sorted_clusters = []\n",
    "\n",
    "for cluster in clusters:\n",
    "    # get the first element of the cluster\n",
    "    first_element = cluster[0]\n",
    "    # get the cosine similarities of all elements in the cluster to the first element\n",
    "    similarities = cosine_sim[first_element][cluster]\n",
    "    # sort the cluster by the cosine similarities\n",
    "    cluster = [x for _, x in sorted(zip(similarities, cluster), reverse=True)]\n",
    "    sorted_clusters.append(cluster)\n",
    "\n",
    "# print values of first 5 clusters\n",
    "for i in range(5):\n",
    "    print('Cluster', i, ':', [merged.iloc[j]['RecipeTitle'] for j in sorted_clusters[i]])"
   ]
  },
  {
   "cell_type": "code",
   "execution_count": null,
   "metadata": {},
   "outputs": [],
   "source": []
  }
 ],
 "metadata": {
  "kernelspec": {
   "display_name": "anja-ma",
   "language": "python",
   "name": "python3"
  },
  "language_info": {
   "codemirror_mode": {
    "name": "ipython",
    "version": 3
   },
   "file_extension": ".py",
   "mimetype": "text/x-python",
   "name": "python",
   "nbconvert_exporter": "python",
   "pygments_lexer": "ipython3",
   "version": "3.12.1"
  }
 },
 "nbformat": 4,
 "nbformat_minor": 2
}
