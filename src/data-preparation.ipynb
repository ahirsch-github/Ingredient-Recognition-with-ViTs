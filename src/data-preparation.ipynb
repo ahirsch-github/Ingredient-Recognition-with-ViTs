{
 "cells": [
  {
   "cell_type": "markdown",
   "metadata": {},
   "source": [
    "# Preparation of Ingredient recognition dataset"
   ]
  },
  {
   "cell_type": "markdown",
   "metadata": {},
   "source": [
    "This notebook is used to prepare the dataset for the ingredient detection task. The used datasets are the [Food-101](https://www.kaggle.com/datasets/dansbecker/food-101) for the images and the [Ingredient-101](http://www.ub.edu/cvub/ingredients101/) for the ingredients. The Food-101 dataset contains 101 food categories with 1000 images each. \n",
    "The Ingredient-101 dataset extends the Food-101 dataset with the ingredients for each image. The simplified version of the Ingredients-101 dataset contains 227 different ingredients, which is used in this notebook. The goal is to create a training, validation, and test dataset with images and the corresponding ingredients."
   ]
  },
  {
   "cell_type": "markdown",
   "metadata": {},
   "source": [
    "## Import libraries"
   ]
  },
  {
   "cell_type": "code",
   "execution_count": 41,
   "metadata": {},
   "outputs": [],
   "source": [
    "from pathlib import Path\n",
    "import warnings\n",
    "warnings.filterwarnings(\"ignore\")\n",
    "import os\n",
    "import json\n",
    "import jsonlines\n",
    "import datasets\n",
    "import random\n",
    "from PIL import Image\n"
   ]
  },
  {
   "cell_type": "markdown",
   "metadata": {},
   "source": [
    "## Data Loading"
   ]
  },
  {
   "cell_type": "code",
   "execution_count": 42,
   "metadata": {},
   "outputs": [],
   "source": [
    "annotations_path = Path(\"../data/ingredients-101/Annotations/\")\n",
    "images_path = Path(\"../data/food-101/images/\")\n",
    "ingredients_path = 'ingredients_simplified.txt'\n",
    "simplifications_path = Path(\"../data/ingredients-101/ingredients_simplification/\")"
   ]
  },
  {
   "cell_type": "code",
   "execution_count": 43,
   "metadata": {},
   "outputs": [],
   "source": [
    "def read_data(path, file):\n",
    "    with open(path / file, 'r') as f:\n",
    "        data = f.read().strip().split('\\n')\n",
    "    return data"
   ]
  },
  {
   "cell_type": "code",
   "execution_count": 44,
   "metadata": {},
   "outputs": [],
   "source": [
    "train_images = read_data(annotations_path, 'train_images.txt')\n",
    "val_images = read_data(annotations_path, 'val_images.txt')\n",
    "test_images = read_data(annotations_path, 'test_images.txt')\n",
    "\n",
    "train_labels = read_data(annotations_path, 'train_labels.txt')\n",
    "val_labels = read_data(annotations_path, 'val_labels.txt')\n",
    "test_labels = read_data(annotations_path, 'test_labels.txt')\n",
    "\n",
    "base_ingredients = read_data(simplifications_path, 'baseIngredients.txt')\n",
    "ingredients_simplified = read_data(annotations_path, ingredients_path)"
   ]
  },
  {
   "cell_type": "markdown",
   "metadata": {},
   "source": [
    "## Data Exploration"
   ]
  },
  {
   "cell_type": "code",
   "execution_count": 45,
   "metadata": {},
   "outputs": [
    {
     "name": "stdout",
     "output_type": "stream",
     "text": [
      "['apple_pie/1005649', 'baby_back_ribs/2609854', 'baklava/824035', 'beef_tartare/2728369', 'beet_salad/651251', 'bibimbap/247378', 'bread_pudding/577928', 'bruschetta/2381015', 'caesar_salad/388850', 'caprese_salad/2287006', 'carrot_cake/3920883', 'cheesecake/2094088', 'cheese_plate/3803340', 'chicken_quesadilla/1952791', 'chicken_wings/3536403', 'chocolate_mousse/1872460', 'churros/3384419', 'club_sandwich/1569490', 'crab_cakes/327268', 'croque_madame/1488004', 'cup_cakes/323974', 'donuts/1396491', 'dumplings/3061004', 'eggs_benedict/1242995', 'escargots/2995220', 'filet_mignon/1125845', 'fish_and_chips/288992', 'french_fries/100148', 'french_onion_soup/2636895', 'french_toast/861171', 'fried_rice/2552407', 'frozen_yogurt/730932', 'gnocchi/2595566', 'greek_salad/624309', 'grilled_salmon/2315101', 'guacamole/598769', 'hamburger/2217236', 'hot_and_sour_soup/457763', 'huevos_rancheros/198909', 'hummus/3770127', 'lasagna/198015', 'lobster_bisque/3510579', 'macaroni_and_cheese/1788759', 'macarons/3472875', 'mussels/1682951', 'nachos/3382163', 'onion_rings/147474', 'oysters/3286116', 'paella/1412551', 'pancakes/3316562', 'peking_duck/1270027', 'pho/309680', 'pork_chop/113956', 'poutine/2915507', 'pulled_pork_sandwich/1004064', 'ramen/2783434', 'ravioli/887254', 'risotto/2594895', 'samosa/745258', 'scallops/255030', 'seaweed_salad/673931', 'spaghetti_bolognese/2329553', 'spaghetti_carbonara/447961', 'steak/2233395', 'strawberry_shortcake/544581', 'tacos/2025456', 'takoyaki/3915038', 'tuna_tartare/1960307', 'waffles/3610812']\n"
     ]
    }
   ],
   "source": [
    "# get every 1000th image in the training set\n",
    "print(train_images[::1000])"
   ]
  },
  {
   "cell_type": "code",
   "execution_count": 46,
   "metadata": {},
   "outputs": [
    {
     "name": "stdout",
     "output_type": "stream",
     "text": [
      "['0', '1', '2', '4', '5', '7', '8', '10', '11', '13', '14', '16', '17', '19', '20', '22', '23', '25', '26', '28', '29', '31', '32', '34', '35', '37', '38', '40', '41', '42', '44', '45', '47', '48', '50', '51', '53', '54', '56', '57', '59', '60', '62', '63', '65', '66', '68', '69', '71', '72', '74', '75', '77', '78', '80', '81', '82', '84', '85', '87', '88', '90', '91', '93', '94', '96', '97', '99', '100']\n"
     ]
    }
   ],
   "source": [
    "# get every 1000th label in the training set\n",
    "print(train_labels[::1000])"
   ]
  },
  {
   "cell_type": "code",
   "execution_count": 47,
   "metadata": {},
   "outputs": [
    {
     "data": {
      "text/plain": [
       "['butter,flour,sugar,brown sugar,apple,cinnamon,nut',\n",
       " 'baby back ribs,apple,salt,mustard,brown sugar,worcestershire,gin,chili',\n",
       " 'nut,cinnamon,bread,butter,phyllo dough,sugar,honey,lemon,baklava',\n",
       " 'beef,lemon,gin,salt,pepper,baby arugula,asiago',\n",
       " 'fat,steak,gin,shallot,parsley,capers,worcestershire,egg,black pepper,crostini',\n",
       " 'beets,spinach,gorgonzola,nut,red wine,dijon mustard,gin,salt,black pepper,herbs',\n",
       " 'water,sugar,yeast,egg,salt,milk,butter,flour,sugar',\n",
       " 'grain,steak,soybean sprouts,spinach,cucumber,zucchini,carrot,garlic,scallions,soy,oil,seeds,salt,pepper,oil,egg,pepper,sugar,water',\n",
       " 'bread,milk,sugar,butter,salt,egg,vanilla',\n",
       " 'rolls,bacon,egg,brie,onion,cheddar,flour,salsa',\n",
       " 'plum,garlic,gin,balsamic vinegar,basil,salt,black pepper,baguette',\n",
       " 'garlic,plain greek yogurt,cheese,worcestershire,dijon mustard,lemon,anchovy,salt,pepper,lettuce,croutons',\n",
       " 'sugar,cheese,almond,chocolate,liqueur,cannoli shells,cocoa,cocktail',\n",
       " 'balsamic vinegar,tomato,cheese,basil,oil,black pepper,salt',\n",
       " 'flour,baking,cinnamon,salt,sugar,egg,oil,apple,vanilla,carrot,cheese,butter,sugar,milk',\n",
       " 'red snapper,lime,lemon,onion,tomato,serrano chilies,salt,oregano,pepper,cayenne pepper,cilantro,avocado,tortillas',\n",
       " 'ham,sugar,butter,cheese,egg,vanilla',\n",
       " 'fig,brie,honey',\n",
       " 'chicken,black pepper,salt,curry,oil,onion,cloves,gin,broth,corn starch,sugar,peas,greek yogurt,cilantro',\n",
       " 'chicken,cheddar,cumin,jalapeno chilies,wheat tortillas,salsa',\n",
       " 'chicken,soy,garlic,sugar',\n",
       " 'whipping,chocolate,sugar,butter',\n",
       " 'vanilla,salt,egg,sugar,chocolate,chocolate',\n",
       " 'water,butter,salt,sugar,flour,egg,oil,cinnamon',\n",
       " 'salt,flour,milk,fat,onion,celery,potato,clam,butter',\n",
       " \"bacon,morningstar farms chick'n patties,fat,bread,lettuce,cheddar,tomato\",\n",
       " 'crab,butter,shallot,salt,egg,worcestershire,paprika,black pepper,tartar,lemon,pepper,parsley,bread,bread',\n",
       " 'butter,egg,sugar,whipping,vanilla,berries',\n",
       " 'butter,flour,milk,cheese,thyme,nut,salt,pepper,bread,dijon mustard,bacon,egg',\n",
       " 'cake,butter,caster sugar,flour,soda,baking,vanilla essence,milk,icing,sugar',\n",
       " 'egg,mayonnaise,dijon mustard,paprika,salt,pepper,chives',\n",
       " 'nut,spray,sugar,butter,egg,flour,baking,baking,salt,nut,butter,glaze,sugar,fat,maple syrup,colored sprinkles',\n",
       " 'baking,shortening,flour,milk,salt',\n",
       " 'salt,edam,salt',\n",
       " 'english muffin,bacon,egg,butter,lemon,cayenne pepper',\n",
       " 'snails,butter,mushroom,garlic,cheese,parsley',\n",
       " 'beans,onion,parsley,garlic,flour,salt,cumin,coriander,black pepper,cayenne pepper,cardamom,oil',\n",
       " 'filet,oil,garlic,gin,salt,pepper',\n",
       " 'oil,potato,beer,flour,cod,pepper,chili,old bay,vinegar',\n",
       " 'foie gras,salt,milk',\n",
       " 'potato,flour,salt,black pepper,cayenne pepper,oil',\n",
       " 'onion,butter,oil,salt,sugar,flour,beef,vermouth,pepper,baguette,cloves,cheese',\n",
       " 'egg,milk,vanilla,cinnamon,salt,baguette,butter,sugar,maple syrup',\n",
       " 'oil,calamari,flour,masa harina,parsley,lemon,parsley,salt,lemon,mayonnaise',\n",
       " 'brown rice,oil,peas,carrot,garlic,egg,soy',\n",
       " 'milk,sugar,vanilla',\n",
       " 'egg,tartar,egg,cloves',\n",
       " 'potato,egg,flour,salt',\n",
       " 'tomato,cherry,onion,cucumber,pepper,lettuce,thyme,chives,feta,olive,oil,red wine,oregano,salt,black pepper',\n",
       " 'bread,cheddar,tomato,onion,oil',\n",
       " 'salmon,brown sugar,lemon,lemon,soy,water,oil',\n",
       " 'avocado,onion,jalapeno chilies,cilantro,salt,lime',\n",
       " 'cabbage,pork,onion,soy,sake,oil,garlic,corn starch,gyoza wrappers,oil,water,rice,oil',\n",
       " 'beef,cheese,mayonnaise,ketchup,mustard,dill,black pepper,onion,tomato,lettuce',\n",
       " 'broth,soy,pepper,shiitake,rice,corn starch,egg,tofu,gin,scallions',\n",
       " 'dogs,dog bun,chili,onion,cheddar,mayonnaise,mustard,relish',\n",
       " 'oil,onion,tomato,anaheim chile,cumin,adobo,chili,corn tortillas,butter,egg,cilantro',\n",
       " 'chickpea,garlic,tahini,lemon,oil,salt,parsley',\n",
       " 'cocoa,brown sugar,milk,vanilla',\n",
       " 'pork,onion,garlic,tomato,tomato,italian,fennel,black pepper,noodles,egg,cheese,cheese,cheese',\n",
       " 'parsley,thyme,bay,lobster,butter,gin,bran,shallot,carrot,celery,garlic,onion,salt,tomato,white wine,fish,cayenne pepper,corn starch,egg,chives',\n",
       " 'mayonnaise,dijon mustard,celery,lemon,old bay,lobster,lettuce,dog rolls',\n",
       " 'macaroni,cheddar,butter,milk,salt,pepper',\n",
       " 'sugar,almond,sugar,egg',\n",
       " 'noodles,miso,tofu,cress,onion,cilantro,pepper,miso,apple,gin,turmeric,water',\n",
       " 'oil,cloves,tomato,mussels,white wine,parsley,bread',\n",
       " 'chips,beef,beans,salsa,cheese,onion,cilantro,jalapeno chilies,pickle',\n",
       " 'egg,oil,cheese,chilli,chives,dill,salmon',\n",
       " 'onion,flour,baking,egg,bread,oil',\n",
       " 'butter,celery,shallot,oyster,black pepper,cayenne pepper',\n",
       " 'noodles,water,oil,cilantro,pepper,shrimp,shallot,egg,sugar,oyster,fish,lime,beans,scallions,nut,lime',\n",
       " 'paella,chorizo,chicken,onion,garlic,chicken,tomato,saffron,paprika,oil,parsley,salt,pepper,shrimp,mussels,clams,lemon',\n",
       " 'flour,baking,sugar,butter,egg,cake,bacon,onion,tomato,cheese,chives,parsley,salt,black pepper,maple syrup,oil,butter',\n",
       " 'sugar,vanilla,unflavored gelatin,cold water',\n",
       " 'duck,cinnamon,gin,nut,pepper,cloves,soy,honey,orange,parsley,onion,jam,sugar,vinegar,chutney',\n",
       " 'marrow,oxtail,beef,clove,anise,cinnamon,cardamom,black pepper,coriander,fennel,gin,onion,shallot,fish,sugar,noodles,scallions,eye round,cilantro,basil,beans,lime,bird chile,chile,hoisin',\n",
       " 'pizza,cherry,olive,oregano,basil,salt,oil,cheese',\n",
       " 'pork,orange,lime,black pepper,cumin,cayenne pepper,garlic,oregano,oil,onion,garlic,white wine',\n",
       " 'potato,corn starch,oil,cheese',\n",
       " 'rib-eye roast,oil,salt,pepper,rosemary,thyme,garlic',\n",
       " 'onion,garlic,jalapeno chilies,chipotle,tomato,dijon mustard,vinegar,paprika,ketchup,worcestershire,brown sugar,bay leaf,salt,shoulder roast,buns',\n",
       " 'shiitake,gin,dashi,noodles,egg,baby bok choy,radish,miso,soy,oil,scallions,pepper',\n",
       " 'cheese,pasta,cheese,cheese',\n",
       " 'cake,sugar,cocoa,baking,salt,oil,butter,egg,red food coloring,vanilla,vinegar,butter,cheese,sugar,chocolate',\n",
       " 'oil,arborio rice,risotto,broth,butter,cheese',\n",
       " 'oil,potato,peas,cumin,salt,chili,chilli,garam masala,gin,coriander,flour,water,cold water,oil',\n",
       " 'sashimi,rice,mirin,oil,gin',\n",
       " 'scallop,cajun,oil,butter,cayenne pepper,salt,pepper,greens',\n",
       " 'seaweed,seeds,tomato,rice',\n",
       " 'grits,water,salt,butter,cheddar,cheese,cheese,pepper,pepper,shrimp,salt,flour,bacon,fat,mushroom,pepper,cloves,onion,plum,chicken,lemon',\n",
       " 'spaghetti,beef,pancetta,tomato,tomato,red wine,carrot,celery,onion,garlic,cheese,basil,oregano,bay,oil,salt,black pepper,cheese',\n",
       " 'spaghetti,egg,cheese,bacon,garlic,salt,black pepper,parsley',\n",
       " 'spring roll wrappers,noodles,carrot,cucumber,onion,soy,oil,seeds',\n",
       " 'oil,garlic,black pepper,salt,sirloin,steak,worcestershire',\n",
       " 'strawberries,sugar,whipping,vanilla,honey,biscuits',\n",
       " 'rice,water,rice,sugar,salt',\n",
       " 'onion,garlic,beef,chili,salt,sugar,corn tortillas,salsa,cilantro,lime',\n",
       " 'flour,egg,cold water,salt,konbu dashi,dashi,soy,octopus,onion,pie,cheese',\n",
       " 'egg,sugar,mascarpone,brewed espresso,frangelico,rum,lady fingers,cocoa',\n",
       " 'sushi grade tuna,scallions,tomato,cilantro,gin,soy,oil,cucumber',\n",
       " 'egg,salt,sugar,vanilla,butter,flour,baking,milk']"
      ]
     },
     "execution_count": 47,
     "metadata": {},
     "output_type": "execute_result"
    }
   ],
   "source": [
    "ingredients_simplified"
   ]
  },
  {
   "cell_type": "markdown",
   "metadata": {},
   "source": [
    "The ``train_images`` contain the image filenames for the training dataset, the ``train_labels`` contain the corresponding labels for the training dataset. The labels are not the ingredients, but the food categories. The ingredients needed for training are contained in ``ingredients_simplified``."
   ]
  },
  {
   "cell_type": "markdown",
   "metadata": {},
   "source": [
    "## Data Preprocessing"
   ]
  },
  {
   "cell_type": "markdown",
   "metadata": {},
   "source": [
    "### Fix unclear labels"
   ]
  },
  {
   "cell_type": "code",
   "execution_count": 51,
   "metadata": {},
   "outputs": [],
   "source": [
    "# change 'baking' to 'baking powder' in ingredients_simplified\n",
    "ingredients_simplified = [line.replace('baking', 'baking powder') for line in ingredients_simplified]"
   ]
  },
  {
   "cell_type": "markdown",
   "metadata": {},
   "source": [
    "### Convert Ingredients List to Multi-label Format"
   ]
  },
  {
   "cell_type": "code",
   "execution_count": 52,
   "metadata": {},
   "outputs": [
    {
     "data": {
      "text/plain": [
       "['butter,flour,sugar,brown sugar,apple,cinnamon,nut',\n",
       " 'baby back ribs,apple,salt,mustard,brown sugar,worcestershire,gin,chili',\n",
       " 'nut,cinnamon,bread,butter,phyllo dough,sugar,honey,lemon,baklava']"
      ]
     },
     "execution_count": 52,
     "metadata": {},
     "output_type": "execute_result"
    }
   ],
   "source": [
    "ingredients_simplified[:3]"
   ]
  },
  {
   "cell_type": "code",
   "execution_count": 53,
   "metadata": {},
   "outputs": [
    {
     "data": {
      "text/plain": [
       "['butter',\n",
       " 'flour',\n",
       " 'sugar',\n",
       " 'brown sugar',\n",
       " 'apple',\n",
       " 'cinnamon',\n",
       " 'nut',\n",
       " 'baby back ribs',\n",
       " 'apple',\n",
       " 'salt']"
      ]
     },
     "execution_count": 53,
     "metadata": {},
     "output_type": "execute_result"
    }
   ],
   "source": [
    "corrected_ingredients_simplified = [ingredient.strip() for sublist in ingredients_simplified for ingredient in sublist.split(',')]\n",
    "corrected_ingredients_simplified[:10]"
   ]
  },
  {
   "cell_type": "code",
   "execution_count": 54,
   "metadata": {},
   "outputs": [
    {
     "data": {
      "text/plain": [
       "227"
      ]
     },
     "execution_count": 54,
     "metadata": {},
     "output_type": "execute_result"
    }
   ],
   "source": [
    "# get only the unique ingredients\n",
    "unique_ingredients = list(set(corrected_ingredients_simplified))\n",
    "num_unique_ingredients = len(unique_ingredients)\n",
    "num_unique_ingredients"
   ]
  },
  {
   "cell_type": "code",
   "execution_count": 61,
   "metadata": {},
   "outputs": [],
   "source": [
    "# sort the ingredients alphabetically\n",
    "unique_ingredients.sort()\n",
    "\n",
    "# create a dictionary with the ingredients as keys and the index as values\n",
    "ingredient_to_idx = {ingredient: idx for idx, ingredient in enumerate(unique_ingredients)}\n",
    "idx_to_ingredient = {idx: ingredient for ingredient, idx in ingredient_to_idx.items()}\n",
    "\n",
    "# create the directory if it does not exist\n",
    "os.makedirs('../data/food-ingredients', exist_ok=True)\n",
    "\n",
    "# save to a file\n",
    "with open('../data/food-ingredients/ingredient_to_idx.txt', 'w') as f:\n",
    "    for key, value in ingredient_to_idx.items():\n",
    "        f.write(f'{key}, {value}\\n')\n",
    "\n",
    "# save to a file\n",
    "with open('../data/food-ingredients/idx_to_ingredient.txt', 'w') as f:\n",
    "    for key, value in idx_to_ingredient.items():\n",
    "        f.write(f'{key}, {value}\\n')"
   ]
  },
  {
   "cell_type": "code",
   "execution_count": 56,
   "metadata": {},
   "outputs": [
    {
     "data": {
      "text/plain": [
       "[[36, 100, 206, 34, 5, 63, 143],\n",
       " [10, 5, 183, 141, 34, 224, 105, 54],\n",
       " [143, 63, 29, 36, 160, 206, 116, 124, 15],\n",
       " [21, 124, 105, 183, 159, 9, 7],\n",
       " [94, 204, 105, 190, 156, 42, 224, 91, 27, 78]]"
      ]
     },
     "execution_count": 56,
     "metadata": {},
     "output_type": "execute_result"
    }
   ],
   "source": [
    "numerical_ingredients_simplified = [[ingredient_to_idx[ingredient.strip()] for ingredient in sublist.split(',')] for sublist in ingredients_simplified]\n",
    "\n",
    "numerical_ingredients_simplified[:5]"
   ]
  },
  {
   "cell_type": "code",
   "execution_count": 57,
   "metadata": {},
   "outputs": [
    {
     "name": "stdout",
     "output_type": "stream",
     "text": [
      "salt\n",
      "['baby back ribs', 'apple', 'salt', 'mustard', 'brown sugar', 'worcestershire', 'gin', 'chili']\n"
     ]
    }
   ],
   "source": [
    "# manually check the correctness of the conversion\n",
    "print(idx_to_ingredient[183])\n",
    "\n",
    "print([idx_to_ingredient[idx] for idx in numerical_ingredients_simplified[1]]) "
   ]
  },
  {
   "cell_type": "code",
   "execution_count": 58,
   "metadata": {},
   "outputs": [],
   "source": [
    "# Create a dictionary to map each class to its ingredients\n",
    "class_to_ingredients = {i: ingredients for i, ingredients in enumerate(ingredients_simplified)}\n",
    "class_to_ingredients\n",
    "\n",
    "# save to a file<\n",
    "with open('../data/food-ingredients/class_to_ingredients.jsonl', 'w') as f:\n",
    "    for key, value in class_to_ingredients.items():\n",
    "        f.write(json.dumps({key: value}) + '\\n')"
   ]
  },
  {
   "cell_type": "markdown",
   "metadata": {},
   "source": [
    "### Create Train, Valid and Test Datasets"
   ]
  },
  {
   "cell_type": "code",
   "execution_count": 59,
   "metadata": {},
   "outputs": [],
   "source": [
    "def create_jsonl_file(file_path, images, labels, class_to_ingredients, ingredient_to_idx, images_path):\n",
    "    with jsonlines.open(file_path, 'w') as writer:\n",
    "        for image, label in zip(images, labels):\n",
    "            ingredients = class_to_ingredients[int(label)]\n",
    "            ingredients_numeric = [ingredient_to_idx[ingredient] for ingredient in ingredients.split(',')]\n",
    "            writer.write({'image': str(images_path) + '/' + image + '.jpg', 'ingredients': ingredients_numeric, 'ingredients_names': ingredients.split(','), 'class': int(label), 'class_name': image.split('/')[0]})\n",
    "\n",
    "create_jsonl_file('../data/food-ingredients/train.jsonl', train_images, train_labels, class_to_ingredients, ingredient_to_idx, images_path)\n",
    "create_jsonl_file('../data/food-ingredients/val.jsonl', val_images, val_labels, class_to_ingredients, ingredient_to_idx, images_path)\n",
    "create_jsonl_file('../data/food-ingredients/test.jsonl', test_images, test_labels, class_to_ingredients, ingredient_to_idx, images_path)"
   ]
  },
  {
   "cell_type": "code",
   "execution_count": 60,
   "metadata": {},
   "outputs": [
    {
     "name": "stderr",
     "output_type": "stream",
     "text": [
      "Generating train split: 68175 examples [00:00, 868391.86 examples/s]\n",
      "Generating val split: 7575 examples [00:00, 582905.60 examples/s]\n",
      "Generating test split: 25250 examples [00:00, 841694.23 examples/s]\n"
     ]
    }
   ],
   "source": [
    "# load dataset\n",
    "data_files = {\"train\": \"../data/food-ingredients/train.jsonl\", \"val\": \"../data/food-ingredients/val.jsonl\", \"test\": \"../data/food-ingredients/test.jsonl\"}\n",
    "\n",
    "dataset = datasets.load_dataset('json', data_files=data_files)"
   ]
  },
  {
   "cell_type": "markdown",
   "metadata": {},
   "source": [
    "### Create T_500 Dataset\n",
    "\n",
    "In some cases, a smaller dataset is needed to evaluate the models performance on a smaller scale. This smaller dataset is called T_500 and consists of 500 images selected from the test set. The subset contains at least 4 images from each of the 101 food categories, which enables a balanced presentation and at the same time reduces the calculation effort."
   ]
  },
  {
   "cell_type": "code",
   "execution_count": null,
   "metadata": {},
   "outputs": [],
   "source": [
    "# set seed for reproducibility\n",
    "random.seed(42)"
   ]
  },
  {
   "cell_type": "code",
   "execution_count": null,
   "metadata": {},
   "outputs": [],
   "source": [
    "# function to check if an image is valid\n",
    "def is_valid_image(image_path):\n",
    "    try:\n",
    "        with Image.open(image_path) as img:\n",
    "            if img.format.lower() not in ['png', 'jpeg', 'jpg', 'gif', 'webp']:\n",
    "                return False\n",
    "            if os.path.getsize(image_path) > 20 * 1024 * 1024:\n",
    "                return False\n",
    "        return True\n",
    "    except Exception:\n",
    "        return False\n",
    "\n",
    "# function to perform stratified sampling\n",
    "def stratified_sample(data, n):\n",
    "    # get the number of classes by counting different values in the 'class' column\n",
    "    classes = {}\n",
    "    for item in data:\n",
    "        class_name = item['class']\n",
    "        if class_name not in classes:\n",
    "            classes[class_name] = []\n",
    "        classes[class_name].append(item)\n",
    "\n",
    "    print(len(classes))\n",
    "\n",
    "    # calculate the number of samples per class\n",
    "    num_classes = len(classes)\n",
    "    samples_per_class = n // num_classes\n",
    "\n",
    "    # perform stratified sampling with validation\n",
    "    stratified_sample = []\n",
    "    class_counts = {}\n",
    "    for class_name, items in classes.items():\n",
    "        valid_items = [item for item in items if is_valid_image(item['image'])]\n",
    "        if len(valid_items) >= samples_per_class:\n",
    "            selected = random.sample(valid_items, samples_per_class)\n",
    "            stratified_sample.extend(selected)\n",
    "            class_counts[class_name] = len(selected)\n",
    "        else:\n",
    "            stratified_sample.extend(valid_items)\n",
    "            class_counts[class_name] = len(valid_items)\n",
    "    \n",
    "    # if there aren't enough samples, add more from classes with extra valid samples\n",
    "    while len(stratified_sample) < n:\n",
    "        for class_name, items in classes.items():\n",
    "            if len(stratified_sample) >= n:\n",
    "                break\n",
    "            valid_items = [item for item in items if is_valid_image(item['image']) and item not in stratified_sample]\n",
    "            if valid_items:\n",
    "                stratified_sample.append(random.choice(valid_items))\n",
    "                class_counts[class_name] += 1\n",
    "\n",
    "    return stratified_sample[:n]"
   ]
  },
  {
   "cell_type": "code",
   "execution_count": null,
   "metadata": {},
   "outputs": [],
   "source": [
    "def load_data(file_path):\n",
    "    with open(file_path, 'r') as f:\n",
    "        return [json.loads(line) for line in f]\n",
    "    \n",
    "test_data = load_data('../data/food-ingredients/test.jsonl')\n",
    "test_data_500 = stratified_sample(test_data, 500)"
   ]
  },
  {
   "cell_type": "code",
   "execution_count": null,
   "metadata": {},
   "outputs": [],
   "source": [
    "# check how many images per class are in the test_data_500\n",
    "classes = {}\n",
    "for item in test_data_500:\n",
    "    class_name = item['class']\n",
    "    if class_name not in classes:\n",
    "        classes[class_name] = 0\n",
    "    classes[class_name] += 1\n",
    "\n",
    "print(classes)"
   ]
  },
  {
   "cell_type": "code",
   "execution_count": null,
   "metadata": {},
   "outputs": [],
   "source": [
    "# save stratified sample to file\n",
    "def save_data(data, file_path):\n",
    "    with open(file_path, 'w') as f:\n",
    "        for item in data:\n",
    "            f.write(json.dumps(item) + '\\n')\n",
    "\n",
    "save_data(test_data_500, '../data/food-ingredients/test_500.jsonl')"
   ]
  }
 ],
 "metadata": {
  "kernelspec": {
   "display_name": ".venv",
   "language": "python",
   "name": "python3"
  },
  "language_info": {
   "codemirror_mode": {
    "name": "ipython",
    "version": 3
   },
   "file_extension": ".py",
   "mimetype": "text/x-python",
   "name": "python",
   "nbconvert_exporter": "python",
   "pygments_lexer": "ipython3",
   "version": "3.11.5"
  }
 },
 "nbformat": 4,
 "nbformat_minor": 2
}
